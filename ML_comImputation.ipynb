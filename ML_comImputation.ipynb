{
 "cells": [
  {
   "cell_type": "markdown",
   "metadata": {
    "id": "WuC9z9d_9wiG"
   },
   "source": [
    "# **SSC0957 - Prática em Ciência de Dados II**\n",
    "---\n",
    "\n",
    "### **Alunos:**\n",
    "> #### Arthur Santorum Lorenzetto - 12559465\n",
    "> #### André Guarnier De Mitri    - 11395579\n",
    "> #### Rui Emanuel Lima Vieira    - 11819182\n",
    "\n",
    "### **Professor:** Alexandre Claudio Botazzo Delbem\n",
    "---"
   ]
  },
  {
   "cell_type": "markdown",
   "metadata": {
    "id": "7jwSFMAh9aBu"
   },
   "source": [
    "\n",
    "Este trabalho utilizou dados disponibilizados pelo repositório COVID-19 Data Sharing/BR, disponível em:\n",
    "https://repositoriodatasharingfapesp.uspdigital.usp.br/\".\n"
   ]
  },
  {
   "cell_type": "markdown",
   "metadata": {
    "id": "S7z6eT054hTH"
   },
   "source": [
    "# 1. Introdução"
   ]
  },
  {
   "cell_type": "markdown",
   "metadata": {
    "id": "VNPxfzBEdIU5"
   },
   "source": [
    "# Carregando Dados\n"
   ]
  },
  {
   "cell_type": "code",
   "execution_count": 1,
   "metadata": {
    "id": "L0bO9FlR8XfU"
   },
   "outputs": [],
   "source": [
    "import pandas as pd\n",
    "import numpy as np\n",
    "import matplotlib.pyplot as plt\n",
    "import plotly.express as px\n",
    "import plotly.graph_objects as go\n",
    "from plotly.subplots import make_subplots\n",
    "import seaborn as sns"
   ]
  },
  {
   "cell_type": "code",
   "execution_count": 2,
   "metadata": {
    "colab": {
     "base_uri": "https://localhost:8080/",
     "height": 342
    },
    "id": "JwpBAHlWMpJy",
    "outputId": "6b726105-04ee-4dda-856c-e731af812516"
   },
   "outputs": [
    {
     "data": {
      "text/html": [
       "<div>\n",
       "<style scoped>\n",
       "    .dataframe tbody tr th:only-of-type {\n",
       "        vertical-align: middle;\n",
       "    }\n",
       "\n",
       "    .dataframe tbody tr th {\n",
       "        vertical-align: top;\n",
       "    }\n",
       "\n",
       "    .dataframe thead th {\n",
       "        text-align: right;\n",
       "    }\n",
       "</style>\n",
       "<table border=\"1\" class=\"dataframe\">\n",
       "  <thead>\n",
       "    <tr style=\"text-align: right;\">\n",
       "      <th></th>\n",
       "      <th>regiao_FIOCRUZ</th>\n",
       "      <th>estado_FIOCRUZ</th>\n",
       "      <th>municipio_FIOCRUZ</th>\n",
       "      <th>coduf_FIOCRUZ</th>\n",
       "      <th>codmun_FIOCRUZ</th>\n",
       "      <th>codRegiaoSaude_FIOCRUZ</th>\n",
       "      <th>nomeRegiaoSaude_FIOCRUZ</th>\n",
       "      <th>data_FIOCRUZ</th>\n",
       "      <th>semanaEpi_FIOCRUZ</th>\n",
       "      <th>populacaoTCU2019_FIOCRUZ</th>\n",
       "      <th>...</th>\n",
       "      <th>pneumopatia_pre</th>\n",
       "      <th>puerpera_pre</th>\n",
       "      <th>sindrome_de_down_pre</th>\n",
       "      <th>estado</th>\n",
       "      <th>QUANTIDADE_TIPO_TRANSPORTE_respiradores_pedido</th>\n",
       "      <th>QUANTIDADE_TIPO_UTI_respiradores_pedido</th>\n",
       "      <th>QUANTIDADE_TIPO_TRANSPORTE_USA_respiradores_pedido</th>\n",
       "      <th>QUANTIDADE_TIPO_TRANSPORTE_respiradores_entrega</th>\n",
       "      <th>QUANTIDADE_TIPO_UTI_respiradores_entrega</th>\n",
       "      <th>QUANTIDADE_TIPO_TRANSPORTE_USA_respiradores_entrega</th>\n",
       "    </tr>\n",
       "  </thead>\n",
       "  <tbody>\n",
       "    <tr>\n",
       "      <th>0</th>\n",
       "      <td>Norte</td>\n",
       "      <td>RO</td>\n",
       "      <td>ALTA FLORESTA D'OESTE</td>\n",
       "      <td>11</td>\n",
       "      <td>110001.0</td>\n",
       "      <td>11005.0</td>\n",
       "      <td>ZONA DA MATA</td>\n",
       "      <td>2020-04-10</td>\n",
       "      <td>15</td>\n",
       "      <td>22945.0</td>\n",
       "      <td>...</td>\n",
       "      <td>None</td>\n",
       "      <td>None</td>\n",
       "      <td>None</td>\n",
       "      <td>None</td>\n",
       "      <td>NaN</td>\n",
       "      <td>NaN</td>\n",
       "      <td>NaN</td>\n",
       "      <td>NaN</td>\n",
       "      <td>NaN</td>\n",
       "      <td>NaN</td>\n",
       "    </tr>\n",
       "    <tr>\n",
       "      <th>1</th>\n",
       "      <td>Norte</td>\n",
       "      <td>RO</td>\n",
       "      <td>ALTA FLORESTA D'OESTE</td>\n",
       "      <td>11</td>\n",
       "      <td>110001.0</td>\n",
       "      <td>11005.0</td>\n",
       "      <td>ZONA DA MATA</td>\n",
       "      <td>2020-04-11</td>\n",
       "      <td>15</td>\n",
       "      <td>22945.0</td>\n",
       "      <td>...</td>\n",
       "      <td>None</td>\n",
       "      <td>None</td>\n",
       "      <td>None</td>\n",
       "      <td>None</td>\n",
       "      <td>NaN</td>\n",
       "      <td>NaN</td>\n",
       "      <td>NaN</td>\n",
       "      <td>NaN</td>\n",
       "      <td>NaN</td>\n",
       "      <td>NaN</td>\n",
       "    </tr>\n",
       "    <tr>\n",
       "      <th>2</th>\n",
       "      <td>Norte</td>\n",
       "      <td>RO</td>\n",
       "      <td>ALTA FLORESTA D'OESTE</td>\n",
       "      <td>11</td>\n",
       "      <td>110001.0</td>\n",
       "      <td>11005.0</td>\n",
       "      <td>ZONA DA MATA</td>\n",
       "      <td>2020-04-12</td>\n",
       "      <td>16</td>\n",
       "      <td>22945.0</td>\n",
       "      <td>...</td>\n",
       "      <td>None</td>\n",
       "      <td>None</td>\n",
       "      <td>None</td>\n",
       "      <td>None</td>\n",
       "      <td>NaN</td>\n",
       "      <td>NaN</td>\n",
       "      <td>NaN</td>\n",
       "      <td>NaN</td>\n",
       "      <td>NaN</td>\n",
       "      <td>NaN</td>\n",
       "    </tr>\n",
       "    <tr>\n",
       "      <th>3</th>\n",
       "      <td>Norte</td>\n",
       "      <td>RO</td>\n",
       "      <td>ALTA FLORESTA D'OESTE</td>\n",
       "      <td>11</td>\n",
       "      <td>110001.0</td>\n",
       "      <td>11005.0</td>\n",
       "      <td>ZONA DA MATA</td>\n",
       "      <td>2020-04-13</td>\n",
       "      <td>16</td>\n",
       "      <td>22945.0</td>\n",
       "      <td>...</td>\n",
       "      <td>None</td>\n",
       "      <td>None</td>\n",
       "      <td>None</td>\n",
       "      <td>None</td>\n",
       "      <td>NaN</td>\n",
       "      <td>NaN</td>\n",
       "      <td>NaN</td>\n",
       "      <td>NaN</td>\n",
       "      <td>NaN</td>\n",
       "      <td>NaN</td>\n",
       "    </tr>\n",
       "    <tr>\n",
       "      <th>4</th>\n",
       "      <td>Norte</td>\n",
       "      <td>RO</td>\n",
       "      <td>ALTA FLORESTA D'OESTE</td>\n",
       "      <td>11</td>\n",
       "      <td>110001.0</td>\n",
       "      <td>11005.0</td>\n",
       "      <td>ZONA DA MATA</td>\n",
       "      <td>2020-04-14</td>\n",
       "      <td>16</td>\n",
       "      <td>22945.0</td>\n",
       "      <td>...</td>\n",
       "      <td>None</td>\n",
       "      <td>None</td>\n",
       "      <td>None</td>\n",
       "      <td>None</td>\n",
       "      <td>NaN</td>\n",
       "      <td>NaN</td>\n",
       "      <td>NaN</td>\n",
       "      <td>NaN</td>\n",
       "      <td>NaN</td>\n",
       "      <td>NaN</td>\n",
       "    </tr>\n",
       "  </tbody>\n",
       "</table>\n",
       "<p>5 rows × 67 columns</p>\n",
       "</div>"
      ],
      "text/plain": [
       "  regiao_FIOCRUZ estado_FIOCRUZ      municipio_FIOCRUZ  coduf_FIOCRUZ  \\\n",
       "0          Norte             RO  ALTA FLORESTA D'OESTE             11   \n",
       "1          Norte             RO  ALTA FLORESTA D'OESTE             11   \n",
       "2          Norte             RO  ALTA FLORESTA D'OESTE             11   \n",
       "3          Norte             RO  ALTA FLORESTA D'OESTE             11   \n",
       "4          Norte             RO  ALTA FLORESTA D'OESTE             11   \n",
       "\n",
       "   codmun_FIOCRUZ  codRegiaoSaude_FIOCRUZ nomeRegiaoSaude_FIOCRUZ  \\\n",
       "0        110001.0                 11005.0            ZONA DA MATA   \n",
       "1        110001.0                 11005.0            ZONA DA MATA   \n",
       "2        110001.0                 11005.0            ZONA DA MATA   \n",
       "3        110001.0                 11005.0            ZONA DA MATA   \n",
       "4        110001.0                 11005.0            ZONA DA MATA   \n",
       "\n",
       "  data_FIOCRUZ  semanaEpi_FIOCRUZ  populacaoTCU2019_FIOCRUZ  ...  \\\n",
       "0   2020-04-10                 15                   22945.0  ...   \n",
       "1   2020-04-11                 15                   22945.0  ...   \n",
       "2   2020-04-12                 16                   22945.0  ...   \n",
       "3   2020-04-13                 16                   22945.0  ...   \n",
       "4   2020-04-14                 16                   22945.0  ...   \n",
       "\n",
       "   pneumopatia_pre  puerpera_pre  sindrome_de_down_pre  estado  \\\n",
       "0             None          None                  None    None   \n",
       "1             None          None                  None    None   \n",
       "2             None          None                  None    None   \n",
       "3             None          None                  None    None   \n",
       "4             None          None                  None    None   \n",
       "\n",
       "  QUANTIDADE_TIPO_TRANSPORTE_respiradores_pedido  \\\n",
       "0                                            NaN   \n",
       "1                                            NaN   \n",
       "2                                            NaN   \n",
       "3                                            NaN   \n",
       "4                                            NaN   \n",
       "\n",
       "   QUANTIDADE_TIPO_UTI_respiradores_pedido  \\\n",
       "0                                      NaN   \n",
       "1                                      NaN   \n",
       "2                                      NaN   \n",
       "3                                      NaN   \n",
       "4                                      NaN   \n",
       "\n",
       "   QUANTIDADE_TIPO_TRANSPORTE_USA_respiradores_pedido  \\\n",
       "0                                                NaN    \n",
       "1                                                NaN    \n",
       "2                                                NaN    \n",
       "3                                                NaN    \n",
       "4                                                NaN    \n",
       "\n",
       "   QUANTIDADE_TIPO_TRANSPORTE_respiradores_entrega  \\\n",
       "0                                              NaN   \n",
       "1                                              NaN   \n",
       "2                                              NaN   \n",
       "3                                              NaN   \n",
       "4                                              NaN   \n",
       "\n",
       "   QUANTIDADE_TIPO_UTI_respiradores_entrega  \\\n",
       "0                                       NaN   \n",
       "1                                       NaN   \n",
       "2                                       NaN   \n",
       "3                                       NaN   \n",
       "4                                       NaN   \n",
       "\n",
       "   QUANTIDADE_TIPO_TRANSPORTE_USA_respiradores_entrega  \n",
       "0                                                NaN    \n",
       "1                                                NaN    \n",
       "2                                                NaN    \n",
       "3                                                NaN    \n",
       "4                                                NaN    \n",
       "\n",
       "[5 rows x 67 columns]"
      ]
     },
     "execution_count": 2,
     "metadata": {},
     "output_type": "execute_result"
    }
   ],
   "source": [
    "casos = pd.read_parquet('Dados/casos_agrupados.parquet', engine='pyarrow')\n",
    "casos.head()"
   ]
  },
  {
   "cell_type": "markdown",
   "metadata": {
    "id": "c7klNSHLhq7s"
   },
   "source": [
    "# Análise Exploratória Casos e Óbitos"
   ]
  },
  {
   "cell_type": "code",
   "execution_count": 3,
   "metadata": {
    "colab": {
     "base_uri": "https://localhost:8080/"
    },
    "id": "IGQiepB1bLoO",
    "outputId": "b2e2425b-4d32-4243-9b29-2f030b19360c"
   },
   "outputs": [
    {
     "name": "stdout",
     "output_type": "stream",
     "text": [
      "<class 'pandas.core.frame.DataFrame'>\n",
      "Index: 2111030 entries, 0 to 2111029\n",
      "Data columns (total 67 columns):\n",
      " #   Column                                               Dtype         \n",
      "---  ------                                               -----         \n",
      " 0   regiao_FIOCRUZ                                       object        \n",
      " 1   estado_FIOCRUZ                                       object        \n",
      " 2   municipio_FIOCRUZ                                    object        \n",
      " 3   coduf_FIOCRUZ                                        int64         \n",
      " 4   codmun_FIOCRUZ                                       float64       \n",
      " 5   codRegiaoSaude_FIOCRUZ                               float64       \n",
      " 6   nomeRegiaoSaude_FIOCRUZ                              object        \n",
      " 7   data_FIOCRUZ                                         datetime64[ns]\n",
      " 8   semanaEpi_FIOCRUZ                                    int64         \n",
      " 9   populacaoTCU2019_FIOCRUZ                             float64       \n",
      " 10  casosAcumulado_FIOCRUZ                               int64         \n",
      " 11  casosNovos_FIOCRUZ                                   int64         \n",
      " 12  obitosAcumulado_FIOCRUZ                              int64         \n",
      " 13  obitosNovos_FIOCRUZ                                  int64         \n",
      " 14  interior_metropolitana_FIOCRUZ                       category      \n",
      " 15  codigo_ibge_sp                                       float64       \n",
      " 16  dia_sp                                               float64       \n",
      " 17  mes_sp                                               float64       \n",
      " 18  casos_sp                                             float64       \n",
      " 19  casos_novos_sp                                       float64       \n",
      " 20  casos_pc_sp                                          float64       \n",
      " 21  casos_mm7d_sp                                        float64       \n",
      " 22  obitos_sp                                            float64       \n",
      " 23  obitos_novos_sp                                      float64       \n",
      " 24  obitos_pc_sp                                         float64       \n",
      " 25  obitos_mm7d_sp                                       float64       \n",
      " 26  letalidade_sp                                        float64       \n",
      " 27  nome_ra_sp                                           category      \n",
      " 28  cod_ra_sp                                            float64       \n",
      " 29  nome_drs_sp                                          category      \n",
      " 30  cod_drs_sp                                           float64       \n",
      " 31  pop_sp                                               float64       \n",
      " 32  pop_60_sp                                            float64       \n",
      " 33  map_leg_sp                                           object        \n",
      " 34  map_leg_s_sp                                         float64       \n",
      " 35  latitude_sp                                          float64       \n",
      " 36  longitude_sp                                         float64       \n",
      " 37  semana_epidem_sp                                     float64       \n",
      " 38  perc_60_sp                                           float64       \n",
      " 39  Municípios_sp                                        object        \n",
      " 40  area_sp                                              float64       \n",
      " 41  densi_pop_sp                                         float64       \n",
      " 42  densi_pop_60_sp                                      float64       \n",
      " 43  codigo_ibge_pre                                      float64       \n",
      " 44  idade_pre                                            object        \n",
      " 45  cs_sexo_pre                                          object        \n",
      " 46  obito_pre                                            object        \n",
      " 47  asma_pre                                             object        \n",
      " 48  cardiopatia_pre                                      object        \n",
      " 49  diabetes_pre                                         object        \n",
      " 50  doenca_hematologica_pre                              object        \n",
      " 51  doenca_hepatica_pre                                  object        \n",
      " 52  doenca_neurologica_pre                               object        \n",
      " 53  doenca_renal_pre                                     object        \n",
      " 54  imunodepressao_pre                                   object        \n",
      " 55  obesidade_pre                                        object        \n",
      " 56  outros_fatores_de_risco_pre                          object        \n",
      " 57  pneumopatia_pre                                      object        \n",
      " 58  puerpera_pre                                         object        \n",
      " 59  sindrome_de_down_pre                                 object        \n",
      " 60  estado                                               object        \n",
      " 61  QUANTIDADE_TIPO_TRANSPORTE_respiradores_pedido       float64       \n",
      " 62  QUANTIDADE_TIPO_UTI_respiradores_pedido              float64       \n",
      " 63  QUANTIDADE_TIPO_TRANSPORTE_USA_respiradores_pedido   float64       \n",
      " 64  QUANTIDADE_TIPO_TRANSPORTE_respiradores_entrega      float64       \n",
      " 65  QUANTIDADE_TIPO_UTI_respiradores_entrega             float64       \n",
      " 66  QUANTIDADE_TIPO_TRANSPORTE_USA_respiradores_entrega  float64       \n",
      "dtypes: category(3), datetime64[ns](1), float64(34), int64(6), object(23)\n",
      "memory usage: 1.0+ GB\n"
     ]
    }
   ],
   "source": [
    "casos.info()"
   ]
  },
  {
   "cell_type": "code",
   "execution_count": 4,
   "metadata": {
    "id": "XK3LRUdHbZyi"
   },
   "outputs": [],
   "source": [
    "def retorna_dados_lista(name,lista_idade,indice_lista):\n",
    "    if(len(indice_lista[0]) == 0):\n",
    "        return np.nan\n",
    "    else:\n",
    "        return lista_idade[indice_lista]\n",
    "\n",
    "def df_explode_idade(df,obito=None):\n",
    "    return df.query(\"obito_pre == obito_pre\") \\\n",
    "                 .assign(index = lambda x: x[\"obito_pre\"].apply(lambda y: np.where(y == obito) if obito is not None\n",
    "                                                                                           else np.where(y >= 0))) \\\n",
    "                 .assign(idade = lambda x: x.apply(lambda y: retorna_dados_lista(y.name,\n",
    "                                                                                 y['idade_pre'],\n",
    "                                                                                 y['index']),\n",
    "                                                         axis=1),\n",
    "                        sexo = lambda x: x.apply(lambda y: retorna_dados_lista(y.name,\n",
    "                                                                                 y['cs_sexo_pre'],\n",
    "                                                                                 y['index']),\n",
    "                                                         axis=1)).explode([\"idade\",\"sexo\"])\n",
    "\n",
    "# def hist_individuos_contaminados_ORIGINAL(df,title,obito=None):\n",
    "#     df_explode_idade(df,obito).idade.hist(bins=19)\n",
    "#     plt.title(title)\n",
    "#     plt.xlabel(\"Idade\")\n",
    "#     plt.ylabel(\"Quantidade de pessoas\")\n",
    "#     plt.show()\n",
    "\n",
    "def hist_individuos_contaminados(df, title, obito=None):\n",
    "    df_exploded = df_explode_idade(df, obito)\n",
    "    fig = px.histogram(\n",
    "        df_exploded, x=\"idade\", nbins=40, title=title,\n",
    "        labels={\"idade\": \"Idade\"}\n",
    "    )\n",
    "    fig.update_layout(yaxis_title=\"Quantidade de pessoas\")\n",
    "    fig.show()"
   ]
  },
  {
   "cell_type": "code",
   "execution_count": null,
   "metadata": {
    "colab": {
     "base_uri": "https://localhost:8080/",
     "height": 542
    },
    "id": "ucFvS9YEf9WK",
    "outputId": "0410d483-2517-40aa-f4f1-eed0507750a4"
   },
   "outputs": [],
   "source": [
    "hist_individuos_contaminados(casos,\"Histograma da idade dos indivíduos contaminados\")"
   ]
  },
  {
   "cell_type": "code",
   "execution_count": null,
   "metadata": {
    "colab": {
     "base_uri": "https://localhost:8080/",
     "height": 542
    },
    "id": "ct1qcAUIfsiU",
    "outputId": "1115ded1-a6fb-4cbc-84f7-546471d12323"
   },
   "outputs": [],
   "source": [
    "hist_individuos_contaminados(casos,\"Histograma da idade dos indivíduos que APENAS se contaminaram no período apurado\",0)"
   ]
  },
  {
   "cell_type": "code",
   "execution_count": null,
   "metadata": {
    "colab": {
     "base_uri": "https://localhost:8080/",
     "height": 542
    },
    "id": "BQjcMFz7dGzI",
    "outputId": "994d9558-6d64-4955-f123-2bd1052c8e8c"
   },
   "outputs": [],
   "source": [
    "hist_individuos_contaminados(casos,\"Histograma da idade dos indivíduos que vieram a falecer no período apurado\",1)"
   ]
  },
  {
   "cell_type": "code",
   "execution_count": null,
   "metadata": {
    "colab": {
     "base_uri": "https://localhost:8080/",
     "height": 542
    },
    "id": "hMVq_Rxvpy9j",
    "outputId": "4d5c54dd-28d8-49fb-9abd-4d0171663523"
   },
   "outputs": [],
   "source": [
    "# Criar um gráfico de histograma para o primeiro conjunto de dados\n",
    "fig1 = px.histogram(df_explode_idade(casos).idade, nbins=19)\n",
    "\n",
    "# Criar um gráfico de histograma para o segundo conjunto de dados\n",
    "fig2 = px.histogram(df_explode_idade(casos, 1).idade, nbins=19)\n",
    "\n",
    "# Criar um subplot com os dois gráficos de histograma\n",
    "from plotly.subplots import make_subplots\n",
    "\n",
    "fig = make_subplots(rows=1, cols=2, subplot_titles=[\"Contaminados\", \"Óbitos\"])\n",
    "fig.update_layout(title_text= \"Contaminados x Óbitos\", showlegend=False)\n",
    "fig.add_trace(fig1.data[0], row=1, col=1)\n",
    "fig.add_trace(fig2.data[0], row=1, col=2)\n",
    "fig.update_xaxes(title_text=\"Idade\")\n",
    "fig.update_yaxes(title_text=\"Quantidade de pessoas\")\n",
    "\n",
    "# Mostrar o subplot\n",
    "fig.show()"
   ]
  },
  {
   "cell_type": "code",
   "execution_count": null,
   "metadata": {
    "colab": {
     "base_uri": "https://localhost:8080/",
     "height": 472
    },
    "id": "5yiEuoQfh045",
    "outputId": "80b909fe-e7b7-425e-af7b-ba309fb7917b"
   },
   "outputs": [],
   "source": [
    "df_explode_idade(casos).idade.hist(bins=19)\n",
    "df_explode_idade(casos,1).idade.hist(bins=19)\n",
    "\n",
    "plt.title(\"Contaminados x Mortos\")\n",
    "plt.xlabel(\"Idade\")\n",
    "plt.ylabel(\"Quantidade de pessoas\")\n",
    "plt.show()"
   ]
  },
  {
   "cell_type": "code",
   "execution_count": null,
   "metadata": {
    "colab": {
     "base_uri": "https://localhost:8080/",
     "height": 112
    },
    "id": "YlseyO8kra-0",
    "outputId": "633da965-c286-423e-9046-11a12b3d8869"
   },
   "outputs": [],
   "source": [
    "casos = casos.assign(nao_morte = lambda x: x[\"obito_pre\"].apply(lambda y: len(np.where(y == 0)[0])),\n",
    "                             morte = lambda x: x[\"obito_pre\"].apply(lambda y: len(np.where(y == 1)[0])))\n",
    "\n",
    "def obitos_nao_obitos_contaminados(df):\n",
    "    return df.melt(id_vars = [\"municipio_FIOCRUZ\",\"data_FIOCRUZ\"],value_vars = ['nao_morte','morte'],\n",
    "                                            var_name = 'situacao',value_name='quantidade') \\\n",
    "             .groupby(\"situacao\").quantidade.sum().reset_index() \\\n",
    "             .assign(perc_quantidade = lambda x: 100*x[\"quantidade\"]/x[\"quantidade\"].sum())\n",
    "\n",
    "obitos_nao_obitos_contaminados(casos)"
   ]
  },
  {
   "cell_type": "code",
   "execution_count": null,
   "metadata": {
    "colab": {
     "base_uri": "https://localhost:8080/"
    },
    "id": "qOzMUH90r2J3",
    "outputId": "3509d656-9496-4a65-c1c6-b78599b52ebc"
   },
   "outputs": [],
   "source": [
    " # Casos por município\n",
    "def volume_casos(df):\n",
    "    return df.groupby(\"municipio_FIOCRUZ\").casosNovos_FIOCRUZ.sum().sort_values(ascending=False)\n",
    "\n",
    "volume_casos(casos).head(20)"
   ]
  },
  {
   "cell_type": "code",
   "execution_count": null,
   "metadata": {
    "colab": {
     "base_uri": "https://localhost:8080/",
     "height": 559
    },
    "id": "MADkpKQ3GD8g",
    "outputId": "23c97542-15ed-4701-b8c9-6a0f2e1d7d35"
   },
   "outputs": [],
   "source": [
    "def regplot_perc_log(df, x, y):\n",
    "    df_grouped = df.groupby(\"municipio_FIOCRUZ\").agg({\n",
    "        'casosNovos_FIOCRUZ': sum,\n",
    "        'obitosNovos_FIOCRUZ': sum,\n",
    "        'populacaoTCU2019_FIOCRUZ': 'mean'\n",
    "    })\n",
    "\n",
    "    df_grouped['perc_casos'] = 100 * df_grouped['casosNovos_FIOCRUZ'] / df_grouped['populacaoTCU2019_FIOCRUZ']\n",
    "    df_grouped['perc_obitos'] = 100 * df_grouped['obitosNovos_FIOCRUZ'] / df_grouped['populacaoTCU2019_FIOCRUZ']\n",
    "    df_grouped['poplog'] = np.log(df_grouped['populacaoTCU2019_FIOCRUZ'])\n",
    "    df_grouped['perc_obitos_casos'] = 100 * df_grouped['obitosNovos_FIOCRUZ'] / df_grouped['casosNovos_FIOCRUZ']\n",
    "    df_grouped['casoslog'] = np.log(df_grouped['casosNovos_FIOCRUZ'])\n",
    "    df_sorted = df_grouped.sort_values('perc_casos')\n",
    "\n",
    "    fig = px.scatter(df_sorted, x=x, y=y, text=df_sorted.index)\n",
    "    fig.update_traces(textfont=dict(size=1), marker=dict(size=12))\n",
    "    fig.update_layout(\n",
    "        xaxis_title=x,\n",
    "        yaxis_title=y,\n",
    "        showlegend=False,\n",
    "    )\n",
    "\n",
    "    # Adiciona a linha de regressão\n",
    "    fig.add_trace(px.scatter(df_sorted, x=x, y=y, trendline=\"ols\").data[1])\n",
    "    # fig.data[1].line.color = 'red'  # Personalize a cor da linha de regressão\n",
    "\n",
    "    return fig\n",
    "\n",
    "print(\"Por conta da cidade de São Paulo ser um outlier no número de habitantes, precisamos fazer uma transformação para que este problema não seja percebido\")\n",
    "fig = regplot_perc_log(casos, 'perc_casos', 'populacaoTCU2019_FIOCRUZ')\n",
    "fig.update_layout(\n",
    "    title='Relação entre a quantidade de casos e população',\n",
    "    xaxis_title=\"Percentual de casos\",\n",
    "    yaxis_title=\"População da cidade\",\n",
    "    showlegend=False,\n",
    ")"
   ]
  },
  {
   "cell_type": "code",
   "execution_count": null,
   "metadata": {
    "colab": {
     "base_uri": "https://localhost:8080/",
     "height": 542
    },
    "id": "tnzoluocH_Np",
    "outputId": "2eae7394-c78f-474a-8519-77198532bb0d"
   },
   "outputs": [],
   "source": [
    "fig = regplot_perc_log(casos, 'perc_casos', 'poplog')\n",
    "fig.update_layout(\n",
    "    title='Relação entre a quantidade de casos e população',\n",
    "    xaxis_title=\"Percentual de casos\",\n",
    "    yaxis_title=\"População da cidade (log)\",\n",
    "    showlegend=False,\n",
    ")"
   ]
  },
  {
   "cell_type": "code",
   "execution_count": null,
   "metadata": {
    "colab": {
     "base_uri": "https://localhost:8080/",
     "height": 542
    },
    "id": "6ByeV-bhLkMh",
    "outputId": "af618683-afd8-4461-cc61-f6536a99bcdc"
   },
   "outputs": [],
   "source": [
    "fig = regplot_perc_log(casos, 'perc_obitos', 'poplog')\n",
    "fig.update_layout(\n",
    "    title='Relação entre a quantidade de óbitos e população',\n",
    "    xaxis_title=\"Percentual de óbitos\",\n",
    "    yaxis_title=\"População da cidade (log)\",\n",
    "    showlegend=False,\n",
    ")"
   ]
  },
  {
   "cell_type": "code",
   "execution_count": null,
   "metadata": {
    "colab": {
     "base_uri": "https://localhost:8080/",
     "height": 542
    },
    "id": "Sh4jIgnNNiS8",
    "outputId": "de071175-9247-49a3-a19d-9f7943c689a9"
   },
   "outputs": [],
   "source": [
    "fig = regplot_perc_log(casos, 'perc_obitos_casos', 'casoslog')\n",
    "fig.update_layout(\n",
    "    title='Relação entre a quantidade de casos e óbitos',\n",
    "    xaxis_title=\"Percentual de óbitos\",\n",
    "    yaxis_title=\"População da cidade (log)\",\n",
    "    showlegend=False,\n",
    ")"
   ]
  },
  {
   "cell_type": "markdown",
   "metadata": {
    "id": "eODLEW5wavsF"
   },
   "source": [
    "# Plots Comorbidades"
   ]
  },
  {
   "cell_type": "code",
   "execution_count": null,
   "metadata": {
    "id": "gljpdm76OYbS"
   },
   "outputs": [],
   "source": [
    "comorbidades = ['asma_pre',\n",
    "                 'cardiopatia_pre',\n",
    "                 'diabetes_pre',\n",
    "                 'doenca_hematologica_pre',\n",
    "                 'doenca_hepatica_pre',\n",
    "                 'doenca_neurologica_pre',\n",
    "                 'doenca_renal_pre',\n",
    "                 'imunodepressao_pre',\n",
    "                 'obesidade_pre',\n",
    "                 'outros_fatores_de_risco_pre',\n",
    "                 'pneumopatia_pre',\n",
    "                 'puerpera_pre',\n",
    "                 'sindrome_de_down_pre']"
   ]
  },
  {
   "cell_type": "code",
   "execution_count": null,
   "metadata": {
    "id": "517rAot_Xsd9"
   },
   "outputs": [],
   "source": [
    "def explode_comorbidade_df(df):\n",
    "    explode = df[[\"municipio_FIOCRUZ\",\"data_FIOCRUZ\",\"obito_pre\",\"cs_sexo_pre\",\"idade_pre\"]+comorbidades] \\\n",
    "                             .explode([\"idade_pre\",'obito_pre','cs_sexo_pre']+comorbidades).reset_index(drop=True) \\\n",
    "                             .assign(alguma_comorbidade = lambda x: (x[comorbidades]==\"sim\") \\\n",
    "                                                                           .apply(lambda y: any(y),axis=1),\n",
    "                                     totalmente_ignorado = lambda x: (x[comorbidades]==\"ignorado\") \\\n",
    "                                                                       .apply(lambda y: all(y),axis=1)) \\\n",
    "                             .assign(alguma_comorbidade = lambda x: np.where(x[\"alguma_comorbidade\"] == True,\"sim\",\n",
    "                                                                          np.where(x[\"totalmente_ignorado\"] == True,\n",
    "                                                                                    \"ignorado\",\n",
    "                                                                                    \"não\")))\n",
    "    return explode\n",
    "\n",
    "casos_explode = explode_comorbidade_df(casos)"
   ]
  },
  {
   "cell_type": "code",
   "execution_count": null,
   "metadata": {
    "colab": {
     "base_uri": "https://localhost:8080/",
     "height": 486
    },
    "id": "klGwhBl9XsaZ",
    "outputId": "0aaf82be-e053-47c9-de7f-8594b8123131"
   },
   "outputs": [],
   "source": [
    "sns.countplot(data = casos_explode,x = \"alguma_comorbidade\")\n",
    "plt.title(\"Qtd de pessoas que se contaminaram com o vírus\")\n",
    "plt.tight_layout()\n",
    "plt.xlabel(\"Paciente com alguma comorbidade?\")\n",
    "plt.ylabel(\"Quantidade de indivíduos contaminados\")\n",
    "plt.show()"
   ]
  },
  {
   "cell_type": "code",
   "execution_count": null,
   "metadata": {
    "colab": {
     "base_uri": "https://localhost:8080/",
     "height": 472
    },
    "id": "7z1LcOdeXsX5",
    "outputId": "a9afad06-8b72-4de4-b6a7-ebcd7d2e71dc"
   },
   "outputs": [],
   "source": [
    "# Nota-se que há uma diferença entre ter alguma comorbidade e os casos com óbito: existe uma relação entre eles\n",
    "sns.countplot(data = casos_explode.query(\"obito_pre == 1\"),x = \"alguma_comorbidade\")\n",
    "plt.title(\"Qtd de pessoas que morreram e se tinham alguma comorbidade\")\n",
    "plt.xlabel(\"Paciente com alguma comorbidade?\")\n",
    "plt.ylabel(\"Quantidade de pacientes que vieram a falecer\")\n",
    "plt.show()"
   ]
  },
  {
   "cell_type": "code",
   "execution_count": null,
   "metadata": {
    "colab": {
     "base_uri": "https://localhost:8080/",
     "height": 472
    },
    "id": "Yp0D1COdXsV0",
    "outputId": "2d492168-946e-4206-d8e3-8f43a69b7829"
   },
   "outputs": [],
   "source": [
    "# Vendo se uma comorbidade sobresai\n",
    "palette = sns.color_palette(\"pastel\")\n",
    "\n",
    "sns.countplot(data =\n",
    "                    casos_explode.query(\"alguma_comorbidade == 'sim'\") \\\n",
    "                                    .melt(id_vars=['municipio_FIOCRUZ','data_FIOCRUZ','obito_pre','idade_pre'],\n",
    "                                            value_vars=comorbidades,\n",
    "                                            value_name=\"existencia_comorbidade\",\n",
    "                                            var_name= \"comorbidade\") \\\n",
    "                                    .query(\"existencia_comorbidade == 'sim'\"),\n",
    "              y='comorbidade',\n",
    "              hue=\"obito_pre\",\n",
    "              palette=palette)\n",
    "plt.title(\"Volume por comorbidades (de óbitos e não óbitos)\")\n",
    "plt.xlabel(\"Qtd de óbitos\")\n",
    "plt.ylabel(\"Comorbidade\")\n",
    "plt.show()"
   ]
  },
  {
   "cell_type": "code",
   "execution_count": null,
   "metadata": {
    "colab": {
     "base_uri": "https://localhost:8080/",
     "height": 472
    },
    "id": "eoosnDzpXr7Q",
    "outputId": "5fa17641-12ae-4fe9-a9b1-f9d2a2356c80"
   },
   "outputs": [],
   "source": [
    "sns.countplot(data = casos_explode.query(\"obito_pre == 1 & alguma_comorbidade == 'sim'\") \\\n",
    "                                    .melt(id_vars=['municipio_FIOCRUZ','data_FIOCRUZ','obito_pre','idade_pre'],\n",
    "                                            value_vars=comorbidades,\n",
    "                                            value_name=\"existencia_comorbidade\",\n",
    "                                            var_name= \"comorbidade\") \\\n",
    "                                    .query(\"existencia_comorbidade == 'sim'\"),\n",
    "              y='comorbidade',\n",
    "              color = 'C0')\n",
    "plt.title(\"Qtd de pessoas contaminadas e comorbidades\")\n",
    "plt.xlabel(\"Qtd de pessoas contaminadas\")\n",
    "plt.ylabel(\"Comorbidade\")\n",
    "plt.show()"
   ]
  },
  {
   "cell_type": "code",
   "execution_count": null,
   "metadata": {
    "colab": {
     "base_uri": "https://localhost:8080/",
     "height": 472
    },
    "id": "ypQtG8BTaRJt",
    "outputId": "8410a477-be61-4d0e-8bff-a60ed9c0bfec"
   },
   "outputs": [],
   "source": [
    "sns.barplot(data = casos_explode.query(\"alguma_comorbidade == 'sim'\") \\\n",
    "                                    .melt(id_vars=['municipio_FIOCRUZ','data_FIOCRUZ','obito_pre','idade_pre'],\n",
    "                                            value_vars=comorbidades,\n",
    "                                            value_name=\"existencia_comorbidade\",\n",
    "                                            var_name= \"comorbidade\") \\\n",
    "                                    .query(\"existencia_comorbidade == 'sim'\") \\\n",
    "                .pivot_table(index='comorbidade',columns=\"obito_pre\",values=\"existencia_comorbidade\",aggfunc=\"count\") \\\n",
    "                .rename(columns = {0:\"nao_obito\",1:\"obito\"}).assign(perc = lambda x: x[\"obito\"]/(x[\"obito\"]+x[\"nao_obito\"])) \\\n",
    "                .reset_index().sort_values(\"perc\",ascending=False),\n",
    "            x = \"perc\",y = 'comorbidade',color = 'C0')\n",
    "plt.title(\"Percentual de mortes e comorbidades\")\n",
    "plt.xlabel(\"Percentual de óbitos por pessoas contaminadas\")\n",
    "plt.ylabel(\"Comorbidade\")\n",
    "plt.show()"
   ]
  },
  {
   "cell_type": "code",
   "execution_count": null,
   "metadata": {
    "colab": {
     "base_uri": "https://localhost:8080/"
    },
    "id": "zWgs0iKheP5v",
    "outputId": "366420d2-6690-4b09-f576-19416fd039c5"
   },
   "outputs": [],
   "source": [
    "relacao = casos_explode.groupby([\"obito_pre\",\"alguma_comorbidade\"]).agg({\"idade_pre\":\"count\"}).reset_index()\n",
    "\n",
    "#quantidade de obitos com comorbidade frente a todos os obitos\n",
    "relacao_comorbidade_obito = relacao.query(\"%s == 'sim' & obito_pre == 1\" % \"alguma_comorbidade\") \\\n",
    "                                    [\"idade_pre\"].sum() / relacao.query(\"obito_pre == 1\")[\"idade_pre\"].sum()\n",
    "\n",
    "#quantidade de pessoas com comorbidade frente a todos as pessoas contaminadas\n",
    "relacao_comorbidade = relacao.query(\"%s == 'sim'\" % \"alguma_comorbidade\")[\"idade_pre\"].sum()/relacao[\"idade_pre\"].sum()\n",
    "\n",
    "print(\"RCO = Relação de comorbidades associadas aos óbitos\",round(relacao_comorbidade_obito*100,2),\"%\")\n",
    "print(\"RC = Relação de comorbidades associadas à população contaminada\",round(relacao_comorbidade*100,2),\"%\")\n",
    "print(\"Relação RCO/RC\",round(relacao_comorbidade_obito/relacao_comorbidade,2))"
   ]
  },
  {
   "cell_type": "markdown",
   "metadata": {
    "id": "4mDqZ32--Bxr"
   },
   "source": [
    "---\n",
    "---\n"
   ]
  },
  {
   "cell_type": "code",
   "execution_count": null,
   "metadata": {
    "colab": {
     "base_uri": "https://localhost:8080/",
     "height": 506
    },
    "id": "1O5lyDU61zBu",
    "outputId": "267509cc-1969-4290-a425-034acbd805af"
   },
   "outputs": [],
   "source": [
    "# g = sns.relplot(x=casos_explode.query(\"obito_pre == 1 & alguma_comorbidade == 'sim'\") \\\n",
    "#                                     .melt(id_vars=['municipio_FIOCRUZ','data_FIOCRUZ','obito_pre','idade_pre'],\n",
    "#                                             value_vars=comorbidades,\n",
    "#                                             value_name=\"existencia_comorbidade\",\n",
    "#                                             var_name= \"Infecções com comorbidade\") \\\n",
    "#                                     .query(\"existencia_comorbidade == 'sim'\")['Infecções com comorbidade'].value_counts(),\n",
    "#             y= casos_explode.query(\"obito_pre == 1 & alguma_comorbidade == 'sim'\") \\\n",
    "#                                     .melt(id_vars=['municipio_FIOCRUZ','data_FIOCRUZ','obito_pre','idade_pre'],\n",
    "#                                             value_vars=comorbidades,\n",
    "#                                             value_name=\"existencia_comorbidade\",\n",
    "#                                             var_name= \"Obitos com comorbidade\") \\\n",
    "#                                     .query(\"existencia_comorbidade == 'sim'\")['Obitos com comorbidade'].value_counts())\n",
    "# x_limits = g.ax.get_xlim()\n",
    "# y_limits = g.ax.get_ylim()\n",
    "# min_limit = min(min(x_limits), min(y_limits))\n",
    "# max_limit = max(max(x_limits), max(y_limits))\n",
    "# g.ax.plot([min_limit, max_limit], [min_limit, max_limit], color='red', linestyle='--')\n",
    "# plt.show()"
   ]
  },
  {
   "cell_type": "code",
   "execution_count": null,
   "metadata": {
    "colab": {
     "base_uri": "https://localhost:8080/"
    },
    "id": "uvsMXnqmsWJW",
    "outputId": "c03e4451-627b-463d-9e37-248dff84d9cc"
   },
   "outputs": [],
   "source": [
    "# # Vamos verificar os casos percentuais, ou seja, a quantidade de casos pela população do municipio\n",
    "# def regplot_perc_log(df,x,y):\n",
    "#     sns.regplot(\n",
    "#         data = df.groupby(\"municipio_FIOCRUZ\").agg({'casosNovos_FIOCRUZ':sum,\n",
    "#                                                     'obitosNovos_FIOCRUZ':sum,\n",
    "#                                                     'populacaoTCU2019_FIOCRUZ':'mean'}) \\\n",
    "#                  .assign(perc_casos = lambda x: 100*x[\"casosNovos_FIOCRUZ\"]/x[\"populacaoTCU2019_FIOCRUZ\"],\n",
    "#                          perc_obitos = lambda x: 100*x[\"obitosNovos_FIOCRUZ\"]/x[\"populacaoTCU2019_FIOCRUZ\"]).sort_values('perc_casos') \\\n",
    "#                 [[x,'populacaoTCU2019_FIOCRUZ']].assign(poplog = lambda x: np.log(x[\"populacaoTCU2019_FIOCRUZ\"])),\n",
    "#         x = x,\n",
    "#         y = y\n",
    "#     )\n",
    "#     plt.title('Relação entre a quantidade de casos e população')\n",
    "#     plt.tight_layout()\n",
    "\n",
    "\n",
    "# print(\"\"\"Por conta da cidade de São Paulo ser um outlier no número de habitantes, precisamos fazer uma transformação para\n",
    "# que este problema não seja percebido\"\"\")\n",
    "# regplot_perc_log(casos,'perc_casos','populacaoTCU2019_FIOCRUZ')\n",
    "# plt.xlabel(\"Percentual de casos\")\n",
    "# plt.ylabel(\"População da cidade\")\n",
    "# plt.show()"
   ]
  },
  {
   "cell_type": "markdown",
   "metadata": {
    "id": "Y4d1fYU-8MBJ"
   },
   "source": [
    "- Merge com senso atualizado 2022 e comparar com resultados gitlab\n",
    "- Analisar cidades em que quantidade de idosos, jovens, crianças, adultos é mais alta.\n",
    "- informações por genero e faixa etaria\n",
    "- Numero de pacientes por hopital por mes\n"
   ]
  },
  {
   "cell_type": "code",
   "execution_count": null,
   "metadata": {
    "id": "226Q34XL7v0-"
   },
   "outputs": [],
   "source": [
    "df_unica_comorbidade = casos_explode[comorbidades].apply(lambda row: row.eq('sim').sum() == 1, axis=1)\n",
    "df_unica_comorbidade = casos_explode[df_unica_comorbidade]"
   ]
  }
 ],
 "metadata": {
  "colab": {
   "provenance": []
  },
  "kernelspec": {
   "display_name": "Python 3 (ipykernel)",
   "language": "python",
   "name": "python3"
  },
  "language_info": {
   "codemirror_mode": {
    "name": "ipython",
    "version": 3
   },
   "file_extension": ".py",
   "mimetype": "text/x-python",
   "name": "python",
   "nbconvert_exporter": "python",
   "pygments_lexer": "ipython3",
   "version": "3.11.5"
  }
 },
 "nbformat": 4,
 "nbformat_minor": 1
}
