{
 "cells": [
  {
   "cell_type": "code",
   "execution_count": null,
   "id": "85e5f226",
   "metadata": {},
   "outputs": [],
   "source": [
    "import pandas as pd\n",
    "import numpy as np\n",
    "import matplotlib.pyplot as plt\n",
    "import plotly.express as px\n",
    "import plotly.graph_objects as go\n",
    "from plotly.subplots import make_subplots\n",
    "import seaborn as sns"
   ]
  },
  {
   "cell_type": "markdown",
   "id": "02594e71",
   "metadata": {},
   "source": [
    "# **SSC0957 - Prática em Ciência de Dados II**\n",
    "---\n",
    "\n",
    "### **Alunos:**\n",
    "> #### Arthur Santorum Lorenzetto - 12559465\n",
    "> #### André Guarnier De Mitri    - 11395579\n",
    "> #### Rui Emanuel Lima Vieira    - 11819182\n",
    "\n",
    "### **Professor:** Alexandre Claudio Botazzo Delbem\n",
    "---"
   ]
  },
  {
   "cell_type": "code",
   "execution_count": null,
   "id": "9523e71c",
   "metadata": {},
   "outputs": [],
   "source": [
    "obitos_transp = pd.read_parquet('Dados/obitos_transparencia.parquet', engine='pyarrow')\n",
    "obitos_transp.head()"
   ]
  },
  {
   "cell_type": "code",
   "execution_count": null,
   "id": "f1baea11",
   "metadata": {},
   "outputs": [],
   "source": [
    "obitos_raca_cor = pd.read_parquet('Dados/obitos_raca_cor.parquet', engine='pyarrow')\n",
    "obitos_raca_cor.head()"
   ]
  },
  {
   "cell_type": "markdown",
   "id": "68ee1096",
   "metadata": {},
   "source": [
    "# Bibliotecas e tratamento de dados"
   ]
  },
  {
   "cell_type": "code",
   "execution_count": null,
   "id": "18adb986",
   "metadata": {},
   "outputs": [],
   "source": [
    "from sklearn.metrics import mean_squared_error\n",
    "from sklearn.tree import DecisionTreeClassifier\n",
    "from sklearn import model_selection\n",
    "from sklearn.model_selection import GridSearchCV\n",
    "from sklearn.linear_model import LinearRegression\n",
    "from sklearn.model_selection import train_test_split\n",
    "from sklearn.pipeline import make_pipeline\n",
    "from sklearn.preprocessing import StandardScaler\n",
    "from sklearn.preprocessing import RobustScaler\n",
    "from sklearn.impute import SimpleImputer\n",
    "from sklearn.preprocessing import LabelEncoder\n",
    "from sklearn.model_selection import train_test_split\n",
    "\n",
    "from sklearn.metrics import accuracy_score\n",
    "from sklearn.metrics import precision_recall_fscore_support as score\n",
    "from sklearn.metrics import confusion_matrix\n",
    "from sklearn.linear_model import LogisticRegression\n",
    "from sklearn.svm import SVC\n",
    "from sklearn.tree import DecisionTreeClassifier\n",
    "from sklearn.ensemble import RandomForestClassifier\n",
    "from sklearn.neighbors import KNeighborsClassifier\n",
    "\n",
    "import warnings\n",
    "warnings.simplefilter(action='ignore', category=FutureWarning)"
   ]
  },
  {
   "cell_type": "markdown",
   "id": "dadc84c0",
   "metadata": {},
   "source": [
    "# Modelos de Classificação"
   ]
  },
  {
   "cell_type": "code",
   "execution_count": null,
   "id": "461b0cfc",
   "metadata": {},
   "outputs": [],
   "source": [
    "def dataset_scaler(df: pd.DataFrame, one_hot: bool = False, clean_nan: bool = False):\n",
    "  df1 = df.copy(deep=True)\n",
    "  if one_hot:\n",
    "    df1 = pd.get_dummies(df1, columns = list_categorical_columns)\n",
    "  else:\n",
    "    le = LabelEncoder()\n",
    "    for c in list_categorical_columns:\n",
    "      df1[c] = le.fit_transform(df1[c])\n",
    "    \n",
    "  if clean_nan:\n",
    "    imputer = SimpleImputer()\n",
    "    df1[list_numerical_columns] = imputer.fit_transform(df1[list_numerical_columns])\n",
    "#     y_imputer = SimpleImputer(missing_values=np.nan)\n",
    "#     y =  y_imputer.fit_transform(y)\n",
    "  scaler = RobustScaler()\n",
    "  df1[list_numerical_columns] = scaler.fit_transform(df1[list_numerical_columns])\n",
    "\n",
    "  return df1"
   ]
  },
  {
   "cell_type": "markdown",
   "id": "9bd5dfd5",
   "metadata": {},
   "source": [
    "## Logistic Regression"
   ]
  },
  {
   "cell_type": "code",
   "execution_count": 6,
   "id": "74060a90",
   "metadata": {},
   "outputs": [],
   "source": [
    "df = obitos_raca_cor.copy()\n",
    "df.drop(columns=['cs_sexo', 'nome_munic'], inplace=True)\n",
    "list_categorical_columns = list(df.select_dtypes(include='object').columns)\n",
    "list_numerical_columns = list(df.select_dtypes(include='number').columns)\n",
    "df = dataset_scaler(df, clean_nan=True)\n",
    "y = df['obito']\n",
    "X = df.drop(columns=['obito'])\n",
    "x_train, x_test, y_train, y_test = train_test_split(X, y, test_size = 1/3, random_state=42)"
   ]
  },
  {
   "cell_type": "code",
   "execution_count": 7,
   "id": "3c3ca4ff",
   "metadata": {},
   "outputs": [
    {
     "name": "stderr",
     "output_type": "stream",
     "text": [
      "C:\\Users\\andre\\anaconda3\\Lib\\site-packages\\sklearn\\linear_model\\_logistic.py:458: ConvergenceWarning: lbfgs failed to converge (status=1):\n",
      "STOP: TOTAL NO. of ITERATIONS REACHED LIMIT.\n",
      "\n",
      "Increase the number of iterations (max_iter) or scale the data as shown in:\n",
      "    https://scikit-learn.org/stable/modules/preprocessing.html\n",
      "Please also refer to the documentation for alternative solver options:\n",
      "    https://scikit-learn.org/stable/modules/linear_model.html#logistic-regression\n",
      "  n_iter_i = _check_optimize_result(\n",
      "C:\\Users\\andre\\anaconda3\\Lib\\site-packages\\sklearn\\linear_model\\_logistic.py:458: ConvergenceWarning: lbfgs failed to converge (status=1):\n",
      "STOP: TOTAL NO. of ITERATIONS REACHED LIMIT.\n",
      "\n",
      "Increase the number of iterations (max_iter) or scale the data as shown in:\n",
      "    https://scikit-learn.org/stable/modules/preprocessing.html\n",
      "Please also refer to the documentation for alternative solver options:\n",
      "    https://scikit-learn.org/stable/modules/linear_model.html#logistic-regression\n",
      "  n_iter_i = _check_optimize_result(\n",
      "C:\\Users\\andre\\anaconda3\\Lib\\site-packages\\sklearn\\linear_model\\_logistic.py:458: ConvergenceWarning: lbfgs failed to converge (status=1):\n",
      "STOP: TOTAL NO. of ITERATIONS REACHED LIMIT.\n",
      "\n",
      "Increase the number of iterations (max_iter) or scale the data as shown in:\n",
      "    https://scikit-learn.org/stable/modules/preprocessing.html\n",
      "Please also refer to the documentation for alternative solver options:\n",
      "    https://scikit-learn.org/stable/modules/linear_model.html#logistic-regression\n",
      "  n_iter_i = _check_optimize_result(\n",
      "C:\\Users\\andre\\anaconda3\\Lib\\site-packages\\sklearn\\linear_model\\_logistic.py:458: ConvergenceWarning: lbfgs failed to converge (status=1):\n",
      "STOP: TOTAL NO. of ITERATIONS REACHED LIMIT.\n",
      "\n",
      "Increase the number of iterations (max_iter) or scale the data as shown in:\n",
      "    https://scikit-learn.org/stable/modules/preprocessing.html\n",
      "Please also refer to the documentation for alternative solver options:\n",
      "    https://scikit-learn.org/stable/modules/linear_model.html#logistic-regression\n",
      "  n_iter_i = _check_optimize_result(\n",
      "C:\\Users\\andre\\anaconda3\\Lib\\site-packages\\sklearn\\linear_model\\_logistic.py:458: ConvergenceWarning: lbfgs failed to converge (status=1):\n",
      "STOP: TOTAL NO. of ITERATIONS REACHED LIMIT.\n",
      "\n",
      "Increase the number of iterations (max_iter) or scale the data as shown in:\n",
      "    https://scikit-learn.org/stable/modules/preprocessing.html\n",
      "Please also refer to the documentation for alternative solver options:\n",
      "    https://scikit-learn.org/stable/modules/linear_model.html#logistic-regression\n",
      "  n_iter_i = _check_optimize_result(\n",
      "C:\\Users\\andre\\anaconda3\\Lib\\site-packages\\sklearn\\linear_model\\_logistic.py:458: ConvergenceWarning: lbfgs failed to converge (status=1):\n",
      "STOP: TOTAL NO. of ITERATIONS REACHED LIMIT.\n",
      "\n",
      "Increase the number of iterations (max_iter) or scale the data as shown in:\n",
      "    https://scikit-learn.org/stable/modules/preprocessing.html\n",
      "Please also refer to the documentation for alternative solver options:\n",
      "    https://scikit-learn.org/stable/modules/linear_model.html#logistic-regression\n",
      "  n_iter_i = _check_optimize_result(\n",
      "C:\\Users\\andre\\anaconda3\\Lib\\site-packages\\sklearn\\linear_model\\_logistic.py:458: ConvergenceWarning: lbfgs failed to converge (status=1):\n",
      "STOP: TOTAL NO. of ITERATIONS REACHED LIMIT.\n",
      "\n",
      "Increase the number of iterations (max_iter) or scale the data as shown in:\n",
      "    https://scikit-learn.org/stable/modules/preprocessing.html\n",
      "Please also refer to the documentation for alternative solver options:\n",
      "    https://scikit-learn.org/stable/modules/linear_model.html#logistic-regression\n",
      "  n_iter_i = _check_optimize_result(\n",
      "C:\\Users\\andre\\anaconda3\\Lib\\site-packages\\sklearn\\linear_model\\_logistic.py:458: ConvergenceWarning: lbfgs failed to converge (status=1):\n",
      "STOP: TOTAL NO. of ITERATIONS REACHED LIMIT.\n",
      "\n",
      "Increase the number of iterations (max_iter) or scale the data as shown in:\n",
      "    https://scikit-learn.org/stable/modules/preprocessing.html\n",
      "Please also refer to the documentation for alternative solver options:\n",
      "    https://scikit-learn.org/stable/modules/linear_model.html#logistic-regression\n",
      "  n_iter_i = _check_optimize_result(\n",
      "C:\\Users\\andre\\anaconda3\\Lib\\site-packages\\sklearn\\linear_model\\_logistic.py:458: ConvergenceWarning: lbfgs failed to converge (status=1):\n",
      "STOP: TOTAL NO. of ITERATIONS REACHED LIMIT.\n",
      "\n",
      "Increase the number of iterations (max_iter) or scale the data as shown in:\n",
      "    https://scikit-learn.org/stable/modules/preprocessing.html\n",
      "Please also refer to the documentation for alternative solver options:\n",
      "    https://scikit-learn.org/stable/modules/linear_model.html#logistic-regression\n",
      "  n_iter_i = _check_optimize_result(\n",
      "C:\\Users\\andre\\anaconda3\\Lib\\site-packages\\sklearn\\linear_model\\_logistic.py:458: ConvergenceWarning: lbfgs failed to converge (status=1):\n",
      "STOP: TOTAL NO. of ITERATIONS REACHED LIMIT.\n",
      "\n",
      "Increase the number of iterations (max_iter) or scale the data as shown in:\n",
      "    https://scikit-learn.org/stable/modules/preprocessing.html\n",
      "Please also refer to the documentation for alternative solver options:\n",
      "    https://scikit-learn.org/stable/modules/linear_model.html#logistic-regression\n",
      "  n_iter_i = _check_optimize_result(\n",
      "C:\\Users\\andre\\anaconda3\\Lib\\site-packages\\sklearn\\linear_model\\_logistic.py:458: ConvergenceWarning: lbfgs failed to converge (status=1):\n",
      "STOP: TOTAL NO. of ITERATIONS REACHED LIMIT.\n",
      "\n",
      "Increase the number of iterations (max_iter) or scale the data as shown in:\n",
      "    https://scikit-learn.org/stable/modules/preprocessing.html\n",
      "Please also refer to the documentation for alternative solver options:\n",
      "    https://scikit-learn.org/stable/modules/linear_model.html#logistic-regression\n",
      "  n_iter_i = _check_optimize_result(\n",
      "C:\\Users\\andre\\anaconda3\\Lib\\site-packages\\sklearn\\linear_model\\_logistic.py:458: ConvergenceWarning: lbfgs failed to converge (status=1):\n",
      "STOP: TOTAL NO. of ITERATIONS REACHED LIMIT.\n",
      "\n",
      "Increase the number of iterations (max_iter) or scale the data as shown in:\n",
      "    https://scikit-learn.org/stable/modules/preprocessing.html\n",
      "Please also refer to the documentation for alternative solver options:\n",
      "    https://scikit-learn.org/stable/modules/linear_model.html#logistic-regression\n",
      "  n_iter_i = _check_optimize_result(\n",
      "C:\\Users\\andre\\anaconda3\\Lib\\site-packages\\sklearn\\linear_model\\_logistic.py:458: ConvergenceWarning: lbfgs failed to converge (status=1):\n",
      "STOP: TOTAL NO. of ITERATIONS REACHED LIMIT.\n",
      "\n",
      "Increase the number of iterations (max_iter) or scale the data as shown in:\n",
      "    https://scikit-learn.org/stable/modules/preprocessing.html\n",
      "Please also refer to the documentation for alternative solver options:\n",
      "    https://scikit-learn.org/stable/modules/linear_model.html#logistic-regression\n",
      "  n_iter_i = _check_optimize_result(\n",
      "C:\\Users\\andre\\anaconda3\\Lib\\site-packages\\sklearn\\linear_model\\_logistic.py:458: ConvergenceWarning: lbfgs failed to converge (status=1):\n",
      "STOP: TOTAL NO. of ITERATIONS REACHED LIMIT.\n",
      "\n",
      "Increase the number of iterations (max_iter) or scale the data as shown in:\n",
      "    https://scikit-learn.org/stable/modules/preprocessing.html\n",
      "Please also refer to the documentation for alternative solver options:\n",
      "    https://scikit-learn.org/stable/modules/linear_model.html#logistic-regression\n",
      "  n_iter_i = _check_optimize_result(\n",
      "C:\\Users\\andre\\anaconda3\\Lib\\site-packages\\sklearn\\linear_model\\_logistic.py:458: ConvergenceWarning: lbfgs failed to converge (status=1):\n",
      "STOP: TOTAL NO. of ITERATIONS REACHED LIMIT.\n",
      "\n",
      "Increase the number of iterations (max_iter) or scale the data as shown in:\n",
      "    https://scikit-learn.org/stable/modules/preprocessing.html\n",
      "Please also refer to the documentation for alternative solver options:\n",
      "    https://scikit-learn.org/stable/modules/linear_model.html#logistic-regression\n",
      "  n_iter_i = _check_optimize_result(\n",
      "C:\\Users\\andre\\anaconda3\\Lib\\site-packages\\sklearn\\linear_model\\_logistic.py:458: ConvergenceWarning: lbfgs failed to converge (status=1):\n",
      "STOP: TOTAL NO. of ITERATIONS REACHED LIMIT.\n",
      "\n",
      "Increase the number of iterations (max_iter) or scale the data as shown in:\n",
      "    https://scikit-learn.org/stable/modules/preprocessing.html\n",
      "Please also refer to the documentation for alternative solver options:\n",
      "    https://scikit-learn.org/stable/modules/linear_model.html#logistic-regression\n",
      "  n_iter_i = _check_optimize_result(\n"
     ]
    },
    {
     "name": "stderr",
     "output_type": "stream",
     "text": [
      "C:\\Users\\andre\\anaconda3\\Lib\\site-packages\\sklearn\\linear_model\\_logistic.py:458: ConvergenceWarning: lbfgs failed to converge (status=1):\n",
      "STOP: TOTAL NO. of ITERATIONS REACHED LIMIT.\n",
      "\n",
      "Increase the number of iterations (max_iter) or scale the data as shown in:\n",
      "    https://scikit-learn.org/stable/modules/preprocessing.html\n",
      "Please also refer to the documentation for alternative solver options:\n",
      "    https://scikit-learn.org/stable/modules/linear_model.html#logistic-regression\n",
      "  n_iter_i = _check_optimize_result(\n",
      "C:\\Users\\andre\\anaconda3\\Lib\\site-packages\\sklearn\\linear_model\\_logistic.py:458: ConvergenceWarning: lbfgs failed to converge (status=1):\n",
      "STOP: TOTAL NO. of ITERATIONS REACHED LIMIT.\n",
      "\n",
      "Increase the number of iterations (max_iter) or scale the data as shown in:\n",
      "    https://scikit-learn.org/stable/modules/preprocessing.html\n",
      "Please also refer to the documentation for alternative solver options:\n",
      "    https://scikit-learn.org/stable/modules/linear_model.html#logistic-regression\n",
      "  n_iter_i = _check_optimize_result(\n",
      "C:\\Users\\andre\\anaconda3\\Lib\\site-packages\\sklearn\\linear_model\\_logistic.py:458: ConvergenceWarning: lbfgs failed to converge (status=1):\n",
      "STOP: TOTAL NO. of ITERATIONS REACHED LIMIT.\n",
      "\n",
      "Increase the number of iterations (max_iter) or scale the data as shown in:\n",
      "    https://scikit-learn.org/stable/modules/preprocessing.html\n",
      "Please also refer to the documentation for alternative solver options:\n",
      "    https://scikit-learn.org/stable/modules/linear_model.html#logistic-regression\n",
      "  n_iter_i = _check_optimize_result(\n",
      "C:\\Users\\andre\\anaconda3\\Lib\\site-packages\\sklearn\\linear_model\\_logistic.py:458: ConvergenceWarning: lbfgs failed to converge (status=1):\n",
      "STOP: TOTAL NO. of ITERATIONS REACHED LIMIT.\n",
      "\n",
      "Increase the number of iterations (max_iter) or scale the data as shown in:\n",
      "    https://scikit-learn.org/stable/modules/preprocessing.html\n",
      "Please also refer to the documentation for alternative solver options:\n",
      "    https://scikit-learn.org/stable/modules/linear_model.html#logistic-regression\n",
      "  n_iter_i = _check_optimize_result(\n",
      "C:\\Users\\andre\\anaconda3\\Lib\\site-packages\\sklearn\\linear_model\\_logistic.py:458: ConvergenceWarning: lbfgs failed to converge (status=1):\n",
      "STOP: TOTAL NO. of ITERATIONS REACHED LIMIT.\n",
      "\n",
      "Increase the number of iterations (max_iter) or scale the data as shown in:\n",
      "    https://scikit-learn.org/stable/modules/preprocessing.html\n",
      "Please also refer to the documentation for alternative solver options:\n",
      "    https://scikit-learn.org/stable/modules/linear_model.html#logistic-regression\n",
      "  n_iter_i = _check_optimize_result(\n",
      "C:\\Users\\andre\\anaconda3\\Lib\\site-packages\\sklearn\\linear_model\\_logistic.py:458: ConvergenceWarning: lbfgs failed to converge (status=1):\n",
      "STOP: TOTAL NO. of ITERATIONS REACHED LIMIT.\n",
      "\n",
      "Increase the number of iterations (max_iter) or scale the data as shown in:\n",
      "    https://scikit-learn.org/stable/modules/preprocessing.html\n",
      "Please also refer to the documentation for alternative solver options:\n",
      "    https://scikit-learn.org/stable/modules/linear_model.html#logistic-regression\n",
      "  n_iter_i = _check_optimize_result(\n",
      "C:\\Users\\andre\\anaconda3\\Lib\\site-packages\\sklearn\\linear_model\\_logistic.py:458: ConvergenceWarning: lbfgs failed to converge (status=1):\n",
      "STOP: TOTAL NO. of ITERATIONS REACHED LIMIT.\n",
      "\n",
      "Increase the number of iterations (max_iter) or scale the data as shown in:\n",
      "    https://scikit-learn.org/stable/modules/preprocessing.html\n",
      "Please also refer to the documentation for alternative solver options:\n",
      "    https://scikit-learn.org/stable/modules/linear_model.html#logistic-regression\n",
      "  n_iter_i = _check_optimize_result(\n",
      "C:\\Users\\andre\\anaconda3\\Lib\\site-packages\\sklearn\\linear_model\\_logistic.py:458: ConvergenceWarning: lbfgs failed to converge (status=1):\n",
      "STOP: TOTAL NO. of ITERATIONS REACHED LIMIT.\n",
      "\n",
      "Increase the number of iterations (max_iter) or scale the data as shown in:\n",
      "    https://scikit-learn.org/stable/modules/preprocessing.html\n",
      "Please also refer to the documentation for alternative solver options:\n",
      "    https://scikit-learn.org/stable/modules/linear_model.html#logistic-regression\n",
      "  n_iter_i = _check_optimize_result(\n",
      "C:\\Users\\andre\\anaconda3\\Lib\\site-packages\\sklearn\\linear_model\\_logistic.py:458: ConvergenceWarning: lbfgs failed to converge (status=1):\n",
      "STOP: TOTAL NO. of ITERATIONS REACHED LIMIT.\n",
      "\n",
      "Increase the number of iterations (max_iter) or scale the data as shown in:\n",
      "    https://scikit-learn.org/stable/modules/preprocessing.html\n",
      "Please also refer to the documentation for alternative solver options:\n",
      "    https://scikit-learn.org/stable/modules/linear_model.html#logistic-regression\n",
      "  n_iter_i = _check_optimize_result(\n",
      "C:\\Users\\andre\\anaconda3\\Lib\\site-packages\\sklearn\\linear_model\\_logistic.py:458: ConvergenceWarning: lbfgs failed to converge (status=1):\n",
      "STOP: TOTAL NO. of ITERATIONS REACHED LIMIT.\n",
      "\n",
      "Increase the number of iterations (max_iter) or scale the data as shown in:\n",
      "    https://scikit-learn.org/stable/modules/preprocessing.html\n",
      "Please also refer to the documentation for alternative solver options:\n",
      "    https://scikit-learn.org/stable/modules/linear_model.html#logistic-regression\n",
      "  n_iter_i = _check_optimize_result(\n",
      "C:\\Users\\andre\\anaconda3\\Lib\\site-packages\\sklearn\\linear_model\\_logistic.py:458: ConvergenceWarning: lbfgs failed to converge (status=1):\n",
      "STOP: TOTAL NO. of ITERATIONS REACHED LIMIT.\n",
      "\n",
      "Increase the number of iterations (max_iter) or scale the data as shown in:\n",
      "    https://scikit-learn.org/stable/modules/preprocessing.html\n",
      "Please also refer to the documentation for alternative solver options:\n",
      "    https://scikit-learn.org/stable/modules/linear_model.html#logistic-regression\n",
      "  n_iter_i = _check_optimize_result(\n",
      "C:\\Users\\andre\\anaconda3\\Lib\\site-packages\\sklearn\\linear_model\\_logistic.py:458: ConvergenceWarning: lbfgs failed to converge (status=1):\n",
      "STOP: TOTAL NO. of ITERATIONS REACHED LIMIT.\n",
      "\n",
      "Increase the number of iterations (max_iter) or scale the data as shown in:\n",
      "    https://scikit-learn.org/stable/modules/preprocessing.html\n",
      "Please also refer to the documentation for alternative solver options:\n",
      "    https://scikit-learn.org/stable/modules/linear_model.html#logistic-regression\n",
      "  n_iter_i = _check_optimize_result(\n",
      "C:\\Users\\andre\\anaconda3\\Lib\\site-packages\\sklearn\\linear_model\\_logistic.py:458: ConvergenceWarning: lbfgs failed to converge (status=1):\n",
      "STOP: TOTAL NO. of ITERATIONS REACHED LIMIT.\n",
      "\n",
      "Increase the number of iterations (max_iter) or scale the data as shown in:\n",
      "    https://scikit-learn.org/stable/modules/preprocessing.html\n",
      "Please also refer to the documentation for alternative solver options:\n",
      "    https://scikit-learn.org/stable/modules/linear_model.html#logistic-regression\n",
      "  n_iter_i = _check_optimize_result(\n",
      "C:\\Users\\andre\\anaconda3\\Lib\\site-packages\\sklearn\\linear_model\\_logistic.py:458: ConvergenceWarning: lbfgs failed to converge (status=1):\n",
      "STOP: TOTAL NO. of ITERATIONS REACHED LIMIT.\n",
      "\n",
      "Increase the number of iterations (max_iter) or scale the data as shown in:\n",
      "    https://scikit-learn.org/stable/modules/preprocessing.html\n",
      "Please also refer to the documentation for alternative solver options:\n",
      "    https://scikit-learn.org/stable/modules/linear_model.html#logistic-regression\n",
      "  n_iter_i = _check_optimize_result(\n",
      "C:\\Users\\andre\\anaconda3\\Lib\\site-packages\\sklearn\\linear_model\\_logistic.py:458: ConvergenceWarning: lbfgs failed to converge (status=1):\n",
      "STOP: TOTAL NO. of ITERATIONS REACHED LIMIT.\n",
      "\n",
      "Increase the number of iterations (max_iter) or scale the data as shown in:\n",
      "    https://scikit-learn.org/stable/modules/preprocessing.html\n",
      "Please also refer to the documentation for alternative solver options:\n",
      "    https://scikit-learn.org/stable/modules/linear_model.html#logistic-regression\n",
      "  n_iter_i = _check_optimize_result(\n",
      "C:\\Users\\andre\\anaconda3\\Lib\\site-packages\\sklearn\\linear_model\\_logistic.py:458: ConvergenceWarning: lbfgs failed to converge (status=1):\n",
      "STOP: TOTAL NO. of ITERATIONS REACHED LIMIT.\n",
      "\n",
      "Increase the number of iterations (max_iter) or scale the data as shown in:\n",
      "    https://scikit-learn.org/stable/modules/preprocessing.html\n",
      "Please also refer to the documentation for alternative solver options:\n",
      "    https://scikit-learn.org/stable/modules/linear_model.html#logistic-regression\n",
      "  n_iter_i = _check_optimize_result(\n"
     ]
    },
    {
     "name": "stderr",
     "output_type": "stream",
     "text": [
      "C:\\Users\\andre\\anaconda3\\Lib\\site-packages\\sklearn\\linear_model\\_logistic.py:458: ConvergenceWarning: lbfgs failed to converge (status=1):\n",
      "STOP: TOTAL NO. of ITERATIONS REACHED LIMIT.\n",
      "\n",
      "Increase the number of iterations (max_iter) or scale the data as shown in:\n",
      "    https://scikit-learn.org/stable/modules/preprocessing.html\n",
      "Please also refer to the documentation for alternative solver options:\n",
      "    https://scikit-learn.org/stable/modules/linear_model.html#logistic-regression\n",
      "  n_iter_i = _check_optimize_result(\n",
      "C:\\Users\\andre\\anaconda3\\Lib\\site-packages\\sklearn\\linear_model\\_logistic.py:458: ConvergenceWarning: lbfgs failed to converge (status=1):\n",
      "STOP: TOTAL NO. of ITERATIONS REACHED LIMIT.\n",
      "\n",
      "Increase the number of iterations (max_iter) or scale the data as shown in:\n",
      "    https://scikit-learn.org/stable/modules/preprocessing.html\n",
      "Please also refer to the documentation for alternative solver options:\n",
      "    https://scikit-learn.org/stable/modules/linear_model.html#logistic-regression\n",
      "  n_iter_i = _check_optimize_result(\n",
      "C:\\Users\\andre\\anaconda3\\Lib\\site-packages\\sklearn\\linear_model\\_logistic.py:458: ConvergenceWarning: lbfgs failed to converge (status=1):\n",
      "STOP: TOTAL NO. of ITERATIONS REACHED LIMIT.\n",
      "\n",
      "Increase the number of iterations (max_iter) or scale the data as shown in:\n",
      "    https://scikit-learn.org/stable/modules/preprocessing.html\n",
      "Please also refer to the documentation for alternative solver options:\n",
      "    https://scikit-learn.org/stable/modules/linear_model.html#logistic-regression\n",
      "  n_iter_i = _check_optimize_result(\n"
     ]
    },
    {
     "name": "stdout",
     "output_type": "stream",
     "text": [
      "Melhores parametros : {'C': 1.6000000000000003, 'random_state': 42}\n",
      "Melhor Score        : 0.9680828716225088\n",
      "Melhor acurácia encontrada:  0.9679395005645564\n",
      "Matrix de Confusão : \n",
      "\n"
     ]
    },
    {
     "data": {
      "image/png": "[encoded data removed]",
      "text/plain": [
       "<Figure size 640x480 with 2 Axes>"
      ]
     },
     "metadata": {},
     "output_type": "display_data"
    }
   ],
   "source": [
    "# Modelo\n",
    "mdl = LogisticRegression()\n",
    "\n",
    "# Parametros\n",
    "parameters = {\n",
    "    'C' :  np.arange(0.1, 2, 0.3),\n",
    "    'random_state' : [42]\n",
    "}\n",
    "\n",
    "# Buscando melhor hyperparametro\n",
    "searcher = GridSearchCV(mdl, parameters)\n",
    "searcher.fit(x_train, y_train)\n",
    "\n",
    "# Scores\n",
    "print(\"Melhores parametros :\", searcher.best_params_)\n",
    "print(\"Melhor Score        :\", searcher.best_score_)\n",
    "\n",
    "# Predizendo os valores\n",
    "y_pred = searcher.predict(x_test)\n",
    "\n",
    "# printing the test accuracy\n",
    "print(\"Melhor acurácia encontrada: \", accuracy_score(y_test, y_pred))\n",
    "\n",
    "# Matrix Confusao\n",
    "cm = confusion_matrix(y_test, y_pred)\n",
    "print(\"Matrix de Confusão : \\n\")\n",
    "sns.heatmap(cm,annot=True,fmt=\"d\")\n",
    "plt.show()"
   ]
  },
  {
   "cell_type": "code",
   "execution_count": 8,
   "id": "81c00707",
   "metadata": {},
   "outputs": [
    {
     "data": {
      "image/png": "[encoded data removed]",
      "text/plain": [
       "<Figure size 640x480 with 1 Axes>"
      ]
     },
     "metadata": {},
     "output_type": "display_data"
    }
   ],
   "source": [
    "from sklearn.inspection import permutation_importance\n",
    "\n",
    "# Pegando o melhor modelo do Searcher\n",
    "model = searcher.best_estimator_\n",
    "result = permutation_importance(model, x_train, y_train, n_repeats=10, n_jobs=-1)\n",
    "sorted = result.importances_std.argsort()\n",
    "fig, ax = plt.subplots()\n",
    "ax.pie(result.importances_std[sorted], labels=x_train.columns[sorted], autopct='%1.1f%%')\n",
    "plt.show()"
   ]
  },
  {
   "cell_type": "markdown",
   "id": "1cd91247",
   "metadata": {},
   "source": [
    "## Random Forest"
   ]
  },
  {
   "cell_type": "code",
   "execution_count": 9,
   "id": "56511ee1",
   "metadata": {},
   "outputs": [],
   "source": [
    "df = obitos_raca_cor.copy()\n",
    "df.drop(columns=['cs_sexo', 'nome_munic'], inplace=True)\n",
    "list_categorical_columns = list(df.select_dtypes(include='object').columns)\n",
    "list_numerical_columns = list(df.select_dtypes(include='number').columns)\n",
    "df = dataset_scaler(df, clean_nan=True)\n",
    "y = df['obito']\n",
    "X = df.drop(columns=['obito'])\n",
    "x_train, x_test, y_train, y_test = train_test_split(X, y, test_size = 1/3, random_state=42)"
   ]
  },
  {
   "cell_type": "code",
   "execution_count": 10,
   "id": "547ebc1e",
   "metadata": {},
   "outputs": [
    {
     "name": "stdout",
     "output_type": "stream",
     "text": [
      "Melhores parametros : {'criterion': 'gini', 'max_depth': 6, 'n_estimators': 300, 'random_state': 42}\n",
      "Melhor Score        : 0.9679872909172073\n",
      "Melhor acurácia encontrada:  0.9680277289079117\n",
      "Matrix de Confusão : \n",
      "\n"
     ]
    },
    {
     "data": {
      "image/png": "[encoded data removed]",
      "text/plain": [
       "<Figure size 640x480 with 2 Axes>"
      ]
     },
     "metadata": {},
     "output_type": "display_data"
    }
   ],
   "source": [
    "# Modelo\n",
    "mdl = RandomForestClassifier()\n",
    "\n",
    "# Parametros\n",
    "parameters = { \n",
    "    'n_estimators': np.arange(100,400,100),\n",
    "    'max_depth' :  np.arange(3,9,3),\n",
    "    'criterion' :['gini', 'entropy'],\n",
    "    'random_state' : [42]\n",
    "}\n",
    "\n",
    "# Buscando melhor hyperparametro\n",
    "searcher = GridSearchCV(mdl, parameters)\n",
    "searcher.fit(x_train, y_train)\n",
    "\n",
    "# Scores\n",
    "print(\"Melhores parametros :\", searcher.best_params_)\n",
    "print(\"Melhor Score        :\", searcher.best_score_)\n",
    "\n",
    "# Predizendo os valores\n",
    "y_pred = searcher.predict(x_test)\n",
    "\n",
    "# printing the test accuracy\n",
    "print(\"Melhor acurácia encontrada: \", accuracy_score(y_test, y_pred))\n",
    "\n",
    "# Matrix Confusao\n",
    "cm = confusion_matrix(y_test, y_pred)\n",
    "print(\"Matrix de Confusão : \\n\")\n",
    "sns.heatmap(cm,annot=True,fmt=\"d\")\n",
    "plt.show()"
   ]
  },
  {
   "cell_type": "code",
   "execution_count": 11,
   "id": "3cbdb90f",
   "metadata": {},
   "outputs": [
    {
     "data": {
      "image/png": "[encoded data removed]",
      "text/plain": [
       "<Figure size 640x480 with 1 Axes>"
      ]
     },
     "metadata": {},
     "output_type": "display_data"
    }
   ],
   "source": [
    "from sklearn.inspection import permutation_importance\n",
    "\n",
    "# Pegando o melhor modelo do Searcher\n",
    "model = searcher.best_estimator_\n",
    "result = permutation_importance(model, x_train, y_train, n_repeats=10, n_jobs=-1)\n",
    "sorted = result.importances_std.argsort()\n",
    "fig, ax = plt.subplots()\n",
    "ax.pie(result.importances_std[sorted], labels=x_train.columns[sorted], autopct='%1.1f%%')\n",
    "plt.show()"
   ]
  },
  {
   "cell_type": "markdown",
   "id": "6b205319",
   "metadata": {},
   "source": [
    "## SVC"
   ]
  },
  {
   "cell_type": "code",
   "execution_count": 12,
   "id": "08fd2274",
   "metadata": {},
   "outputs": [],
   "source": [
    "df = obitos_raca_cor.copy()\n",
    "df.drop(columns=['cs_sexo', 'nome_munic'], inplace=True)\n",
    "list_categorical_columns = list(df.select_dtypes(include='object').columns)\n",
    "list_numerical_columns = list(df.select_dtypes(include='number').columns)\n",
    "df = dataset_scaler(df, clean_nan=True)\n",
    "y = df['obito']\n",
    "X = df.drop(columns=['obito'])\n",
    "x_train, x_test, y_train, y_test = train_test_split(X, y, test_size = 1/3, random_state=42)"
   ]
  },
  {
   "cell_type": "code",
   "execution_count": null,
   "id": "197a524b",
   "metadata": {},
   "outputs": [],
   "source": [
    "# Modelo\n",
    "mdl = SVC()\n",
    "\n",
    "# Parametros\n",
    "parameters = {\"C\":np.arange(1,12,4),\n",
    "              'gamma':[0.00001,0.01,1],\n",
    "              'random_state' : [42]}\n",
    "\n",
    "# Buscando melhor hyperparametro\n",
    "searcher = GridSearchCV(mdl, parameters)\n",
    "searcher.fit(x_train, y_train)\n",
    "\n",
    "# Scores\n",
    "print(\"Melhores parametros :\", searcher.best_params_)\n",
    "print(\"Melhor Score        :\", searcher.best_score_)\n",
    "\n",
    "# Predizendo os valores\n",
    "y_pred = searcher.predict(x_test)\n",
    "\n",
    "# printing the test accuracy\n",
    "print(\"Melhor acurácia encontrada: \", accuracy_score(y_test, y_pred))\n",
    "\n",
    "# Matrix Confusao\n",
    "cm = confusion_matrix(y_test, y_pred)\n",
    "print(\"Matrix de Confusão : \\n\")\n",
    "sns.heatmap(cm,annot=True,fmt=\"d\")\n",
    "plt.show()"
   ]
  },
  {
   "cell_type": "code",
   "execution_count": null,
   "id": "bc70fa4b",
   "metadata": {},
   "outputs": [],
   "source": [
    "from sklearn.inspection import permutation_importance\n",
    "\n",
    "# Pegando o melhor modelo do Searcher\n",
    "model = searcher.best_estimator_\n",
    "result = permutation_importance(model, x_train, y_train, n_repeats=10, n_jobs=-1)\n",
    "sorted = result.importances_std.argsort()\n",
    "fig, ax = plt.subplots()\n",
    "ax.pie(result.importances_std[sorted], labels=x_train.columns[sorted], autopct='%1.1f%%')\n",
    "plt.show()"
   ]
  },
  {
   "cell_type": "markdown",
   "id": "05bced24",
   "metadata": {},
   "source": [
    "## Decision Tree"
   ]
  },
  {
   "cell_type": "code",
   "execution_count": null,
   "id": "c35c69e8",
   "metadata": {},
   "outputs": [],
   "source": [
    "df = obitos_raca_cor.copy()\n",
    "df.drop(columns=['cs_sexo', 'nome_munic'], inplace=True)\n",
    "list_categorical_columns = list(df.select_dtypes(include='object').columns)\n",
    "list_numerical_columns = list(df.select_dtypes(include='number').columns)\n",
    "df = dataset_scaler(df, clean_nan=True)\n",
    "y = df['obito']\n",
    "X = df.drop(columns=['obito'])\n",
    "x_train, x_test, y_train, y_test = train_test_split(X, y, test_size = 1/3, random_state=42)"
   ]
  },
  {
   "cell_type": "code",
   "execution_count": null,
   "id": "cfd125f1",
   "metadata": {},
   "outputs": [],
   "source": [
    "# Modelo\n",
    "mdl = DecisionTreeClassifier()\n",
    "\n",
    "# Parametros\n",
    "parameters = {'criterion':['gini','entropy'],\n",
    "              'max_depth': np.arange(1, 20, 5),\n",
    "              'random_state' : [42]}\n",
    "\n",
    "# Buscando melhor hyperparametro\n",
    "searcher = GridSearchCV(mdl, parameters)\n",
    "searcher.fit(x_train, y_train)\n",
    "\n",
    "# Scores\n",
    "print(\"Melhores parametros :\", searcher.best_params_)\n",
    "print(\"Melhor Score        :\", searcher.best_score_)\n",
    "\n",
    "# Predizendo os valores\n",
    "y_pred = searcher.predict(x_test)\n",
    "\n",
    "# printing the test accuracy\n",
    "print(\"Melhor acurácia encontrada: \", accuracy_score(y_test, y_pred))\n",
    "\n",
    "# Matrix Confusao\n",
    "cm = confusion_matrix(y_test, y_pred)\n",
    "print(\"Matrix de Confusão : \\n\")\n",
    "sns.heatmap(cm,annot=True,fmt=\"d\")\n",
    "plt.show()"
   ]
  },
  {
   "cell_type": "code",
   "execution_count": null,
   "id": "eb55d94a",
   "metadata": {},
   "outputs": [],
   "source": [
    "from sklearn.inspection import permutation_importance\n",
    "\n",
    "# Pegando o melhor modelo do Searcher\n",
    "model = searcher.best_estimator_\n",
    "result = permutation_importance(model, x_train, y_train, n_repeats=10, n_jobs=-1)\n",
    "sorted = result.importances_std.argsort()\n",
    "fig, ax = plt.subplots()\n",
    "ax.pie(result.importances_std[sorted], labels=x_train.columns[sorted], autopct='%1.1f%%')\n",
    "plt.show()"
   ]
  },
  {
   "cell_type": "markdown",
   "id": "34a5714d",
   "metadata": {},
   "source": [
    "## KNN Classifier"
   ]
  },
  {
   "cell_type": "code",
   "execution_count": null,
   "id": "e657f33d",
   "metadata": {},
   "outputs": [],
   "source": [
    "df = obitos_raca_cor.copy()\n",
    "df.drop(columns=['cs_sexo', 'nome_munic'], inplace=True)\n",
    "list_categorical_columns = list(df.select_dtypes(include='object').columns)\n",
    "list_numerical_columns = list(df.select_dtypes(include='number').columns)\n",
    "df = dataset_scaler(df, clean_nan=True)\n",
    "y = df['obito']\n",
    "X = df.drop(columns=['obito'])\n",
    "x_train, x_test, y_train, y_test = train_test_split(X, y, test_size = 1/3, random_state=42)"
   ]
  },
  {
   "cell_type": "code",
   "execution_count": null,
   "id": "5a2cb24b",
   "metadata": {},
   "outputs": [],
   "source": [
    "# Modelo\n",
    "mdl = KNeighborsClassifier(metric='minkowski')\n",
    "\n",
    "# Parametros\n",
    "parameters = {'n_neighbors':np.arange(1,30,5),\n",
    "              'p': [1, 5, 10]}\n",
    "\n",
    "# Buscando melhor hyperparametro\n",
    "searcher = GridSearchCV(mdl, parameters)\n",
    "searcher.fit(x_train, y_train)\n",
    "\n",
    "# Scores\n",
    "print(\"Melhores parametros :\", searcher.best_params_)\n",
    "print(\"Melhor Score        :\", searcher.best_score_)\n",
    "\n",
    "# Predizendo os valores\n",
    "y_pred = searcher.predict(x_test)\n",
    "\n",
    "# Melhor acuracia\n",
    "print(\"Melhor acurácia encontrada: \", accuracy_score(y_test, y_pred))\n",
    "\n",
    "# Matrix Confusao\n",
    "cm = confusion_matrix(y_test, y_pred)\n",
    "print(\"Matrix de Confusão : \\n\")\n",
    "sns.heatmap(cm,annot=True,fmt=\"d\")\n",
    "plt.show()"
   ]
  },
  {
   "cell_type": "code",
   "execution_count": null,
   "id": "a6affdef",
   "metadata": {},
   "outputs": [],
   "source": [
    "from sklearn.inspection import permutation_importance\n",
    "\n",
    "# Pegando o melhor modelo do Searcher\n",
    "model = searcher.best_estimator_\n",
    "result = permutation_importance(model, x_train, y_train, n_repeats=10, n_jobs=-1)\n",
    "sorted = result.importances_std.argsort()\n",
    "fig, ax = plt.subplots()\n",
    "ax.pie(result.importances_std[sorted], labels=x_train.columns[sorted], autopct='%1.1f%%')\n",
    "plt.show()"
   ]
  },
  {
   "cell_type": "markdown",
   "id": "26373773",
   "metadata": {},
   "source": [
    "## GaussianNB"
   ]
  },
  {
   "cell_type": "code",
   "execution_count": null,
   "id": "a9bcac45",
   "metadata": {},
   "outputs": [],
   "source": [
    "df = obitos_raca_cor.copy()\n",
    "df.drop(columns=['cs_sexo', 'nome_munic'], inplace=True)\n",
    "list_categorical_columns = list(df.select_dtypes(include='object').columns)\n",
    "list_numerical_columns = list(df.select_dtypes(include='number').columns)\n",
    "df = dataset_scaler(df, clean_nan=True)\n",
    "y = df['obito']\n",
    "X = df.drop(columns=['obito'])\n",
    "x_train, x_test, y_train, y_test = train_test_split(X, y, test_size = 1/3, random_state=42)"
   ]
  },
  {
   "cell_type": "code",
   "execution_count": null,
   "id": "4eacc3c6",
   "metadata": {},
   "outputs": [],
   "source": [
    "# Modelo\n",
    "mdl = GaussianNB()\n",
    "\n",
    "# Parametros\n",
    "parameters = {'var_smoothing': np.logspace(0,-9, num=100)}\n",
    "\n",
    "# Buscando melhor hyperparametro\n",
    "searcher = GridSearchCV(estimator=mdl, \n",
    "                 param_grid=parameters, \n",
    "                 scoring='accuracy') \n",
    "searcher.fit(x_train, y_train)\n",
    "\n",
    "# Scores\n",
    "print(\"Melhores parametros :\", searcher.best_params_)\n",
    "print(\"Melhor Score        :\", searcher.best_score_)\n",
    "\n",
    "# Predizendo os valores\n",
    "y_pred = searcher.predict(x_test)\n",
    "\n",
    "# printing the test accuracy\n",
    "print(\"Melhor acurácia encontrada: \", accuracy_score(y_test, y_pred))\n",
    "\n",
    "# Matrix Confusao\n",
    "cm = confusion_matrix(y_test, y_pred)\n",
    "print(\"Matrix de Confusão : \\n\")\n",
    "sns.heatmap(cm,annot=True,fmt=\"d\")\n",
    "plt.show()"
   ]
  },
  {
   "cell_type": "code",
   "execution_count": null,
   "id": "6b083224",
   "metadata": {},
   "outputs": [],
   "source": [
    "from sklearn.inspection import permutation_importance\n",
    "\n",
    "# Pegando o melhor modelo do Searcher\n",
    "model = searcher.best_estimator_\n",
    "result = permutation_importance(model, x_train, y_train, n_repeats=10, n_jobs=-1)\n",
    "sorted = result.importances_std.argsort()\n",
    "fig, ax = plt.subplots()\n",
    "ax.pie(result.importances_std[sorted], labels=x_train.columns[sorted], autopct='%1.1f%%')\n",
    "plt.show()"
   ]
  },
  {
   "cell_type": "markdown",
   "id": "d2f698f6",
   "metadata": {},
   "source": [
    "---\n",
    "---\n",
    "\n",
    "## Modelos De Regressão"
   ]
  },
  {
   "cell_type": "code",
   "execution_count": null,
   "id": "5284e415",
   "metadata": {},
   "outputs": [],
   "source": [
    "def dataset_scaler(df: pd.DataFrame, one_hot: bool = False, clean_nan: bool = False):\n",
    "  df1 = df.copy(deep=True)\n",
    "\n",
    "  X = df1.drop(['idade'],axis=1)\n",
    "  y = df1[['idade']]\n",
    "  if one_hot:\n",
    "    df1 = pd.get_dummies(df1, columns = list_categorical_columns)\n",
    "  else:\n",
    "    le = LabelEncoder()\n",
    "    for c in list_categorical_columns:\n",
    "      df1[c] = le.fit_transform(X[c])\n",
    "    \n",
    "  if clean_nan:\n",
    "    imputer = SimpleImputer()\n",
    "    df1[list_numerical_columns] = imputer.fit_transform(df1[list_numerical_columns])\n",
    "#     y_imputer = SimpleImputer(missing_values=np.nan)\n",
    "#     y =  y_imputer.fit_transform(y)\n",
    "  scaler = RobustScaler()\n",
    "  df1[list_numerical_columns] = scaler.fit_transform(df1[list_numerical_columns])\n",
    "\n",
    "  return df1"
   ]
  },
  {
   "cell_type": "markdown",
   "id": "de592011",
   "metadata": {},
   "source": [
    "## HistGradientBoostingRegressor"
   ]
  },
  {
   "cell_type": "code",
   "execution_count": null,
   "id": "dd1d846d",
   "metadata": {
    "scrolled": true
   },
   "outputs": [],
   "source": [
    "df = obitos_raca_cor.copy()\n",
    "df.drop(columns=['cs_sexo', 'nome_munic'], inplace=True)\n",
    "list_categorical_columns = list(df.select_dtypes(include='object').columns)\n",
    "list_numerical_columns = list(df.select_dtypes(include='number').columns)\n",
    "df = dataset_scaler(df, clean_nan=True)\n",
    "y = df['idade']\n",
    "X = df.drop(columns=['idade'])\n",
    "x_train, x_test, y_train, y_test = train_test_split(X, y, test_size = 1/3, random_state=42)"
   ]
  },
  {
   "cell_type": "code",
   "execution_count": null,
   "id": "bed049d1",
   "metadata": {},
   "outputs": [],
   "source": [
    "from sklearn.ensemble import HistGradientBoostingRegressor\n",
    "\n",
    "list_categorical_columns = list(X.select_dtypes(include='object').columns)\n",
    "model = HistGradientBoostingRegressor(categorical_features=list_categorical_columns)\n",
    "\n",
    "# Parametros\n",
    "parameters = {\n",
    "    'loss' :  ['squared_error', 'poisson'],\n",
    "    'max_iter': [500],\n",
    "    'max_bins': [255],\n",
    "    'learning_rate': np.arange(0.001, 0.12, 0.01)\n",
    "}\n",
    "\n",
    "# Buscando melhor hyperparametro\n",
    "searcher = GridSearchCV(model, parameters)\n",
    "searcher.fit(x_train, y_train)\n",
    "\n",
    "# Scores\n",
    "print(\"Melhores parametros :\", searcher.best_params_)\n",
    "print(\"Melhor Score        :\", searcher.best_score_)\n",
    "\n",
    "# Predizendo os valores\n",
    "y_pred = searcher.predict(x_test)\n",
    "\n",
    "# printing the test accuracy\n",
    "print(\"MSE encontrada: \", mean_squared_error(y_test, y_pred))"
   ]
  },
  {
   "cell_type": "code",
   "execution_count": null,
   "id": "0cdfadad",
   "metadata": {},
   "outputs": [],
   "source": [
    "from sklearn.inspection import permutation_importance\n",
    "\n",
    "# Pegando o melhor modelo do Searcher\n",
    "model = searcher.best_estimator_\n",
    "result = permutation_importance(model, x_train, y_train, n_repeats=10, n_jobs=-1)\n",
    "sorted = result.importances_std.argsort()\n",
    "fig, ax = plt.subplots()\n",
    "ax.pie(result.importances_std[sorted], labels=x_train.columns[sorted], autopct='%1.1f%%')\n",
    "plt.show()"
   ]
  },
  {
   "cell_type": "markdown",
   "id": "0917b3a9",
   "metadata": {},
   "source": [
    "## Adaboost"
   ]
  },
  {
   "cell_type": "code",
   "execution_count": null,
   "id": "197a5b01",
   "metadata": {},
   "outputs": [],
   "source": [
    "df = obitos_raca_cor.copy()\n",
    "df.drop(columns=['cs_sexo', 'nome_munic'], inplace=True)\n",
    "list_categorical_columns = list(df.select_dtypes(include='object').columns)\n",
    "list_numerical_columns = list(df.select_dtypes(include='number').columns)\n",
    "df = dataset_scaler(df, clean_nan=True)\n",
    "y = df['idade']\n",
    "X = df.drop(columns=['idade'])\n",
    "x_train, x_test, y_train, y_test = train_test_split(X, y, test_size = 1/3, random_state=42)"
   ]
  },
  {
   "cell_type": "code",
   "execution_count": null,
   "id": "83a3fcad",
   "metadata": {},
   "outputs": [],
   "source": [
    "from sklearn.ensemble import AdaBoostRegressor\n",
    "\n",
    "model = AdaBoostRegressor().fit(x_train, y_train)\n",
    "\n",
    "# Parametros\n",
    "parameters = {\n",
    "    'loss' :  ['linear', 'square'],\n",
    "    'learning_rate': [0.01]\n",
    "}\n",
    "\n",
    "# Buscando melhor hyperparametro\n",
    "searcher = GridSearchCV(model, parameters)\n",
    "searcher.fit(x_train, y_train)\n",
    "\n",
    "# Scores\n",
    "print(\"Melhores parametros :\", searcher.best_params_)\n",
    "print(\"Melhor Score        :\", searcher.best_score_)\n",
    "\n",
    "# Predizendo os valores\n",
    "y_pred = searcher.predict(x_test)\n",
    "\n",
    "# printing the test accuracy\n",
    "print(\"MSE: \", mean_squared_error(y_test, y_pred))\n"
   ]
  },
  {
   "cell_type": "code",
   "execution_count": null,
   "id": "27f68380",
   "metadata": {},
   "outputs": [],
   "source": [
    "from sklearn.inspection import permutation_importance\n",
    "\n",
    "# Pegando o melhor modelo do Searcher\n",
    "model = searcher.best_estimator_\n",
    "result = permutation_importance(model, x_train, y_train, n_repeats=10, n_jobs=-1)\n",
    "sorted = result.importances_std.argsort()\n",
    "fig, ax = plt.subplots()\n",
    "ax.pie(result.importances_std[sorted], labels=x_train.columns[sorted], autopct='%1.1f%%')\n",
    "plt.show()"
   ]
  },
  {
   "cell_type": "markdown",
   "id": "bfb9879a",
   "metadata": {},
   "source": [
    "## Random Forest"
   ]
  },
  {
   "cell_type": "code",
   "execution_count": null,
   "id": "5a358fb9",
   "metadata": {},
   "outputs": [],
   "source": [
    "df = obitos_raca_cor.copy()\n",
    "df.drop(columns=['cs_sexo', 'nome_munic'], inplace=True)\n",
    "list_categorical_columns = list(df.select_dtypes(include='object').columns)\n",
    "list_numerical_columns = list(df.select_dtypes(include='number').columns)\n",
    "df = dataset_scaler(df, clean_nan=True)\n",
    "y = df['idade']\n",
    "X = df.drop(columns=['idade'])\n",
    "x_train, x_test, y_train, y_test = train_test_split(X, y, test_size = 1/3, random_state=42)"
   ]
  },
  {
   "cell_type": "code",
   "execution_count": null,
   "id": "a2b5110e",
   "metadata": {},
   "outputs": [],
   "source": [
    "# Modelo\n",
    "from sklearn.ensemble import RandomForestRegressor\n",
    "\n",
    "mdl = RandomForestRegressor()\n",
    "\n",
    "# Parametros\n",
    "parameters = {\n",
    "    'n_estimators' :  np.arange(50, 200, 50),\n",
    "    'random_state' : [42]\n",
    "}\n",
    "\n",
    "# Buscando melhor hyperparametro\n",
    "searcher = GridSearchCV(mdl, parameters)\n",
    "searcher.fit(x_train, y_train)\n",
    "\n",
    "# Scores\n",
    "print(\"Melhores parametros :\", searcher.best_params_)\n",
    "print(\"Melhor Score        :\", searcher.best_score_)"
   ]
  },
  {
   "cell_type": "code",
   "execution_count": null,
   "id": "e51e7e34",
   "metadata": {},
   "outputs": [],
   "source": [
    "best_model = searcher.best_estimator_\n",
    "pipe_rfr = make_pipeline(StandardScaler(), best_model)\n",
    "pipe_rfr.fit(x_train, y_train)\n",
    "pipe_rfr.score(x_test, y_test)"
   ]
  },
  {
   "cell_type": "markdown",
   "id": "cc68802c",
   "metadata": {},
   "source": [
    "## SVM"
   ]
  },
  {
   "cell_type": "code",
   "execution_count": null,
   "id": "bb2911c3",
   "metadata": {},
   "outputs": [],
   "source": [
    "df = obitos_raca_cor.copy()\n",
    "df.drop(columns=['cs_sexo', 'nome_munic'], inplace=True)\n",
    "list_categorical_columns = list(df.select_dtypes(include='object').columns)\n",
    "list_numerical_columns = list(df.select_dtypes(include='number').columns)\n",
    "df = dataset_scaler(df, clean_nan=True)\n",
    "y = df['idade']\n",
    "X = df.drop(columns=['idade'])\n",
    "x_train, x_test, y_train, y_test = train_test_split(X, y, test_size = 1/3, random_state=42)"
   ]
  },
  {
   "cell_type": "code",
   "execution_count": null,
   "id": "e3d4b131",
   "metadata": {},
   "outputs": [],
   "source": [
    "# Modelo\n",
    "from sklearn.svm import SVR\n",
    "mdl = SVR()\n",
    "\n",
    "# Parametros\n",
    "parameters = {\n",
    "    'kernel': ['poly'],\n",
    "    'C': [0.1,1,10]\n",
    "}\n",
    "\n",
    "# Buscando melhor hyperparametro\n",
    "searcher = GridSearchCV(mdl, parameters)\n",
    "searcher.fit(x_train, y_train)\n",
    "\n",
    "# Scores\n",
    "print(\"Melhores parametros :\", searcher.best_params_)\n",
    "print(\"Melhor Score        :\", searcher.best_score_)"
   ]
  },
  {
   "cell_type": "code",
   "execution_count": null,
   "id": "ec3af6ca",
   "metadata": {},
   "outputs": [],
   "source": [
    "best_model = searcher.best_estimator_\n",
    "pipe_svm = make_pipeline(StandardScaler(), best_model)\n",
    "pipe_svm.fit(x_train, y_train)\n",
    "pipe_svm.score(x_test, y_test)"
   ]
  },
  {
   "cell_type": "markdown",
   "id": "7aae9f72",
   "metadata": {},
   "source": [
    "## KNN Regressor"
   ]
  },
  {
   "cell_type": "code",
   "execution_count": null,
   "id": "883ec190",
   "metadata": {},
   "outputs": [],
   "source": [
    "df = obitos_raca_cor.copy()\n",
    "df.drop(columns=['cs_sexo', 'nome_munic'], inplace=True)\n",
    "list_categorical_columns = list(df.select_dtypes(include='object').columns)\n",
    "list_numerical_columns = list(df.select_dtypes(include='number').columns)\n",
    "df = dataset_scaler(df, clean_nan=True)\n",
    "y = df['idade']\n",
    "X = df.drop(columns=['idade'])\n",
    "x_train, x_test, y_train, y_test = train_test_split(X, y, test_size = 1/3, random_state=42)"
   ]
  },
  {
   "cell_type": "code",
   "execution_count": null,
   "id": "444d01f1",
   "metadata": {},
   "outputs": [],
   "source": [
    "from sklearn.neighbors import KNeighborsRegressor\n",
    "\n",
    "# Modelo\n",
    "mdl = KNeighborsRegressor()\n",
    "\n",
    "# Parametros\n",
    "parameters = {\n",
    "    'n_neighbors' :  [3,7,11,15,21]\n",
    "}\n",
    "\n",
    "# Buscando melhor hyperparametro\n",
    "searcher = GridSearchCV(mdl, parameters)\n",
    "searcher.fit(x_train, y_train)\n",
    "\n",
    "# Scores\n",
    "print(\"Melhores parametros :\", searcher.best_params_)\n",
    "print(\"Melhor Score        :\", searcher.best_score_)"
   ]
  },
  {
   "cell_type": "code",
   "execution_count": null,
   "id": "668c3343",
   "metadata": {},
   "outputs": [],
   "source": [
    "best_model = searcher.best_estimator_\n",
    "pipe_knn = make_pipeline(StandardScaler(), best_model)\n",
    "pipe_knn.fit(x_train, y_train)\n",
    "pipe_knn.score(x_test, y_test)"
   ]
  }
 ],
 "metadata": {
  "kernelspec": {
   "display_name": "Python 3 (ipykernel)",
   "language": "python",
   "name": "python3"
  },
  "language_info": {
   "codemirror_mode": {
    "name": "ipython",
    "version": 3
   },
   "file_extension": ".py",
   "mimetype": "text/x-python",
   "name": "python",
   "nbconvert_exporter": "python",
   "pygments_lexer": "ipython3",
   "version": "3.11.5"
  }
 },
 "nbformat": 4,
 "nbformat_minor": 5
}
