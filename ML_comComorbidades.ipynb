{
 "cells": [
  {
   "cell_type": "code",
   "execution_count": 1,
   "id": "85e5f226",
   "metadata": {},
   "outputs": [],
   "source": [
    "import pandas as pd\n",
    "import numpy as np\n",
    "import matplotlib.pyplot as plt\n",
    "import plotly.express as px\n",
    "import plotly.graph_objects as go\n",
    "from plotly.subplots import make_subplots\n",
    "import seaborn as sns"
   ]
  },
  {
   "cell_type": "markdown",
   "id": "02594e71",
   "metadata": {},
   "source": [
    "# **SSC0957 - Prática em Ciência de Dados II**\n",
    "---\n",
    "\n",
    "### **Alunos:**\n",
    "> #### Arthur Santorum Lorenzetto - 12559465\n",
    "> #### André Guarnier De Mitri    - 11395579\n",
    "> #### Rui Emanuel Lima Vieira    - 11819182\n",
    "\n",
    "### **Professor:** Alexandre Claudio Botazzo Delbem\n",
    "---"
   ]
  },
  {
   "cell_type": "code",
   "execution_count": 2,
   "id": "9523e71c",
   "metadata": {},
   "outputs": [
    {
     "data": {
      "text/html": [
       "<div>\n",
       "<style scoped>\n",
       "    .dataframe tbody tr th:only-of-type {\n",
       "        vertical-align: middle;\n",
       "    }\n",
       "\n",
       "    .dataframe tbody tr th {\n",
       "        vertical-align: top;\n",
       "    }\n",
       "\n",
       "    .dataframe thead th {\n",
       "        text-align: right;\n",
       "    }\n",
       "</style>\n",
       "<table border=\"1\" class=\"dataframe\">\n",
       "  <thead>\n",
       "    <tr style=\"text-align: right;\">\n",
       "      <th></th>\n",
       "      <th>uf</th>\n",
       "      <th>tipo_doenca</th>\n",
       "      <th>local_obito</th>\n",
       "      <th>faixa_etaria</th>\n",
       "      <th>sexo</th>\n",
       "      <th>total</th>\n",
       "      <th>Ano</th>\n",
       "    </tr>\n",
       "  </thead>\n",
       "  <tbody>\n",
       "    <tr>\n",
       "      <th>0</th>\n",
       "      <td>AC</td>\n",
       "      <td>OUTRAS</td>\n",
       "      <td>DOMICILIO</td>\n",
       "      <td>&lt; 9</td>\n",
       "      <td>F</td>\n",
       "      <td>7</td>\n",
       "      <td>2019</td>\n",
       "    </tr>\n",
       "    <tr>\n",
       "      <th>1</th>\n",
       "      <td>AC</td>\n",
       "      <td>OUTRAS</td>\n",
       "      <td>DOMICILIO</td>\n",
       "      <td>&lt; 9</td>\n",
       "      <td>M</td>\n",
       "      <td>15</td>\n",
       "      <td>2019</td>\n",
       "    </tr>\n",
       "    <tr>\n",
       "      <th>2</th>\n",
       "      <td>AC</td>\n",
       "      <td>OUTRAS</td>\n",
       "      <td>HOSPITAL</td>\n",
       "      <td>&lt; 9</td>\n",
       "      <td>F</td>\n",
       "      <td>30</td>\n",
       "      <td>2019</td>\n",
       "    </tr>\n",
       "    <tr>\n",
       "      <th>3</th>\n",
       "      <td>AC</td>\n",
       "      <td>OUTRAS</td>\n",
       "      <td>HOSPITAL</td>\n",
       "      <td>&lt; 9</td>\n",
       "      <td>M</td>\n",
       "      <td>55</td>\n",
       "      <td>2019</td>\n",
       "    </tr>\n",
       "    <tr>\n",
       "      <th>4</th>\n",
       "      <td>AC</td>\n",
       "      <td>OUTRAS</td>\n",
       "      <td>IGNORADO</td>\n",
       "      <td>&lt; 9</td>\n",
       "      <td>M</td>\n",
       "      <td>1</td>\n",
       "      <td>2019</td>\n",
       "    </tr>\n",
       "  </tbody>\n",
       "</table>\n",
       "</div>"
      ],
      "text/plain": [
       "   uf tipo_doenca local_obito faixa_etaria sexo  total   Ano\n",
       "0  AC      OUTRAS   DOMICILIO          < 9    F      7  2019\n",
       "1  AC      OUTRAS   DOMICILIO          < 9    M     15  2019\n",
       "2  AC      OUTRAS    HOSPITAL          < 9    F     30  2019\n",
       "3  AC      OUTRAS    HOSPITAL          < 9    M     55  2019\n",
       "4  AC      OUTRAS    IGNORADO          < 9    M      1  2019"
      ]
     },
     "execution_count": 2,
     "metadata": {},
     "output_type": "execute_result"
    }
   ],
   "source": [
    "obitos_transp = pd.read_parquet('Dados/obitos_transparencia.parquet', engine='pyarrow')\n",
    "obitos_transp.head()"
   ]
  },
  {
   "cell_type": "code",
   "execution_count": 3,
   "id": "f1baea11",
   "metadata": {
    "scrolled": true
   },
   "outputs": [
    {
     "data": {
      "text/html": [
       "<div>\n",
       "<style scoped>\n",
       "    .dataframe tbody tr th:only-of-type {\n",
       "        vertical-align: middle;\n",
       "    }\n",
       "\n",
       "    .dataframe tbody tr th {\n",
       "        vertical-align: top;\n",
       "    }\n",
       "\n",
       "    .dataframe thead th {\n",
       "        text-align: right;\n",
       "    }\n",
       "</style>\n",
       "<table border=\"1\" class=\"dataframe\">\n",
       "  <thead>\n",
       "    <tr style=\"text-align: right;\">\n",
       "      <th></th>\n",
       "      <th>codigo_ibge</th>\n",
       "      <th>nome_munic</th>\n",
       "      <th>nome_drs</th>\n",
       "      <th>obito</th>\n",
       "      <th>raca_cor</th>\n",
       "      <th>idade</th>\n",
       "      <th>cs_sexo</th>\n",
       "      <th>asma</th>\n",
       "      <th>cardiopatia</th>\n",
       "      <th>diabetes</th>\n",
       "      <th>doenca_hematologica</th>\n",
       "      <th>doenca_hepatica</th>\n",
       "      <th>doenca_neurologica</th>\n",
       "      <th>doenca_renal</th>\n",
       "      <th>imunodepressao</th>\n",
       "      <th>obesidade</th>\n",
       "      <th>pneumopatia</th>\n",
       "      <th>puerpera</th>\n",
       "      <th>sindrome_de_down</th>\n",
       "    </tr>\n",
       "  </thead>\n",
       "  <tbody>\n",
       "    <tr>\n",
       "      <th>0</th>\n",
       "      <td>3500303.0</td>\n",
       "      <td>Aguaí</td>\n",
       "      <td>São João da Boa Vista</td>\n",
       "      <td>False</td>\n",
       "      <td>None</td>\n",
       "      <td>41.0</td>\n",
       "      <td>feminino</td>\n",
       "      <td>NaN</td>\n",
       "      <td>9.0</td>\n",
       "      <td>9.0</td>\n",
       "      <td>NaN</td>\n",
       "      <td>NaN</td>\n",
       "      <td>NaN</td>\n",
       "      <td>9.0</td>\n",
       "      <td>9.0</td>\n",
       "      <td>NaN</td>\n",
       "      <td>NaN</td>\n",
       "      <td>NaN</td>\n",
       "      <td>NaN</td>\n",
       "    </tr>\n",
       "    <tr>\n",
       "      <th>1</th>\n",
       "      <td>3555000.0</td>\n",
       "      <td>Tupã</td>\n",
       "      <td>Marília</td>\n",
       "      <td>False</td>\n",
       "      <td>PARDA</td>\n",
       "      <td>31.0</td>\n",
       "      <td>feminino</td>\n",
       "      <td>NaN</td>\n",
       "      <td>9.0</td>\n",
       "      <td>9.0</td>\n",
       "      <td>NaN</td>\n",
       "      <td>NaN</td>\n",
       "      <td>NaN</td>\n",
       "      <td>9.0</td>\n",
       "      <td>9.0</td>\n",
       "      <td>NaN</td>\n",
       "      <td>NaN</td>\n",
       "      <td>NaN</td>\n",
       "      <td>NaN</td>\n",
       "    </tr>\n",
       "    <tr>\n",
       "      <th>2</th>\n",
       "      <td>3534401.0</td>\n",
       "      <td>Osasco</td>\n",
       "      <td>Grande SP Oeste</td>\n",
       "      <td>False</td>\n",
       "      <td>PARDA</td>\n",
       "      <td>32.0</td>\n",
       "      <td>feminino</td>\n",
       "      <td>NaN</td>\n",
       "      <td>9.0</td>\n",
       "      <td>9.0</td>\n",
       "      <td>NaN</td>\n",
       "      <td>NaN</td>\n",
       "      <td>NaN</td>\n",
       "      <td>9.0</td>\n",
       "      <td>9.0</td>\n",
       "      <td>NaN</td>\n",
       "      <td>NaN</td>\n",
       "      <td>NaN</td>\n",
       "      <td>NaN</td>\n",
       "    </tr>\n",
       "    <tr>\n",
       "      <th>3</th>\n",
       "      <td>3548708.0</td>\n",
       "      <td>São Bernardo do Campo</td>\n",
       "      <td>Grande SP Sudeste</td>\n",
       "      <td>False</td>\n",
       "      <td>PARDA</td>\n",
       "      <td>41.0</td>\n",
       "      <td>feminino</td>\n",
       "      <td>NaN</td>\n",
       "      <td>9.0</td>\n",
       "      <td>9.0</td>\n",
       "      <td>NaN</td>\n",
       "      <td>NaN</td>\n",
       "      <td>NaN</td>\n",
       "      <td>9.0</td>\n",
       "      <td>9.0</td>\n",
       "      <td>NaN</td>\n",
       "      <td>NaN</td>\n",
       "      <td>NaN</td>\n",
       "      <td>NaN</td>\n",
       "    </tr>\n",
       "    <tr>\n",
       "      <th>4</th>\n",
       "      <td>3557006.0</td>\n",
       "      <td>Votorantim</td>\n",
       "      <td>Sorocaba</td>\n",
       "      <td>False</td>\n",
       "      <td>BRANCA</td>\n",
       "      <td>44.0</td>\n",
       "      <td>feminino</td>\n",
       "      <td>NaN</td>\n",
       "      <td>9.0</td>\n",
       "      <td>9.0</td>\n",
       "      <td>NaN</td>\n",
       "      <td>NaN</td>\n",
       "      <td>NaN</td>\n",
       "      <td>9.0</td>\n",
       "      <td>9.0</td>\n",
       "      <td>NaN</td>\n",
       "      <td>NaN</td>\n",
       "      <td>NaN</td>\n",
       "      <td>NaN</td>\n",
       "    </tr>\n",
       "  </tbody>\n",
       "</table>\n",
       "</div>"
      ],
      "text/plain": [
       "   codigo_ibge             nome_munic               nome_drs  obito raca_cor   \n",
       "0    3500303.0                  Aguaí  São João da Boa Vista  False     None  \\\n",
       "1    3555000.0                   Tupã                Marília  False    PARDA   \n",
       "2    3534401.0                 Osasco        Grande SP Oeste  False    PARDA   \n",
       "3    3548708.0  São Bernardo do Campo      Grande SP Sudeste  False    PARDA   \n",
       "4    3557006.0             Votorantim               Sorocaba  False   BRANCA   \n",
       "\n",
       "   idade   cs_sexo  asma  cardiopatia  diabetes  doenca_hematologica   \n",
       "0   41.0  feminino   NaN          9.0       9.0                  NaN  \\\n",
       "1   31.0  feminino   NaN          9.0       9.0                  NaN   \n",
       "2   32.0  feminino   NaN          9.0       9.0                  NaN   \n",
       "3   41.0  feminino   NaN          9.0       9.0                  NaN   \n",
       "4   44.0  feminino   NaN          9.0       9.0                  NaN   \n",
       "\n",
       "   doenca_hepatica  doenca_neurologica  doenca_renal  imunodepressao   \n",
       "0              NaN                 NaN           9.0             9.0  \\\n",
       "1              NaN                 NaN           9.0             9.0   \n",
       "2              NaN                 NaN           9.0             9.0   \n",
       "3              NaN                 NaN           9.0             9.0   \n",
       "4              NaN                 NaN           9.0             9.0   \n",
       "\n",
       "   obesidade  pneumopatia  puerpera  sindrome_de_down  \n",
       "0        NaN          NaN       NaN               NaN  \n",
       "1        NaN          NaN       NaN               NaN  \n",
       "2        NaN          NaN       NaN               NaN  \n",
       "3        NaN          NaN       NaN               NaN  \n",
       "4        NaN          NaN       NaN               NaN  "
      ]
     },
     "execution_count": 3,
     "metadata": {},
     "output_type": "execute_result"
    }
   ],
   "source": [
    "obitos_raca_cor = pd.read_parquet('Dados/obitos_raca_cor.parquet', engine='pyarrow')\n",
    "obitos_raca_cor.head()"
   ]
  },
  {
   "cell_type": "code",
<<<<<<< HEAD
   "execution_count": 4,
   "id": "4b25cc94",
   "metadata": {},
   "outputs": [
    {
     "data": {
      "text/plain": [
       "Index(['codigo_ibge', 'nome_munic', 'nome_drs', 'obito', 'raca_cor', 'idade',\n",
       "       'cs_sexo', 'asma', 'cardiopatia', 'diabetes', 'doenca_hematologica',\n",
       "       'doenca_hepatica', 'doenca_neurologica', 'doenca_renal',\n",
       "       'imunodepressao', 'obesidade', 'pneumopatia', 'puerpera',\n",
       "       'sindrome_de_down'],\n",
       "      dtype='object')"
      ]
     },
     "execution_count": 4,
     "metadata": {},
     "output_type": "execute_result"
=======
   "execution_count": 5,
   "id": "4b1c17ce",
   "metadata": {},
   "outputs": [
    {
     "ename": "NameError",
     "evalue": "name 'casos_comorb' is not defined",
     "output_type": "error",
     "traceback": [
      "\u001b[0;31m---------------------------------------------------------------------------\u001b[0m",
      "\u001b[0;31mNameError\u001b[0m                                 Traceback (most recent call last)",
      "Cell \u001b[0;32mIn[5], line 14\u001b[0m\n\u001b[1;32m     12\u001b[0m     confidence_interval \u001b[38;5;241m=\u001b[39m (sample_mean \u001b[38;5;241m-\u001b[39m moe, sample_mean \u001b[38;5;241m+\u001b[39m moe)\n\u001b[1;32m     13\u001b[0m     \u001b[38;5;28mprint\u001b[39m(\u001b[38;5;124mf\u001b[39m\u001b[38;5;124m\"\u001b[39m\u001b[38;5;124mIntervalo de Confiança: (\u001b[39m\u001b[38;5;132;01m{\u001b[39;00mconfidence_interval[\u001b[38;5;241m0\u001b[39m]\u001b[38;5;132;01m}\u001b[39;00m\u001b[38;5;124m, \u001b[39m\u001b[38;5;132;01m{\u001b[39;00mconfidence_interval[\u001b[38;5;241m1\u001b[39m]\u001b[38;5;132;01m}\u001b[39;00m\u001b[38;5;124m)\u001b[39m\u001b[38;5;124m\"\u001b[39m)\n\u001b[0;32m---> 14\u001b[0m get_mean_conf_interval(\u001b[43mcasos_comorb\u001b[49m[\u001b[38;5;124m'\u001b[39m\u001b[38;5;124mobito\u001b[39m\u001b[38;5;124m'\u001b[39m])\n",
      "\u001b[0;31mNameError\u001b[0m: name 'casos_comorb' is not defined"
     ]
>>>>>>> e1fd4d1b7d8b12ffc8146a5a6f30c9eda76cf609
    }
   ],
   "source": [
    "obitos_raca_cor.columns"
   ]
  },
  {
   "cell_type": "markdown",
   "id": "68ee1096",
   "metadata": {},
   "source": [
    "# Bibliotecas e tratamento de dados"
   ]
  },
  {
   "cell_type": "code",
   "execution_count": 6,
   "id": "18adb986",
   "metadata": {},
   "outputs": [],
   "source": [
    "from sklearn.metrics import mean_squared_error\n",
    "from sklearn.tree import DecisionTreeClassifier\n",
    "from sklearn import model_selection\n",
    "from sklearn.model_selection import GridSearchCV\n",
    "from sklearn.linear_model import LinearRegression\n",
    "from sklearn.model_selection import train_test_split\n",
    "from sklearn.pipeline import make_pipeline\n",
    "from sklearn.preprocessing import StandardScaler\n",
    "from sklearn.preprocessing import RobustScaler\n",
    "from sklearn.impute import SimpleImputer\n",
    "from sklearn.preprocessing import LabelEncoder\n",
    "from sklearn.model_selection import train_test_split\n",
    "\n",
    "from sklearn.metrics import accuracy_score\n",
    "from sklearn.metrics import precision_recall_fscore_support as score\n",
    "from sklearn.metrics import confusion_matrix\n",
    "from sklearn.linear_model import LogisticRegression\n",
    "from sklearn.svm import SVC\n",
    "from sklearn.tree import DecisionTreeClassifier\n",
    "from sklearn.ensemble import RandomForestClassifier\n",
    "from sklearn.neighbors import KNeighborsClassifier\n",
    "\n",
    "from imblearn.under_sampling import RandomUnderSampler\n",
    "\n",
    "import warnings\n",
    "warnings.simplefilter(action='ignore', category=FutureWarning)"
   ]
  },
  {
   "cell_type": "markdown",
   "id": "dadc84c0",
   "metadata": {},
   "source": [
    "# Modelos de Classificação"
   ]
  },
  {
   "cell_type": "code",
   "execution_count": 7,
   "id": "461b0cfc",
   "metadata": {},
   "outputs": [],
   "source": [
    "def dataset_scaler(df: pd.DataFrame, one_hot: bool = False, clean_nan: bool = False, ):\n",
    "  df1 = df.copy(deep=True)\n",
    "  if one_hot:\n",
    "    df1 = pd.get_dummies(df1, columns = list_categorical_columns)\n",
    "  else:\n",
    "    le = LabelEncoder()\n",
    "    for c in list_categorical_columns:\n",
    "      df1[c] = le.fit_transform(df1[c])\n",
    "    \n",
    "  if clean_nan:\n",
    "    imputer = SimpleImputer()\n",
    "    df1[list_numerical_columns] = imputer.fit_transform(df1[list_numerical_columns])\n",
    "#     y_imputer = SimpleImputer(missing_values=np.nan)\n",
    "#     y =  y_imputer.fit_transform(y)\n",
    "  scaler = RobustScaler()\n",
    "  df1[list_numerical_columns] = scaler.fit_transform(df1[list_numerical_columns])\n",
    "\n",
    "  return df1"
   ]
  },
  {
   "cell_type": "markdown",
   "id": "9bd5dfd5",
   "metadata": {},
   "source": [
    "## Logistic Regression"
   ]
  },
  {
   "cell_type": "code",
   "execution_count": 12,
   "id": "74060a90",
   "metadata": {},
   "outputs": [],
   "source": [
    "df = obitos_raca_cor.copy()\n",
    "df.drop(columns=['cs_sexo', 'nome_munic'], inplace=True)\n",
    "list_categorical_columns = list(df.select_dtypes(include='object').columns)\n",
    "list_numerical_columns = list(df.select_dtypes(include='number').columns)\n",
    "df = dataset_scaler(df, clean_nan=True)\n",
    "y = df['obito']\n",
    "X = df.drop(columns=['obito'])\n",
    "x_train, x_test, y_train, y_test = train_test_split(X, y, test_size = 1/3, random_state=42)\n",
    "rus = RandomUnderSampler(random_state=42, sampling_strategy = 0.5)\n",
    "x_train, y_train = rus.fit_resample(x_train, y_train)"
   ]
  },
  {
   "cell_type": "code",
   "execution_count": 13,
   "id": "3c3ca4ff",
   "metadata": {},
   "outputs": [
    {
     "name": "stdout",
     "output_type": "stream",
     "text": [
      "Melhores parametros : {'C': 0.1, 'random_state': 42}\n",
      "Melhor Score        : 0.8709340783996629\n",
      "Melhor acurácia encontrada:  0.9193676968726203\n",
      "Matrix de Confusão : \n",
      "\n"
     ]
    },
    {
     "data": {
      "image/png": "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",
      "text/plain": [
       "<Figure size 640x480 with 2 Axes>"
      ]
     },
     "metadata": {},
     "output_type": "display_data"
    }
   ],
   "source": [
    "# Modelo\n",
    "mdl = LogisticRegression(max_iter=1000)\n",
    "\n",
    "# Parametros\n",
    "parameters = {\n",
    "    'C' :  np.arange(0.1, 2, 0.3),\n",
    "    'random_state' : [42]\n",
    "}\n",
    "\n",
    "# Buscando melhor hyperparametro\n",
    "searcher = GridSearchCV(mdl, parameters)\n",
    "searcher.fit(x_train, y_train)\n",
    "\n",
    "# Scores\n",
    "print(\"Melhores parametros :\", searcher.best_params_)\n",
    "print(\"Melhor Score        :\", searcher.best_score_)\n",
    "\n",
    "# Predizendo os valores\n",
    "y_pred = searcher.predict(x_test)\n",
    "\n",
    "# printing the test accuracy\n",
    "print(\"Melhor acurácia encontrada: \", accuracy_score(y_test, y_pred))\n",
    "\n",
    "# Matrix Confusao\n",
    "cm = confusion_matrix(y_test, y_pred)\n",
    "print(\"Matrix de Confusão : \\n\")\n",
    "sns.heatmap(cm,annot=True,fmt=\"d\")\n",
    "plt.show()"
   ]
  },
  {
   "cell_type": "code",
   "execution_count": 14,
   "id": "81c00707",
   "metadata": {},
   "outputs": [
    {
     "data": {
      "image/png": "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",
      "text/plain": [
       "<Figure size 640x480 with 1 Axes>"
      ]
     },
     "metadata": {},
     "output_type": "display_data"
    }
   ],
   "source": [
    "from sklearn.inspection import permutation_importance\n",
    "\n",
    "# Pegando o melhor modelo do Searcher\n",
    "model = searcher.best_estimator_\n",
    "result = permutation_importance(model, x_train, y_train, n_repeats=10, n_jobs=-1)\n",
    "sorted = result.importances_std.argsort()\n",
    "fig, ax = plt.subplots()\n",
    "ax.pie(result.importances_std[sorted], labels=x_train.columns[sorted], autopct='%1.1f%%')\n",
    "plt.show()"
   ]
  },
  {
   "cell_type": "markdown",
   "id": "1cd91247",
   "metadata": {},
   "source": [
    "## Random Forest"
   ]
  },
  {
   "cell_type": "code",
   "execution_count": 15,
   "id": "56511ee1",
   "metadata": {},
   "outputs": [],
   "source": [
    "df = obitos_raca_cor.copy()\n",
    "df.drop(columns=['cs_sexo', 'nome_munic'], inplace=True)\n",
    "list_categorical_columns = list(df.select_dtypes(include='object').columns)\n",
    "list_numerical_columns = list(df.select_dtypes(include='number').columns)\n",
    "df = dataset_scaler(df, clean_nan=True)\n",
    "y = df['obito']\n",
    "X = df.drop(columns=['obito'])\n",
    "x_train, x_test, y_train, y_test = train_test_split(X, y, test_size = 1/3, random_state=42)\n",
    "rus = RandomUnderSampler(random_state=42, sampling_strategy = 0.5)\n",
    "x_train, y_train = rus.fit_resample(x_train, y_train)"
   ]
  },
  {
   "cell_type": "code",
   "execution_count": 16,
   "id": "547ebc1e",
   "metadata": {},
   "outputs": [
    {
     "name": "stdout",
     "output_type": "stream",
     "text": [
      "Melhores parametros : {'criterion': 'gini', 'max_depth': 6, 'n_estimators': 200, 'random_state': 42}\n",
      "Melhor Score        : 0.9437133369092635\n",
      "Melhor acurácia encontrada:  0.9164572118793163\n",
      "Matrix de Confusão : \n",
      "\n"
     ]
    },
    {
     "data": {
      "image/png": "iVBORw0KGgoAAAANSUhEUgAAAiIAAAGdCAYAAAAvwBgXAAAAOXRFWHRTb2Z0d2FyZQBNYXRwbG90bGliIHZlcnNpb24zLjcuMSwgaHR0cHM6Ly9tYXRwbG90bGliLm9yZy/bCgiHAAAACXBIWXMAAA9hAAAPYQGoP6dpAABBqUlEQVR4nO3dfVzV9f3/8ScgHLwIDBWQvFxWyjJNVKSyzWKeCisXOi1XlJbTkFLKC8rQXEVhzYu8YF0s3C/9pta0hMQIp64kNYxSFmZlUbMDmALJ8oCc8/uj8ZnnI8nB4ByWj/tun9ttft6v8/688Pt1vny93+/P8XE6nU4BAAB4ga+3EwAAAOcuChEAAOA1FCIAAMBrKEQAAIDXUIgAAACvoRABAABeQyECAAC8hkIEAAB4DYUIAADwmjbeTqBe7ZHPvZ0C0OpE9hvr7RSAVulgeUGLzt+cfyf5d/5Fs831c9RqChEAAFoNR523MzhnsDQDAAC8ho4IAABmToe3MzhnUIgAAGDmoBDxFAoRAABMnHREPIY9IgAAwGvoiAAAYMbSjMdQiAAAYMbSjMewNAMAALyGjggAAGa80MxjKEQAADBjacZjWJoBAABeQ0cEAAAzTs14DB0RAABMnE5Hs11NUVdXp0ceeUS9e/dW27ZtdeGFF+qPf/yjnE7nKbk5lZqaqq5du6pt27aKjY3VwYMHXeY5evSoJkyYoKCgIHXs2FGTJk3S8ePHXWI++ugjDR8+XIGBgerevbvS09NPy2f9+vXq27evAgMD1b9/f7355pum36fGc2kMhQgAAK3EU089pZUrV2rZsmX6+OOP9dRTTyk9PV3PPvusEZOenq6lS5cqIyNDu3btUvv27WW1WnXixAkjZsKECSoqKlJubq6ysrK0Y8cOTZ482RivqqrSyJEj1bNnTxUUFGjhwoWaP3++nnvuOSNm586duvXWWzVp0iR98MEHGj16tEaPHq39+/c3KZfG+DhPLbO8qPbI595OAWh1IvuN9XYKQKt0sLygRee3H9zZbHNZLrrC7dhRo0YpLCxML774onEvPj5ebdu21csvvyyn06mIiAg98MADevDBByVJlZWVCgsLU2ZmpsaPH6+PP/5YkZGR2rNnjwYPHixJysnJ0Q033KCvv/5aERERWrlypR5++GHZbDYFBARIkubMmaONGzequLhYkjRu3DhVV1crKyvLyGXYsGEaOHCgMjIy3MrFHXREAAAwczqa7bLb7aqqqnK57HZ7g4+94oorlJeXp08++USS9OGHH+qdd97R9ddfL0k6dOiQbDabYmNjjc8EBwcrOjpa+fn5kqT8/Hx17NjRKEIkKTY2Vr6+vtq1a5cRc/XVVxtFiCRZrVYdOHBAx44dM2JOfU59TP1z3MnFHRQiAACYOeqa7UpLS1NwcLDLlZaW1uBj58yZo/Hjx6tv377y9/fX5ZdfrunTp2vChAmSJJvNJkkKCwtz+VxYWJgxZrPZFBoa6jLepk0bhYSEuMQ0NMepz/ixmFPHG8vFHZyaAQCgBaWkpCg5OdnlnsViaTB23bp1Wr16tdasWaNf/vKXKiws1PTp0xUREaGEhARPpOtxFCIAAJg14wvNLBbLjxYeZjNnzjS6IpLUv39/ffnll0pLS1NCQoLCw8MlSaWlperatavxudLSUg0cOFCSFB4errKyMpd5T548qaNHjxqfDw8PV2lpqUtM/a8bizl1vLFc3MHSDAAAZg5H811N8O9//1u+vq5/Nfv5+cnxn3l69+6t8PBw5eXlGeNVVVXatWuXYmJiJEkxMTGqqKhQQcF/N/Ru3bpVDodD0dHRRsyOHTtUW1trxOTm5uqSSy7R+eefb8Sc+pz6mPrnuJOLOyhEAABoJW688UY9/vjjys7O1hdffKENGzboT3/6k377299Kknx8fDR9+nQ99thjeuONN7Rv3z7dcccdioiI0OjRoyVJ/fr103XXXad77rlHu3fv1rvvvqtp06Zp/PjxioiIkCTddtttCggI0KRJk1RUVKS1a9dqyZIlLktI999/v3JycvTMM8+ouLhY8+fP1/vvv69p06a5nYs7WJoBAMDMS9818+yzz+qRRx7Rvffeq7KyMkVEROgPf/iDUlNTjZhZs2apurpakydPVkVFha666irl5OQoMDDQiFm9erWmTZuma6+9Vr6+voqPj9fSpUuN8eDgYL311ltKTExUVFSUOnfurNTUVJd3jVxxxRVas2aN5s6dq4ceekgXXXSRNm7cqEsvvbRJuTSG94gArRjvEQEa1uLvEfloS7PNZbnM2mxz/RyxNAMAALyGpRkAAEyczjpvp3DOoBABAMDMS3tEzkUszQAAAK+hIwIAgFkT3/+Bs0chAgCAGUszHkMhAgCAmYPNqp7CHhEAAOA1dEQAADBjacZjKEQAADBjs6rHsDQDAAC8ho4IAABmLM14DIUIAABmLM14DEszAADAa+iIAABgRkfEYyhEAAAw4dt3PYelGQAA4DV0RAAAMGNpxmMoRAAAMOP4rsdQiAAAYEZHxGPYIwIAALyGjggAAGYszXgMhQgAAGYszXgMSzMAAMBr6IgAAGDG0ozHUIgAAGDG0ozHsDQDAAC8ho4IAABmdEQ8hkIEAAAz9oh4DEszAADAa+iIAABgxtKMx1CIAABgxtKMx1CIAABgRkfEY9gjAgBAK9GrVy/5+PicdiUmJkqSTpw4ocTERHXq1EkdOnRQfHy8SktLXeYoKSlRXFyc2rVrp9DQUM2cOVMnT550idm2bZsGDRoki8WiPn36KDMz87Rcli9frl69eikwMFDR0dHavXu3y7g7ubiDQgQAADOno/muJtizZ4+++eYb48rNzZUkjR07VpI0Y8YMbdq0SevXr9f27dt1+PBh3XLLLcbn6+rqFBcXp5qaGu3cuVOrVq1SZmamUlNTjZhDhw4pLi5OI0aMUGFhoaZPn667775bW7ZsMWLWrl2r5ORkzZs3T3v37tWAAQNktVpVVlZmxDSWi7t8nE6ns8mfagG1Rz73dgpAqxPZb6y3UwBapYPlBS06//evPtZsc7UdM/esPzt9+nRlZWXp4MGDqqqqUpcuXbRmzRqNGTNGklRcXKx+/fopPz9fw4YN0+bNmzVq1CgdPnxYYWFhkqSMjAzNnj1b5eXlCggI0OzZs5Wdna39+/cbzxk/frwqKiqUk5MjSYqOjtaQIUO0bNkySZLD4VD37t2VlJSkOXPmqLKystFc3EVHBACAFmS321VVVeVy2e32Rj9XU1Ojl19+WRMnTpSPj48KCgpUW1ur2NhYI6Zv377q0aOH8vPzJUn5+fnq37+/UYRIktVqVVVVlYqKioyYU+eoj6mfo6amRgUFBS4xvr6+io2NNWLcycVdFCIAAJg5HM12paWlKTg42OVKS0trNIWNGzeqoqJCd955pyTJZrMpICBAHTt2dIkLCwuTzWYzYk4tQurH68fOFFNVVaXvv/9eR44cUV1dXYMxp87RWC7u4tQMAABmzbhrISUlRcnJyS73LBZLo5978cUXdf311ysiIqLZcmmNKEQAAGhBFovFrcLjVF9++aXefvtt/e1vfzPuhYeHq6amRhUVFS6diNLSUoWHhxsx5tMt9SdZTo0xn24pLS1VUFCQ2rZtKz8/P/n5+TUYc+ocjeXiLpZmAAAwa8almbPx0ksvKTQ0VHFxcca9qKgo+fv7Ky8vz7h34MABlZSUKCYmRpIUExOjffv2uZxuyc3NVVBQkCIjI42YU+eoj6mfIyAgQFFRUS4xDodDeXl5Row7ubiLjggAAGZefKGZw+HQSy+9pISEBLVp89+/poODgzVp0iQlJycrJCREQUFBSkpKUkxMjHFKZeTIkYqMjNTtt9+u9PR02Ww2zZ07V4mJiUZXZsqUKVq2bJlmzZqliRMnauvWrVq3bp2ys7ONZyUnJyshIUGDBw/W0KFDtXjxYlVXV+uuu+5yOxd3UYgAANCKvP322yopKdHEiRNPG1u0aJF8fX0VHx8vu90uq9WqFStWGON+fn7KysrS1KlTFRMTo/bt2yshIUELFiwwYnr37q3s7GzNmDFDS5YsUbdu3fTCCy/IarUaMePGjVN5eblSU1Nls9k0cOBA5eTkuGxgbSwXd/EeEaAV4z0iQMNa/D0iLz/cbHO1/f3jzTbXzxEdEQAAzPiuGY+hEAEAwKx1LBacEzg1AwAAvIaOCAAAZizNeAyFCAAAZhQiHsPSDAAA8Bo6IgAAmDnpiHgKhQgAACZOB6dmPIWlGQAA4DV0RAAAMGOzqsdQiAAAYMYeEY9haQYAAHgNHREAAMzYrOoxFCIAAJixR8RjKEQAADCjEPEY9ogAAACvoSMCAICZkz0inkIh8j+krq5OK15cray3turIt8fUpXOIRt/wG/3hzlvl4+NzWvyj6c9q/etvavZ9k3X7uN8a9/+86v+0Y+ceHTj4ufz92yh/y6sun6uorNLsR9P1yaeHVFFVpZDzO+qaq2J0/5QEdWjf3ojbvfcjLXz2OX166EuFh3bRHxJu1ei435x1vkBz+XvBJnXrEXHa/Zf/sk6Pzn5KPXp10+z50zU4eqACLP7asTVfC1LS9W350TPOsfCPz+q5pZmSpN4X9tSCpx9Sn4t767ygDiqzlWvT33L07MLndfLkSUlSmzZtNOX+u/TbcaMU1rWLPv/0Sy3841L9Y2t+y/3waB4szXgMhcj/kBdfXq+1G7P1+NwH1Kd3TxUVf6K5jy9Shw7t9fuxN7vEvr39XX1UVKzQzp1Om6e29qSsI4Zr4KX99LesLaeN+/j4aMTwYUq65w6FnB+skq8P6/FnVqhy4XdKnz9bkvT1YZsSZ6bqd6Pj9OS8Wdr1fqHmPbVYXTqH6MroqCbnCzSn+JG3y9fPz/j1xX0v1KrXVmrz62+rbbtAvbRuuYqLPtHtt0yRJE2fM1V/fnmRxl53p5yn/Et4cdpKrX15g/Hr6uPVxn8/efKkNq7LUtFHxaqq/E59f3mxHv/TXPn4+upPjy+XJM1Imaqbxt6gucmP6fODX2j4iBityHxa4+Im6p/7DrT0bwPwP4FC5H9I4f6PNWL4MP3qiqGSpAu6hunN3O3a90/X/0ErLT+itEUr9ec/Pa57Z6aeNs+0u2+XJG3Mzm3wOcFB52n8b0cZv44ID9O4W0bppTX/7Zys25itC7qGa2bSPZKkC3v10N6PivTXtRuMQsTdfIHmdvTbCpdf/+G+O/Xloa+0e2eBrvr1MF3Qo6tuvuY2Hf9PYTFr2jwVfPp3xQwfop07dhufq66u1pGybxt8xldf/ktfffkv49eHv7bpjdc2a/Cwy417N/8uTisXvajtb78rSVqT+aqu+NVQTZz6ez147yPN9eOiJXB812PYrPo/ZOCl/bTr/UJ9UfK1JKn44Ofa+1GRhg8bbMQ4HA6lLHhad942Rn1+0bNZnltW/q3e3v6uBg/sb9z7cH+xhg0e6BJ3ZXSUPtz/cZPyBVqav38b3TTmBr265nVJUkCAv5xOp2pqaoyYGrtdDodDUdEDXT47+b47tftAnl7fulp3J94uv1O6LGY9enfT1ddcoT07C4x7AQH+sttrXOJOfG8/7TlohZyO5rtwRk3uiBw5ckR/+ctflJ+fL5vNJkkKDw/XFVdcoTvvvFNdunRp9iTxg7tv/52q//1v3XjbZPn5+qrO4dB9kxM0ynqNEfPiy+vl5+fbLEsfM+c9qb//4z2dsNv16yujtWDOdGPsyNFj6hRyvkt8p/M76nj1v3XCblegxeJWvkBLi71hhIKCO+hv/7dJklRYsE/f//uEZqbep2ceXy4fH+nBR5LUpk0bhYZ1Nj731+dfUdFHxaqsqNSgIQP0wNxp6hLWWWmpi1zmX5v9F/3ysr6yBFr0yqrXtPjJDGPsnb+/p4lTJmhP/l6VHPpaV1w9VCPjrpGfH/8GBOo1qRDZs2ePrFar2rVrp9jYWF188cWSpNLSUi1dulRPPvmktmzZosGDz/wvXrvdLrvd7nLP126XxWJpYvrnlpytO5T11t/11PxZ6tO7p4oPfq6nlvxZoZ1DdPMNv1FR8UG9vP51rf/Ls82yGXT2fZM1deIEfVnyLy3OeEnpzz6nRx6c1mz5Ap4wdsLN2pG3U2WlRyT9sGxz36TZejQ9RXfcM14Oh0NZf9ui/R9+LMcp7fiXMlYb//3APz9VbW2tFjz9sJ55bJlqamqNsfvvSVGHDu3U95cXa/b8+3V34u16ftlfJUmPPbxQj/3pEW3Z+ZqcTqdKvvhar73yhsbcepOHfnqcNZZmPKZJhUhSUpLGjh2rjIyM0/6iczqdmjJlipKSkpSff+Yd4WlpaXr00Udd7s2deZ9SZ93flHTOOc8sf1F3//53uiH215Kkiy/srW9sZXrh/63TzTf8Rns/3K+jxyr0m/g7jM/U1Tm0cNkL+n/rNuqt11Y16XmdO4Woc6cQ/aJndwUHddAd987UlDtvU5fOIeoccr6+PXrMJf7bYxXq0L6dAv9TUDaWL9DSIrqF64qrhyrxzpku99/Z9p6uHXqzzg/pqJMnT+q7quPaWbRFX3359Y/OVViwX/7+bXRB9wgd+uxL477tcKkk6dNPDsnXz1ePPTNXL654WQ6HQ0e/rdC9CQ8owBKg888PVqmtXDMfSXLZW4LWycmpGY9pUiHy4YcfKjMzs8F/bfv4+GjGjBm6/PLLG/ikq5SUFCUnJ7vc8/2OP5iNOXHCLh9f1997X19fOf6zy//G667VsCGuv/9/mDFXN153jUbfMPInPbv+GTW1P/xLcMClffWP/PddYvL3fKABl/ZzO1+gpcXfepO+PXJM23LfaXD82NEKSdKwq4aoU+cQ5eXs+NG5Ii+9RHV1dfr2yNEfjfH19VUb/zY//P/5KX+R1dhrVGorV5s2bWS98Vq9+XrDG8WBc1GTCpHw8HDt3r1bffv2bXB89+7dCgsLa3Qei8Vy2jJMbc2RpqRyTvr1ldF6ftUr6hoWqj69e+rjTz7VX9f+Tb+N+6HI6BgcpI7BQS6fadPGT51Dzlfvnt2Me9/YylRZ9Z2+KS1TXZ1DxZ98Jknq0S1C7dq11Y6du/XtsQpd2u9itWvbVp8e+lLPLH9Bl18WqQu6/vB/39+NjtP/vbZJzyx/Ub8dNVK7Cz7Ulq07tGLhArfzBVqSj4+P4m+9SRvWZqmurs5lLP7WG/XZJ4d09NsKDRzcX3Mff1AvZawxOh0DB/fXwKhL9d4776v6+L91+eDL9NAfk/X6q5tVVfmdJOmm+OtVe/KkPvnnQdXU1OrSgZF6YO40vbnxLeM9IgMGXaqwrl308f5PFNa1i5Jm/kG+Pj56/tmmdSfhBSzNeEyTCpEHH3xQkydPVkFBga699lqj6CgtLVVeXp6ef/55Pf300y2SKKSHZkzVs8//VY89vVxHj1WoS+cQjb35Bk2967YmzbPshf+n1ze/bfx6zF0/7Pv4y7NPaeigyxRosejVN3KUvvQ51dTUKjysi2J/dYUm/f53xme6RYRr+cIFSl/6Z728fqPCunTWo7OnG0d3mzNf4Gxc+atoXdC9q15d/fppY7379NIDc6cpuGOw/vXVYa1c9BeXPSE1NbWKG21V0sw/KCDAX1+XHNZLf16jl1a+bMScrDupyUkJ6nVhD/n4+OjwV9/o5RfXucxjCQzQjJR71b3nBaqu/l7b335HM+99RN9VHW/ZHx4/HaddPMbH6Wxan3zt2rVatGiRCgoKjH9l+Pn5KSoqSsnJyfrd737XyAwNqz3y+Vl9Dvg5i+w31tspAK3SwfKCxoN+guoFE5ptrvapqxsPOoc1+fjuuHHjNG7cONXW1urIkR+WUzp37ix/f/9mTw4AAPy8nfWbVf39/dW1a9fmzAUAgNaBUzMewyveAQAwY7Oqx/B6PwAA4DV0RAAAMOPUjMfQEQEAwMzhbL6rif71r3/p97//vTp16qS2bduqf//+ev/9/75A0ul0KjU1VV27dlXbtm0VGxurgwcPusxx9OhRTZgwQUFBQerYsaMmTZqk48ddj41/9NFHGj58uAIDA9W9e3elp6eflsv69evVt29fBQYGqn///nrzzTddxt3JpTEUIgAAtBLHjh3TlVdeKX9/f23evFn//Oc/9cwzz+j88//7JaPp6elaunSpMjIytGvXLrVv315Wq1UnTpwwYiZMmKCioiLl5uYqKytLO3bs0OTJk43xqqoqjRw5Uj179lRBQYEWLlyo+fPn67nnnjNidu7cqVtvvVWTJk3SBx98oNGjR2v06NHav39/k3JpTJPfI9JSeI8IcDreIwI0rKXfI3I8Jb7Z5uqQ9prbsXPmzNG7776rf/zjHw2OO51ORURE6IEHHtCDDz4oSaqsrFRYWJgyMzM1fvx4ffzxx4qMjNSePXuML6HNycnRDTfcoK+//loRERFauXKlHn74YdlsNgUEBBjP3rhxo4qLiyX98LqO6upqZWVlGc8fNmyYBg4cqIyMDLdycQcdEQAAzJpxacZut6uqqsrlMn8Dfb033nhDgwcP1tixYxUaGqrLL79czz//vDF+6NAh2Ww2xcbGGveCg4MVHR1tfOFsfn6+OnbsaBQhkhQbGytfX1/t2rXLiLn66quNIkSSrFarDhw4oGPHjhkxpz6nPqb+Oe7k4g4KEQAAWlBaWpqCg4NdrrS0tAZjP//8c61cuVIXXXSRtmzZoqlTp+q+++7TqlU/fD+RzWaTpNO+1y0sLMwYs9lsCg0NdRlv06aNQkJCXGIamuPUZ/xYzKnjjeXiDk7NAABg1ozvEWnoG+fNX/xqPNbh0ODBg/XEE09Iki6//HLt379fGRkZSkhIaLacWhM6IgAAmDkdzXZZLBYFBQW5XD9WiHTt2lWRkZEu9/r166eSkhJJUnh4uKQfvmz2VKWlpcZYeHi4ysrKXMZPnjypo0ePusQ0NMepz/ixmFPHG8vFHRQiAACYeen47pVXXqkDBw643Pvkk0/Us2dPSVLv3r0VHh6uvLw8Y7yqqkq7du1STEyMJCkmJkYVFRUqKPjvht6tW7fK4XAoOjraiNmxY4dqa2uNmNzcXF1yySXGCZ2YmBiX59TH1D/HnVzcQSECAEArMWPGDL333nt64okn9Omnn2rNmjV67rnnlJiYKEny8fHR9OnT9dhjj+mNN97Qvn37dMcddygiIkKjR4+W9EMH5brrrtM999yj3bt3691339W0adM0fvx4RURESJJuu+02BQQEaNKkSSoqKtLatWu1ZMkSlyWk+++/Xzk5OXrmmWdUXFys+fPn6/3339e0adPczsUd7BEBAMDE6aXvmhkyZIg2bNiglJQULViwQL1799bixYs1YcIEI2bWrFmqrq7W5MmTVVFRoauuuko5OTkKDAw0YlavXq1p06bp2muvla+vr+Lj47V06VJjPDg4WG+99ZYSExMVFRWlzp07KzU11eVdI1dccYXWrFmjuXPn6qGHHtJFF12kjRs36tJLL21SLo3hPSJAK8Z7RICGtfR7RL67b1SzzXXe0qzGg85hLM0AAACvYWkGAAAzB1965ykUIgAAmHlpj8i5iKUZAADgNXREAAAwoyPiMRQiAACYtJIDpecElmYAAIDX0BEBAMCMpRmPoRABAMCMQsRjKEQAADDx1ivez0XsEQEAAF5DRwQAADM6Ih5DIQIAgBlvePcYlmYAAIDX0BEBAMCEzaqeQyECAIAZhYjHsDQDAAC8ho4IAABmbFb1GAoRAABM2CPiOSzNAAAAr6EjAgCAGUszHkMhAgCACUsznkMhAgCAGR0Rj2GPCAAA8Bo6IgAAmDjpiHgMhQgAAGYUIh7D0gwAAPAaOiIAAJiwNOM5FCIAAJhRiHgMSzMAAMBr6IgAAGDC0oznUIgAAGBCIeI5LM0AAGDidDTf1RTz58+Xj4+Py9W3b19j/MSJE0pMTFSnTp3UoUMHxcfHq7S01GWOkpISxcXFqV27dgoNDdXMmTN18uRJl5ht27Zp0KBBslgs6tOnjzIzM0/LZfny5erVq5cCAwMVHR2t3bt3u4y7k4s7KEQAAGhFfvnLX+qbb74xrnfeeccYmzFjhjZt2qT169dr+/btOnz4sG655RZjvK6uTnFxcaqpqdHOnTu1atUqZWZmKjU11Yg5dOiQ4uLiNGLECBUWFmr69Om6++67tWXLFiNm7dq1Sk5O1rx587R3714NGDBAVqtVZWVlbufiLh+n09kqvtmn9sjn3k4BaHUi+431dgpAq3SwvKBF5y/99a+bba6wbdvcjp0/f742btyowsLC08YqKyvVpUsXrVmzRmPGjJEkFRcXq1+/fsrPz9ewYcO0efNmjRo1SocPH1ZYWJgkKSMjQ7Nnz1Z5ebkCAgI0e/ZsZWdna//+/cbc48ePV0VFhXJyciRJ0dHRGjJkiJYtWyZJcjgc6t69u5KSkjRnzhy3cnEXHREAAEy8tTQjSQcPHlRERIR+8YtfaMKECSopKZEkFRQUqLa2VrGxsUZs37591aNHD+Xn50uS8vPz1b9/f6MIkSSr1aqqqioVFRUZMafOUR9TP0dNTY0KCgpcYnx9fRUbG2vEuJOLu9isCgBAC7Lb7bLb7S73LBaLLBbLabHR0dHKzMzUJZdcom+++UaPPvqohg8frv3798tmsykgIEAdO3Z0+UxYWJhsNpskyWazuRQh9eP1Y2eKqaqq0vfff69jx46prq6uwZji4mJjjsZycRcdEQAATJwOn2a70tLSFBwc7HKlpaU1+Nzrr79eY8eO1WWXXSar1ao333xTFRUVWrdunYd/BzyHQgQAAJPmXJpJSUlRZWWly5WSkuJWHh07dtTFF1+sTz/9VOHh4aqpqVFFRYVLTGlpqcLDwyVJ4eHhp51cqf91YzFBQUFq27atOnfuLD8/vwZjTp2jsVzcRSECAEALslgsCgoKcrkaWpZpyPHjx/XZZ5+pa9euioqKkr+/v/Ly8ozxAwcOqKSkRDExMZKkmJgY7du3z+V0S25uroKCghQZGWnEnDpHfUz9HAEBAYqKinKJcTgcysvLM2LcycVd7BEBAMDE6fTxynMffPBB3XjjjerZs6cOHz6sefPmyc/PT7feequCg4M1adIkJScnKyQkREFBQUpKSlJMTIxxSmXkyJGKjIzU7bffrvT0dNlsNs2dO1eJiYlG8TNlyhQtW7ZMs2bN0sSJE7V161atW7dO2dnZRh7JyclKSEjQ4MGDNXToUC1evFjV1dW66667JMmtXNxFIQIAgIm33qz69ddf69Zbb9W3336rLl266KqrrtJ7772nLl26SJIWLVokX19fxcfHy263y2q1asWKFcbn/fz8lJWVpalTpyomJkbt27dXQkKCFixYYMT07t1b2dnZmjFjhpYsWaJu3brphRdekNVqNWLGjRun8vJypaamymazaeDAgcrJyXHZwNpYLu7iPSJAK8Z7RICGtfR7RL6OvqbZ5uq2a2uzzfVzREcEAAATp8M7SzPnIgoRAABMWsdawbmBQgQAABM6Ip7D8V0AAOA1dEQAADChI+I5FCIAAJiwR8RzWJoBAABeQ0cEAAATlmY8h0IEAAATb73i/VzE0gwAAPAaOiIAAJh467tmzkUUIgAAmDhYmvEYlmYAAIDX0BEBAMCEzaqeQyECAIAJx3c9h0IEAAAT3qzqOewRAQAAXkNHBAAAE5ZmPIdCBAAAE47veg5LMwAAwGvoiAAAYMLxXc+hEAEAwIRTM57D0gwAAPAaOiIAAJiwWdVzKEQAADBhj4jnsDQDAAC8ho4IAAAmbFb1HAoRAABM2CPiOa2mEGkbMdzbKQCtTvuAQG+nAJyT2CPiOewRAQAAXtNqOiIAALQWLM14DoUIAAAm7FX1HJZmAACA11CIAABg4nD6NNt1tp588kn5+Pho+vTpxr0TJ04oMTFRnTp1UocOHRQfH6/S0lKXz5WUlCguLk7t2rVTaGioZs6cqZMnT7rEbNu2TYMGDZLFYlGfPn2UmZl52vOXL1+uXr16KTAwUNHR0dq9e7fLuDu5uINCBAAAE6fTp9mus7Fnzx79+c9/1mWXXeZyf8aMGdq0aZPWr1+v7du36/Dhw7rllluM8bq6OsXFxammpkY7d+7UqlWrlJmZqdTUVCPm0KFDiouL04gRI1RYWKjp06fr7rvv1pYtW4yYtWvXKjk5WfPmzdPevXs1YMAAWa1WlZWVuZ2Lu3ycztbx2pY2ARd4OwWg1eH4LtCwyuOftej874aPaba5rrS92qT448ePa9CgQVqxYoUee+wxDRw4UIsXL1ZlZaW6dOmiNWvWaMyYH/IrLi5Wv379lJ+fr2HDhmnz5s0aNWqUDh8+rLCwMElSRkaGZs+erfLycgUEBGj27NnKzs7W/v37jWeOHz9eFRUVysnJkSRFR0dryJAhWrZsmSTJ4XCoe/fuSkpK0pw5c9zKxV10RAAAMHE049VUiYmJiouLU2xsrMv9goIC1dbWutzv27evevToofz8fElSfn6++vfvbxQhkmS1WlVVVaWioiIjxjy31Wo15qipqVFBQYFLjK+vr2JjY40Yd3JxF6dmAAAwcar5ju/a7XbZ7XaXexaLRRaL5bTYV155RXv37tWePXtOG7PZbAoICFDHjh1d7oeFhclmsxkxpxYh9eP1Y2eKqaqq0vfff69jx46prq6uwZji4mK3c3EXHREAAFpQWlqagoODXa60tLTT4r766ivdf//9Wr16tQIDz51lWQoRAABMHM7mu1JSUlRZWelypaSknPbMgoIClZWVadCgQWrTpo3atGmj7du3a+nSpWrTpo3CwsJUU1OjiooKl8+VlpYqPDxckhQeHn7ayZX6XzcWExQUpLZt26pz587y8/NrMObUORrLxV0UIgAAmDjk02yXxWJRUFCQy9XQssy1116rffv2qbCw0LgGDx6sCRMmGP/d399feXl5xmcOHDigkpISxcTESJJiYmK0b98+l9Mtubm5CgoKUmRkpBFz6hz1MfVzBAQEKCoqyiXG4XAoLy/PiImKimo0F3exRwQAAJPm3CPirvPOO0+XXnqpy7327durU6dOxv1JkyYpOTlZISEhCgoKUlJSkmJiYoxTKiNHjlRkZKRuv/12paeny2azae7cuUpMTDSKnylTpmjZsmWaNWuWJk6cqK1bt2rdunXKzs42npucnKyEhAQNHjxYQ4cO1eLFi1VdXa277rpLkhQcHNxoLu6iEAEA4H/EokWL5Ovrq/j4eNntdlmtVq1YscIY9/PzU1ZWlqZOnaqYmBi1b99eCQkJWrBggRHTu3dvZWdna8aMGVqyZIm6deumF154QVar1YgZN26cysvLlZqaKpvNpoEDByonJ8dlA2tjubiL94gArRjvEQEa1tLvEckNG9dsc/2mdG2zzfVzREcEAAATbyzNnKvYrAoAALyGjggAACZn80ZUnB0KEQAATChEPIelGQAA4DV0RAAAMGGzqudQiAAAYOKgDvEYlmYAAIDX0BEBAMDEwdKMx1CIAABg0ipeOX6OoBABAMCE47uewx4RAADgNXREAAAwcfiwR8RTKEQAADBhj4jnsDQDAAC8ho4IAAAmbFb1HAoRAABMeLOq57A0AwAAvIaOCAAAJrxZ1XMoRAAAMOHUjOewNAMAALyGjggAACZsVvUcChEAAEw4vus5FCIAAJiwR8Rz2CMCAAC8ho4IAAAm7BHxHAoRAABM2CPiOSzNAAAAr6EjAgCACR0Rz6EQAQDAxMkeEY9haQYAAHgNHREAAExYmvEcChEAAEwoRDyHpRkAAFqJlStX6rLLLlNQUJCCgoIUExOjzZs3G+MnTpxQYmKiOnXqpA4dOig+Pl6lpaUuc5SUlCguLk7t2rVTaGioZs6cqZMnT7rEbNu2TYMGDZLFYlGfPn2UmZl5Wi7Lly9Xr169FBgYqOjoaO3evdtl3J1c3EEhAgCAibMZr6bo1q2bnnzySRUUFOj999/XNddco5tvvllFRUWSpBkzZmjTpk1av369tm/frsOHD+uWW24xPl9XV6e4uDjV1NRo586dWrVqlTIzM5WammrEHDp0SHFxcRoxYoQKCws1ffp03X333dqyZYsRs3btWiUnJ2vevHnau3evBgwYIKvVqrKyMiOmsVzc5eN0OlvFK/XbBFzg7RSAVqd9QKC3UwBapcrjn7Xo/Et6/L7Z5rq/5OWf9PmQkBAtXLhQY8aMUZcuXbRmzRqNGTNGklRcXKx+/fopPz9fw4YN0+bNmzVq1CgdPnxYYWFhkqSMjAzNnj1b5eXlCggI0OzZs5Wdna39+/cbzxg/frwqKiqUk5MjSYqOjtaQIUO0bNkySZLD4VD37t2VlJSkOXPmqLKystFc3EVHBAAAE0czXna7XVVVVS6X3W5vNIe6ujq98sorqq6uVkxMjAoKClRbW6vY2Fgjpm/fvurRo4fy8/MlSfn5+erfv79RhEiS1WpVVVWV0VXJz893maM+pn6OmpoaFRQUuMT4+voqNjbWiHEnF3dRiAAA0ILS0tIUHBzscqWlpf1o/L59+9ShQwdZLBZNmTJFGzZsUGRkpGw2mwICAtSxY0eX+LCwMNlsNkmSzWZzKULqx+vHzhRTVVWl77//XkeOHFFdXV2DMafO0Vgu7uLUDAAAJs15aiYlJUXJycku9ywWy4/GX3LJJSosLFRlZaVeffVVJSQkaPv27c2YUetCIQIAgElzbp60WCxnLDzMAgIC1KdPH0lSVFSU9uzZoyVLlmjcuHGqqalRRUWFSyeitLRU4eHhkqTw8PDTTrfUn2Q5NcZ8uqW0tFRBQUFq27at/Pz85Ofn12DMqXM0lou7WJoBAKAVczgcstvtioqKkr+/v/Ly8oyxAwcOqKSkRDExMZKkmJgY7du3z+V0S25uroKCghQZGWnEnDpHfUz9HAEBAYqKinKJcTgcysvLM2LcycVddEQAADBxeOm7ZlJSUnT99derR48e+u6777RmzRpt27ZNW7ZsUXBwsCZNmqTk5GSFhIQoKChISUlJiomJMU6pjBw5UpGRkbr99tuVnp4um82muXPnKjEx0ejKTJkyRcuWLdOsWbM0ceJEbd26VevWrVN2draRR3JyshISEjR48GANHTpUixcvVnV1te666y5JcisXd1GIAABg4q03q5aVlemOO+7QN998o+DgYF122WXasmWLfvOb30iSFi1aJF9fX8XHx8tut8tqtWrFihXG5/38/JSVlaWpU6cqJiZG7du3V0JCghYsWGDE9O7dW9nZ2ZoxY4aWLFmibt266YUXXpDVajVixo0bp/LycqWmpspms2ngwIHKyclx2cDaWC7u4j0iQCvGe0SAhrX0e0Se7Nl87xGZ8+VPe4/Izx0dEQAATFrFv9DPERQiAACYOChFPIZTMwAAwGvoiAAAYOKtzarnIgoRAABMWJjxHAoRAABM6Ih4DntEAACA19ARAQDAxFtvVj0XUYgAAGDC8V3PYWkGAAB4DR0RAABM6Id4DoUIAAAmnJrxHJZmAACA19ARAQDAhM2qnkMhAgCACWWI57A0AwAAvIaOCAAAJmxW9RwKEQAATNgj4jkUIgAAmFCGeA57RAAAgNfQEQEAwIQ9Ip5DIQIAgImTxRmPYWkGAAB4DR0RAABMWJrxHAoRAABMOL7rOSzNAAAAr6EjAgCACf0Qz6EjAsPUKQn69JP3dLzqM+18Z5OGDB7o7ZSAszLp7tv07nvZ+upwob46XKjcvPWK/c2vjPE77xqvrM2r9dXhQlUe/0zBwee5fL5Hjwu0bHmaPtq/TbbyIhV+tFUpD98vf39/I+aq4dFa80qGDnyar8Ol+/SPnZs09nc3nZbL1Hvv1Pt7c2UrL1JR8Tt64smHZbEEtNwPj2bhkLPZLpwZHRFIksaOvUlPL5ynexPnaPeeD3Rf0t16M3u1Ii+9WuXl33o7PaBJ/vUvm+anLtRnn30hHx/ptgnx+r+1GRp+5U0q/vig2rYNVF7uDuXl7tD8BbNO+/xFF18oH19fTb9vrj7//Ev1i7xYS5c9ofbt2mnuw2mSpOjoQSoqOqDFi55TedkRWa+/Rn9+/mlVVX2nLTl/lySNGXuj5i+YpcSps7V711716dNbK/6cLqfTqYdTnvDo7wnQWvk4nc5WUa61CbjA2ymc03a+s0l73v9Q90+fK0ny8fHRF5/v0fIVLyl94XIvZ3fuah8Q6O0Ufja+KCnQI3Of1P/763rj3lXDo5W9eY16XDBQlZXfnfHz991/jybdfZsG9B/xozHrXn1BZWVHNO3eOZKkhc/M0yWX9NFNo243Yh57IkWDBw/UdSPH/cSf6NxWefyzFp3/nl5jm22u579Y33jQOYylGcjf31+DBl2mvK3/MO45nU7lbX1Hw4ZFeTEz4Kfz9fVV/JhRate+rXbv/uCs5wkKPk/HjlWeOSboPFWcErPrvb0aMPBSDYq6TJLUq1d3jbT+WrlvbTvrPOAZzmb8D86MpRmoc+cQtWnTRmWlR1zul5WVq+8lF3opK+CnifzlxcrNe1WBgRYdP/5vTbj1Xh0o/vSs5vrFL3pq8h/u0CP/WZZpyG9vuUGDovpr+v1zjXuvrt+kTp1DtCV3rXx8fOTv768XX1itZ55eeVZ5wHN4j4jnNHtH5KuvvtLEiRPPGGO321VVVeVytZIVIgA/Ewc/OaThV9yoa38dr7+8sFoZz6Xrkr59mjxP165hem3DS3p9w5talbm2wZjhVw/T8pVP6b5pD6v444PG/auGR+uBB6fqgRnzdPVVN2nCrVM10jpCM2dPO+ufC/i5afZC5OjRo1q1atUZY9LS0hQcHOxyOR1nXp9Fyzly5KhOnjyp0LDOLvdDQ7vIVlrupayAn6a2tlaff/6lCgv369H5T2v/vmJNvffOJs0RHh6qrDdXa9euvbov6eEGY668aqheWfecHprzuF75vw0uYw8/MkNr/2+j/rpqnf5Z9ImyNr2lBfOfVvIDU+Tj43O2Pxo8wFtLM2lpaRoyZIjOO+88hYaGavTo0Tpw4IBLzIkTJ5SYmKhOnTqpQ4cOio+PV2lpqUtMSUmJ4uLi1K5dO4WGhmrmzJk6efKkS8y2bds0aNAgWSwW9enTR5mZmafls3z5cvXq1UuBgYGKjo7W7t27m5xLY5q8NPPGG2+ccfzzzz9vdI6UlBQlJye73Du/U9+mpoJmUltbq717P9I1I67SG29skfTDZtVrRlylFStf8nJ2QPPw9fVVQID7x2a7dg1T1purVVi4X/dOmdVg1/aq4dFau/55zUtNV+ZLr5w23q5tWzkcrk3+uv/82sfHh05wK+atpZnt27crMTFRQ4YM0cmTJ/XQQw9p5MiR+uc//6n27dtLkmbMmKHs7GytX79ewcHBmjZtmm655Ra9++67kqS6ujrFxcUpPDxcO3fu1DfffKM77rhD/v7+euKJH05rHTp0SHFxcZoyZYpWr16tvLw83X333eratausVqskae3atUpOTlZGRoaio6O1ePFiWa1WHThwQKGhoW7l4o4mn5rx9fVt9A+Qj4+P6urqmjItp2a8bOzYm/TSi4s0NXGO9uz5QPcl3aOxY0bpl/1/pbKyI41PgBbBqZmzM2/+g8rN3a6vvzqsDue119ixN2l68h90y8136u9/f1ehoZ0VFtZFlw/qr2eXp+m6keN0/Ltqff31YR07VqmuXcOUvXmNvvrqX5oyeabL/57V/3kYfvUwrV3/vDJWZCpj5X+7wLW1tcam1jkP3afEaRM1/b65en9PoX7xi5760+I/qrBwv+5KuM+zvyk/My19aiahV3yzzbXqi9fO+rPl5eUKDQ3V9u3bdfXVV6uyslJdunTRmjVrNGbMGElScXGx+vXrp/z8fA0bNkybN2/WqFGjdPjwYYWFhUmSMjIyNHv2bJWXlysgIECzZ89Wdna29u/fbzxr/PjxqqioUE5OjiQpOjpaQ4YM0bJlyyRJDodD3bt3V1JSkubMmeNWLu5ockeka9euWrFihW6++eYGxwsLCxUVxUmL/zXr17+hLp1DND/1QYWHd9GHHxYpbtTvKULwP6lLl07KeO5phYd3UVXVcRXtLzaKEEmaePdtSnnofiM+560f9n5M/cMsrVn9mkZcc5Uu7NNLF/bppeKDO13mDu7wwwbuW2+7Re3bt9MDM+/VAzPvNcb/8Y/3NOr6CZKkhU8tl9Pp1NxHktU1IkxHjhxVzuY8/fHRZ1r058dP52jGbpXdbpfdbne5Z7FYZLFYGv1sZeUPRW1ISIgkqaCgQLW1tYqNjTVi+vbtqx49ehh/+efn56t///5GESJJVqtVU6dOVVFRkS6//HLl5+e7zFEfM336dElSTU2NCgoKlJKSYoz7+voqNjZW+fn5bufijiYXIlFRUSooKPjRQoR24/+uFSsztWJlprfTAH6yaYkpZxx/8omlevKJpT86vmb1a1qz+sz/ir13yizdO+X0l6Gdqq6uTk+lPaun0p49Yxxan+b8WywtLU2PPvqoy7158+Zp/vz5Z/ycw+HQ9OnTdeWVV+rSSy+VJNlsNgUEBKhjx44usWFhYbLZbEbMqUVI/Xj92Jliqqqq9P333+vYsWOqq6trMKa4uNjtXNzR5EJk5syZqq6u/tHxPn366O9//3tTpwUA4GepoX2R7nRDEhMTtX//fr3zzjstlVqr0ORCZPjw4Wccb9++vX71q1+dMQYAgNasOb8jxt1lmFNNmzZNWVlZ2rFjh7p162bcDw8PV01NjSoqKlw6EaWlpQoPDzdizKdb6k+ynBpjPt1SWlqqoKAgtW3bVn5+fvLz82sw5tQ5GsvFHbxZFQAAE28d33U6nZo2bZo2bNigrVu3qnfv3i7jUVFR8vf3V15ennHvwIEDKikpUUxMjCQpJiZG+/btU1lZmRGTm5uroKAgRUZGGjGnzlEfUz9HQECAoqKiXGIcDofy8vKMGHdycQdvVgUAoJVITEzUmjVr9Prrr+u8884z9loEBwerbdu2Cg4O1qRJk5ScnKyQkBAFBQUpKSlJMTExxubQkSNHKjIyUrfffrvS09Nls9k0d+5cJSYmGp2ZKVOmaNmyZZo1a5YmTpyorVu3at26dcrOzjZySU5OVkJCggYPHqyhQ4dq8eLFqq6u1l133WXk1Fgu7qAQAQDAxFvvEVm58ofX///61792uf/SSy/pzjvvlCQtWrToh+9Qio+X3W6X1WrVihUrjFg/Pz9lZWVp6tSpiomJUfv27ZWQkKAFCxYYMb1791Z2drZmzJihJUuWqFu3bnrhhReMd4hI0rhx41ReXq7U1FTZbDYNHDhQOTk5LhtYG8vFHXz7LtCK8R4RoGEt/R6RsT0bPhl6NtZ/+XqzzfVzREcEAAATvjXXc9isCgAAvIaOCAAAJt7aI3IuohABAMCklWyfPCewNAMAALyGjggAACbN+WZVnBmFCAAAJuwR8RyWZgAAgNfQEQEAwIT3iHgOhQgAACbsEfEclmYAAIDX0BEBAMCE94h4DoUIAAAmnJrxHAoRAABM2KzqOewRAQAAXkNHBAAAE07NeA6FCAAAJmxW9RyWZgAAgNfQEQEAwISlGc+hEAEAwIRTM57D0gwAAPAaOiIAAJg42KzqMRQiAACYUIZ4DkszAADAa+iIAABgwqkZz6EQAQDAhELEcyhEAAAw4c2qnsMeEQAA4DV0RAAAMGFpxnMoRAAAMOHNqp7D0gwAAPAaOiIAAJiwWdVzKEQAADBhj4jnsDQDAEArsWPHDt14442KiIiQj4+PNm7c6DLudDqVmpqqrl27qm3btoqNjdXBgwddYo4ePaoJEyYoKChIHTt21KRJk3T8+HGXmI8++kjDhw9XYGCgunfvrvT09NNyWb9+vfr27avAwED1799fb775ZpNzcQeFCAAAJk6ns9mupqiurtaAAQO0fPnyBsfT09O1dOlSZWRkaNeuXWrfvr2sVqtOnDhhxEyYMEFFRUXKzc1VVlaWduzYocmTJxvjVVVVGjlypHr27KmCggItXLhQ8+fP13PPPWfE7Ny5U7feeqsmTZqkDz74QKNHj9bo0aO1f//+JuXiDh9nK1kIaxNwgbdTAFqd9gGB3k4BaJUqj3/WovMPCL+i2eb60LbzrD7n4+OjDRs2aPTo0ZJ+KI4iIiL0wAMP6MEHH5QkVVZWKiwsTJmZmRo/frw+/vhjRUZGas+ePRo8eLAkKScnRzfccIO+/vprRUREaOXKlXr44Ydls9kUEBAgSZozZ442btyo4uJiSdK4ceNUXV2trKwsI59hw4Zp4MCBysjIcCsXd9ERAQCgBdntdlVVVblcdru9yfMcOnRINptNsbGxxr3g4GBFR0crPz9fkpSfn6+OHTsaRYgkxcbGytfXV7t27TJirr76aqMIkSSr1aoDBw7o2LFjRsypz6mPqX+OO7m4i0IEAAATZzP+Jy0tTcHBwS5XWlpak3Oy2WySpLCwMJf7YWFhxpjNZlNoaKjLeJs2bRQSEuIS09Acpz7jx2JOHW8sF3dxagYAABNHM+5aSElJUXJysss9i8XSbPP/r6MjAgCASXN2RCwWi4KCglyusylEwsPDJUmlpaUu90tLS42x8PBwlZWVuYyfPHlSR48edYlpaI5Tn/FjMaeON5aLuyhEAAD4H9C7d2+Fh4crLy/PuFdVVaVdu3YpJiZGkhQTE6OKigoVFBQYMVu3bpXD4VB0dLQRs2PHDtXW1hoxubm5uuSSS3T++ecbMac+pz6m/jnu5OIuChEAAEwcTmezXU1x/PhxFRYWqrCwUNIPm0ILCwtVUlIiHx8fTZ8+XY899pjeeOMN7du3T3fccYciIiKMkzX9+vXTddddp3vuuUe7d+/Wu+++q2nTpmn8+PGKiIiQJN12220KCAjQpEmTVFRUpLVr12rJkiUuy0f333+/cnJy9Mwzz6i4uFjz58/X+++/r2nTpkmSW7m4i+O7QCvG8V2gYS19fLdv6JBmm6u4bI/bsdu2bdOIESNOu5+QkKDMzEw5nU7NmzdPzz33nCoqKnTVVVdpxYoVuvjii43Yo0ePatq0adq0aZN8fX0VHx+vpUuXqkOHDkbMRx99pMTERO3Zs0edO3dWUlKSZs+e7fLM9evXa+7cufriiy900UUXKT09XTfccIMx7k4u7qAQAVoxChGgYT/XQuRcxKkZAABMmvPUDM6MQgQAABMnX3rnMWxWBQAAXkNHBAAAE5ZmPIdCBAAAE5ZmPIelGQAA4DV0RAAAMHE6Hd5O4ZxBIQIAgImDpRmPoRABAMCklbzr85zAHhEAAOA1dEQAADBhacZzKEQAADBhacZzWJoBAABeQ0cEAAAT3qzqORQiAACY8GZVz2FpBgAAeA0dEQAATNis6jkUIgAAmHB813NYmgEAAF5DRwQAABOWZjyHQgQAABOO73oOhQgAACZ0RDyHPSIAAMBr6IgAAGDCqRnPoRABAMCEpRnPYWkGAAB4DR0RAABMODXjORQiAACY8KV3nsPSDAAA8Bo6IgAAmLA04zkUIgAAmHBqxnNYmgEAAF5DRwQAABM2q3oOHREAAEycTmezXU21fPly9erVS4GBgYqOjtbu3btb4CdsPShEAAAw8VYhsnbtWiUnJ2vevHnau3evBgwYIKvVqrKyshb6Sb3Px9lKduS0CbjA2ykArU77gEBvpwC0SpXHP2vR+f2b8e+k2pp/uR0bHR2tIUOGaNmyZZIkh8Oh7t27KykpSXPmzGm2nFoTOiIAAJg4m/Gy2+2qqqpyuex2+2nPrKmpUUFBgWJjY417vr6+io2NVX5+fov9rN7WajarnmxCxYiWY7fblZaWppSUFFksFm+nA7QK/Lk49zTn30nz58/Xo48+6nJv3rx5mj9/vsu9I0eOqK6uTmFhYS73w8LCVFxc3Gz5tDatZmkGrUNVVZWCg4NVWVmpoKAgb6cDtAr8ucBPYbfbT+uAWCyW04raw4cP64ILLtDOnTsVExNj3J81a5a2b9+uXbt2eSRfT2s1HREAAH6OGio6GtK5c2f5+fmptLTU5X5paanCw8NbKj2vY48IAACtQEBAgKKiopSXl2fcczgcysvLc+mQ/NzQEQEAoJVITk5WQkKCBg8erKFDh2rx4sWqrq7WXXfd5e3UWgyFCFxYLBbNmzePDXnAKfhzAU8ZN26cysvLlZqaKpvNpoEDByonJ+e0Daw/J2xWBQAAXsMeEQAA4DUUIgAAwGsoRAAAgNdQiAAAAK+hEIHhXPvqaaAxO3bs0I033qiIiAj5+Pho48aN3k4J+NmhEIGkc/Orp4HGVFdXa8CAAVq+fLm3UwF+tji+C0nn5ldPA03h4+OjDRs2aPTo0d5OBfhZoSOCc/arpwEA3kchgjN+9bTNZvNSVgCAcwGFCAAA8BoKEZyzXz0NAPA+ChGcs189DQDwPr59F5LOza+eBhpz/Phxffrpp8avDx06pMLCQoWEhKhHjx5ezAz4+eD4LgzLli3TwoULja+eXrp0qaKjo72dFuA127Zt04gRI067n5CQoMzMTM8nBPwMUYgAAACvYY8IAADwGgoRAADgNRQiAADAayhEAACA11CIAAAAr6EQAQAAXkMhAgAAvIZCBAAAeA2FCAAA8BoKEQAA4DUUIgAAwGsoRAAAgNf8f68+w0q4bvyTAAAAAElFTkSuQmCC",
      "text/plain": [
       "<Figure size 640x480 with 2 Axes>"
      ]
     },
     "metadata": {},
     "output_type": "display_data"
    }
   ],
   "source": [
    "# Modelo\n",
    "mdl = RandomForestClassifier()\n",
    "\n",
    "# Parametros\n",
    "parameters = { \n",
    "    'n_estimators': np.arange(100,400,100),\n",
    "    'max_depth' :  np.arange(3,9,3),\n",
    "    'criterion' :['gini', 'entropy'],\n",
    "    'random_state' : [42]\n",
    "}\n",
    "\n",
    "# Buscando melhor hyperparametro\n",
    "searcher = GridSearchCV(mdl, parameters)\n",
    "searcher.fit(x_train, y_train)\n",
    "\n",
    "# Scores\n",
    "print(\"Melhores parametros :\", searcher.best_params_)\n",
    "print(\"Melhor Score        :\", searcher.best_score_)\n",
    "\n",
    "# Predizendo os valores\n",
    "y_pred = searcher.predict(x_test)\n",
    "\n",
    "# printing the test accuracy\n",
    "print(\"Melhor acurácia encontrada: \", accuracy_score(y_test, y_pred))\n",
    "\n",
    "# Matrix Confusao\n",
    "cm = confusion_matrix(y_test, y_pred)\n",
    "print(\"Matrix de Confusão : \\n\")\n",
    "sns.heatmap(cm,annot=True,fmt=\"d\")\n",
    "plt.show()"
   ]
  },
  {
   "cell_type": "code",
   "execution_count": 17,
   "id": "3cbdb90f",
   "metadata": {},
   "outputs": [
    {
     "data": {
      "image/png": "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",
      "text/plain": [
       "<Figure size 640x480 with 1 Axes>"
      ]
     },
     "metadata": {},
     "output_type": "display_data"
    }
   ],
   "source": [
    "from sklearn.inspection import permutation_importance\n",
    "\n",
    "# Pegando o melhor modelo do Searcher\n",
    "model = searcher.best_estimator_\n",
    "result = permutation_importance(model, x_train, y_train, n_repeats=10, n_jobs=-1)\n",
    "sorted = result.importances_std.argsort()\n",
    "fig, ax = plt.subplots()\n",
    "ax.pie(result.importances_std[sorted], labels=x_train.columns[sorted], autopct='%1.1f%%')\n",
    "plt.show()"
   ]
  },
  {
   "cell_type": "markdown",
   "id": "6b205319",
   "metadata": {},
   "source": [
    "## SVC"
   ]
  },
  {
   "cell_type": "code",
   "execution_count": 18,
   "id": "08fd2274",
   "metadata": {},
   "outputs": [],
   "source": [
    "df = obitos_raca_cor.copy()\n",
    "df.drop(columns=['cs_sexo', 'nome_munic'], inplace=True)\n",
    "list_categorical_columns = list(df.select_dtypes(include='object').columns)\n",
    "list_numerical_columns = list(df.select_dtypes(include='number').columns)\n",
    "df = dataset_scaler(df, clean_nan=True)\n",
    "y = df['obito']\n",
    "X = df.drop(columns=['obito'])\n",
    "x_train, x_test, y_train, y_test = train_test_split(X, y, test_size = 1/3, random_state=42)\n",
    "rus = RandomUnderSampler(random_state=42, sampling_strategy = 0.5)\n",
    "x_train, y_train = rus.fit_resample(x_train, y_train)"
   ]
  },
  {
   "cell_type": "code",
   "execution_count": null,
   "id": "197a524b",
   "metadata": {},
   "outputs": [],
   "source": [
    "# Modelo\n",
    "mdl = SVC()\n",
    "\n",
    "# Parametros\n",
    "parameters = {\"C\":np.arange(1,12,3),\n",
    "              'gamma':[0.00001, 0.0001,0.01,0.1,1],\n",
    "              'random_state' : [42]}\n",
    "\n",
    "# Buscando melhor hyperparametro\n",
    "searcher = GridSearchCV(mdl, parameters)\n",
    "searcher.fit(x_train, y_train)\n",
    "\n",
    "# Scores\n",
    "print(\"Melhores parametros :\", searcher.best_params_)\n",
    "print(\"Melhor Score        :\", searcher.best_score_)\n",
    "\n",
    "# Predizendo os valores\n",
    "y_pred = searcher.predict(x_test)\n",
    "\n",
    "# printing the test accuracy\n",
    "print(\"Melhor acurácia encontrada: \", accuracy_score(y_test, y_pred))\n",
    "\n",
    "# Matrix Confusao\n",
    "cm = confusion_matrix(y_test, y_pred)\n",
    "print(\"Matrix de Confusão : \\n\")\n",
    "sns.heatmap(cm,annot=True,fmt=\"d\")\n",
    "plt.show()"
   ]
  },
  {
   "cell_type": "code",
   "execution_count": null,
   "id": "bc70fa4b",
   "metadata": {},
   "outputs": [],
   "source": [
    "from sklearn.inspection import permutation_importance\n",
    "\n",
    "# Pegando o melhor modelo do Searcher\n",
    "model = searcher.best_estimator_\n",
    "result = permutation_importance(model, x_train, y_train, n_repeats=10, n_jobs=-1)\n",
    "sorted = result.importances_std.argsort()\n",
    "fig, ax = plt.subplots()\n",
    "ax.pie(result.importances_std[sorted], labels=x_train.columns[sorted], autopct='%1.1f%%')\n",
    "plt.show()"
   ]
  },
  {
   "cell_type": "markdown",
   "id": "05bced24",
   "metadata": {},
   "source": [
    "## Decision Tree"
   ]
  },
  {
   "cell_type": "code",
   "execution_count": null,
   "id": "c35c69e8",
   "metadata": {},
   "outputs": [],
   "source": [
    "df = obitos_raca_cor.copy()\n",
    "df.drop(columns=['cs_sexo', 'nome_munic'], inplace=True)\n",
    "list_categorical_columns = list(df.select_dtypes(include='object').columns)\n",
    "list_numerical_columns = list(df.select_dtypes(include='number').columns)\n",
    "df = dataset_scaler(df, clean_nan=True)\n",
    "y = df['obito']\n",
    "X = df.drop(columns=['obito'])\n",
    "x_train, x_test, y_train, y_test = train_test_split(X, y, test_size = 1/3, random_state=42)\n",
    "rus = RandomUnderSampler(random_state=42, sampling_strategy = 0.5)\n",
    "x_train, y_train = rus.fit_resample(x_train, y_train)"
   ]
  },
  {
   "cell_type": "code",
   "execution_count": null,
   "id": "cfd125f1",
   "metadata": {},
   "outputs": [],
   "source": [
    "# Modelo\n",
    "mdl = DecisionTreeClassifier()\n",
    "\n",
    "# Parametros\n",
    "parameters = {'criterion':['gini','entropy'],\n",
    "              'max_depth': np.arange(1, 20, 1),\n",
    "              'random_state' : [42]}\n",
    "\n",
    "# Buscando melhor hyperparametro\n",
    "searcher = GridSearchCV(mdl, parameters)\n",
    "searcher.fit(x_train, y_train)\n",
    "\n",
    "# Scores\n",
    "print(\"Melhores parametros :\", searcher.best_params_)\n",
    "print(\"Melhor Score        :\", searcher.best_score_)\n",
    "\n",
    "# Predizendo os valores\n",
    "y_pred = searcher.predict(x_test)\n",
    "\n",
    "# printing the test accuracy\n",
    "print(\"Melhor acurácia encontrada: \", accuracy_score(y_test, y_pred))\n",
    "\n",
    "# Matrix Confusao\n",
    "cm = confusion_matrix(y_test, y_pred)\n",
    "print(\"Matrix de Confusão : \\n\")\n",
    "sns.heatmap(cm,annot=True,fmt=\"d\")\n",
    "plt.show()"
   ]
  },
  {
   "cell_type": "code",
   "execution_count": null,
   "id": "eb55d94a",
   "metadata": {},
   "outputs": [],
   "source": [
    "from sklearn.inspection import permutation_importance\n",
    "\n",
    "# Pegando o melhor modelo do Searcher\n",
    "model = searcher.best_estimator_\n",
    "result = permutation_importance(model, x_train, y_train, n_repeats=10, n_jobs=-1)\n",
    "sorted = result.importances_std.argsort()\n",
    "fig, ax = plt.subplots()\n",
    "ax.pie(result.importances_std[sorted], labels=x_train.columns[sorted], autopct='%1.1f%%')\n",
    "plt.show()"
   ]
  },
  {
   "cell_type": "markdown",
   "id": "34a5714d",
   "metadata": {},
   "source": [
    "## KNN Classifier"
   ]
  },
  {
   "cell_type": "code",
   "execution_count": null,
   "id": "e657f33d",
   "metadata": {},
   "outputs": [],
   "source": [
    "df = obitos_raca_cor.copy()\n",
    "df.drop(columns=['cs_sexo', 'nome_munic'], inplace=True)\n",
    "list_categorical_columns = list(df.select_dtypes(include='object').columns)\n",
    "list_numerical_columns = list(df.select_dtypes(include='number').columns)\n",
    "df = dataset_scaler(df, clean_nan=True)\n",
    "y = df['obito']\n",
    "X = df.drop(columns=['obito'])\n",
    "x_train, x_test, y_train, y_test = train_test_split(X, y, test_size = 1/3, random_state=42)\n",
    "rus = RandomUnderSampler(random_state=42, sampling_strategy = 0.5)\n",
    "x_train, y_train = rus.fit_resample(x_train, y_train)"
   ]
  },
  {
   "cell_type": "code",
   "execution_count": null,
   "id": "5a2cb24b",
   "metadata": {},
   "outputs": [],
   "source": [
    "# Modelo\n",
    "mdl = KNeighborsClassifier(metric='minkowski')\n",
    "\n",
    "# Parametros\n",
    "parameters = {'n_neighbors':np.arange(1,30,1),\n",
    "              'p':np.arange(1,8,1)}\n",
    "\n",
    "# Buscando melhor hyperparametro\n",
    "searcher = GridSearchCV(mdl, parameters)\n",
    "searcher.fit(x_train, y_train)\n",
    "\n",
    "# Scores\n",
    "print(\"Melhores parametros :\", searcher.best_params_)\n",
    "print(\"Melhor Score        :\", searcher.best_score_)\n",
    "\n",
    "# Predizendo os valores\n",
    "y_pred = searcher.predict(x_test)\n",
    "\n",
    "# Melhor acuracia\n",
    "print(\"Melhor acurácia encontrada: \", accuracy_score(y_test, y_pred))\n",
    "\n",
    "# Matrix Confusao\n",
    "cm = confusion_matrix(y_test, y_pred)\n",
    "print(\"Matrix de Confusão : \\n\")\n",
    "sns.heatmap(cm,annot=True,fmt=\"d\")\n",
    "plt.show()"
   ]
  },
  {
   "cell_type": "code",
   "execution_count": null,
   "id": "a6affdef",
   "metadata": {},
   "outputs": [],
   "source": [
    "from sklearn.inspection import permutation_importance\n",
    "\n",
    "# Pegando o melhor modelo do Searcher\n",
    "model = searcher.best_estimator_\n",
    "result = permutation_importance(model, x_train, y_train, n_repeats=10, n_jobs=-1)\n",
    "sorted = result.importances_std.argsort()\n",
    "fig, ax = plt.subplots()\n",
    "ax.pie(result.importances_std[sorted], labels=x_train.columns[sorted], autopct='%1.1f%%')\n",
    "plt.show()"
   ]
  },
  {
   "cell_type": "markdown",
   "id": "26373773",
   "metadata": {},
   "source": [
    "## GaussianNB"
   ]
  },
  {
   "cell_type": "code",
   "execution_count": null,
   "id": "a9bcac45",
   "metadata": {},
   "outputs": [],
   "source": [
    "df = obitos_raca_cor.copy()\n",
    "df.drop(columns=['cs_sexo', 'nome_munic'], inplace=True)\n",
    "list_categorical_columns = list(df.select_dtypes(include='object').columns)\n",
    "list_numerical_columns = list(df.select_dtypes(include='number').columns)\n",
    "df = dataset_scaler(df, clean_nan=True)\n",
    "y = df['obito']\n",
    "X = df.drop(columns=['obito'])\n",
    "x_train, x_test, y_train, y_test = train_test_split(X, y, test_size = 1/3, random_state=42)\n",
    "rus = RandomUnderSampler(random_state=42, sampling_strategy = 0.5)\n",
    "x_train, y_train = rus.fit_resample(x_train, y_train)"
   ]
  },
  {
   "cell_type": "code",
   "execution_count": null,
   "id": "4eacc3c6",
   "metadata": {},
   "outputs": [],
   "source": [
    "# Modelo\n",
    "mdl = GaussianNB()\n",
    "\n",
    "# Parametros\n",
    "parameters = {'var_smoothing': np.logspace(0,-9, num=100)}\n",
    "\n",
    "# Buscando melhor hyperparametro\n",
    "searcher = GridSearchCV(estimator=mdl, \n",
    "                 param_grid=parameters, \n",
    "                 scoring='accuracy') \n",
    "searcher.fit(x_train, y_train)\n",
    "\n",
    "# Scores\n",
    "print(\"Melhores parametros :\", searcher.best_params_)\n",
    "print(\"Melhor Score        :\", searcher.best_score_)\n",
    "\n",
    "# Predizendo os valores\n",
    "y_pred = searcher.predict(x_test)\n",
    "\n",
    "# printing the test accuracy\n",
    "print(\"Melhor acurácia encontrada: \", accuracy_score(y_test, y_pred))\n",
    "\n",
    "# Matrix Confusao\n",
    "cm = confusion_matrix(y_test, y_pred)\n",
    "print(\"Matrix de Confusão : \\n\")\n",
    "sns.heatmap(cm,annot=True,fmt=\"d\")\n",
    "plt.show()"
   ]
  },
  {
   "cell_type": "code",
   "execution_count": null,
   "id": "6b083224",
   "metadata": {},
   "outputs": [],
   "source": [
    "from sklearn.inspection import permutation_importance\n",
    "\n",
    "# Pegando o melhor modelo do Searcher\n",
    "model = searcher.best_estimator_\n",
    "result = permutation_importance(model, x_train, y_train, n_repeats=10, n_jobs=-1)\n",
    "sorted = result.importances_std.argsort()\n",
    "fig, ax = plt.subplots()\n",
    "ax.pie(result.importances_std[sorted], labels=x_train.columns[sorted], autopct='%1.1f%%')\n",
    "plt.show()"
   ]
  },
  {
   "cell_type": "markdown",
   "id": "d2f698f6",
   "metadata": {},
   "source": [
    "---\n",
    "---\n",
    "\n",
    "## Modelos De Regressão"
   ]
  },
  {
   "cell_type": "code",
   "execution_count": null,
   "id": "5284e415",
   "metadata": {},
   "outputs": [],
   "source": [
    "def dataset_scaler(df: pd.DataFrame, one_hot: bool = False, clean_nan: bool = False):\n",
    "  df1 = df.copy(deep=True)\n",
    "\n",
    "  X = df1.drop(['idade'],axis=1)\n",
    "  y = df1[['idade']]\n",
    "  if one_hot:\n",
    "    df1 = pd.get_dummies(df1, columns = list_categorical_columns)\n",
    "  else:\n",
    "    le = LabelEncoder()\n",
    "    for c in list_categorical_columns:\n",
    "      df1[c] = le.fit_transform(X[c])\n",
    "    \n",
    "  if clean_nan:\n",
    "    imputer = SimpleImputer()\n",
    "    df1[list_numerical_columns] = imputer.fit_transform(df1[list_numerical_columns])\n",
    "#     y_imputer = SimpleImputer(missing_values=np.nan)\n",
    "#     y =  y_imputer.fit_transform(y)\n",
    "  scaler = RobustScaler()\n",
    "  df1[list_numerical_columns] = scaler.fit_transform(df1[list_numerical_columns])\n",
    "\n",
    "  return df1"
   ]
  },
  {
   "cell_type": "markdown",
   "id": "de592011",
   "metadata": {},
   "source": [
    "## HistGradientBoostingRegressor"
   ]
  },
  {
   "cell_type": "code",
   "execution_count": null,
   "id": "dd1d846d",
   "metadata": {
    "scrolled": true
   },
   "outputs": [],
   "source": [
    "df = obitos_raca_cor.copy()\n",
    "df.drop(columns=['cs_sexo', 'nome_munic'], inplace=True)\n",
    "list_categorical_columns = list(df.select_dtypes(include='object').columns)\n",
    "list_numerical_columns = list(df.select_dtypes(include='number').columns)\n",
    "df = dataset_scaler(df, clean_nan=True)\n",
    "y = df['idade']\n",
    "X = df.drop(columns=['idade'])\n",
    "x_train, x_test, y_train, y_test = train_test_split(X, y, test_size = 1/3, random_state=42)\n",
    "rus = RandomUnderSampler(random_state=42, sampling_strategy = 0.5)\n",
    "x_train, y_train = rus.fit_resample(x_train, y_train)"
   ]
  },
  {
   "cell_type": "code",
   "execution_count": null,
   "id": "bed049d1",
   "metadata": {},
   "outputs": [],
   "source": [
    "from sklearn.ensemble import HistGradientBoostingRegressor\n",
    "\n",
    "list_categorical_columns = list(X.select_dtypes(include='object').columns)\n",
    "model = HistGradientBoostingRegressor(categorical_features=list_categorical_columns)\n",
    "\n",
    "# Parametros\n",
    "parameters = {\n",
    "    'loss' :  ['squared_error', 'poisson'],\n",
    "    'max_iter': [500],\n",
    "    'max_bins': [255],\n",
    "    'learning_rate': np.arange(0.001, 0.12, 0.01)\n",
    "}\n",
    "\n",
    "# Buscando melhor hyperparametro\n",
    "searcher = GridSearchCV(model, parameters)\n",
    "searcher.fit(x_train, y_train)\n",
    "\n",
    "# Scores\n",
    "print(\"Melhores parametros :\", searcher.best_params_)\n",
    "print(\"Melhor Score        :\", searcher.best_score_)\n",
    "\n",
    "# Predizendo os valores\n",
    "y_pred = searcher.predict(x_test)\n",
    "\n",
    "# printing the test accuracy\n",
    "print(\"MSE encontrada: \", mean_squared_error(y_test, y_pred))"
   ]
  },
  {
   "cell_type": "code",
   "execution_count": null,
   "id": "0cdfadad",
   "metadata": {},
   "outputs": [],
   "source": [
    "from sklearn.inspection import permutation_importance\n",
    "\n",
    "# Pegando o melhor modelo do Searcher\n",
    "model = searcher.best_estimator_\n",
    "result = permutation_importance(model, x_train, y_train, n_repeats=10, n_jobs=-1)\n",
    "sorted = result.importances_std.argsort()\n",
    "fig, ax = plt.subplots()\n",
    "ax.pie(result.importances_std[sorted], labels=x_train.columns[sorted], autopct='%1.1f%%')\n",
    "plt.show()"
   ]
  },
  {
   "cell_type": "markdown",
   "id": "0917b3a9",
   "metadata": {},
   "source": [
    "## Adaboost"
   ]
  },
  {
   "cell_type": "code",
   "execution_count": null,
   "id": "197a5b01",
   "metadata": {},
   "outputs": [],
   "source": [
    "df = obitos_raca_cor.copy()\n",
    "df.drop(columns=['cs_sexo', 'nome_munic'], inplace=True)\n",
    "list_categorical_columns = list(df.select_dtypes(include='object').columns)\n",
    "list_numerical_columns = list(df.select_dtypes(include='number').columns)\n",
    "df = dataset_scaler(df, clean_nan=True)\n",
    "y = df['idade']\n",
    "X = df.drop(columns=['idade'])\n",
    "x_train, x_test, y_train, y_test = train_test_split(X, y, test_size = 1/3, random_state=42)\n",
    "rus = RandomUnderSampler(random_state=42, sampling_strategy = 0.5)\n",
    "x_train, y_train = rus.fit_resample(x_train, y_train)"
   ]
  },
  {
   "cell_type": "code",
   "execution_count": null,
   "id": "83a3fcad",
   "metadata": {},
   "outputs": [],
   "source": [
    "from sklearn.ensemble import AdaBoostRegressor\n",
    "\n",
    "model = AdaBoostRegressor().fit(x_train, y_train)\n",
    "\n",
    "# Parametros\n",
    "parameters = {\n",
    "    'loss' :  ['linear', 'square'],\n",
    "    'learning_rate': [0.01]\n",
    "}\n",
    "\n",
    "# Buscando melhor hyperparametro\n",
    "searcher = GridSearchCV(model, parameters)\n",
    "searcher.fit(x_train, y_train)\n",
    "\n",
    "# Scores\n",
    "print(\"Melhores parametros :\", searcher.best_params_)\n",
    "print(\"Melhor Score        :\", searcher.best_score_)\n",
    "\n",
    "# Predizendo os valores\n",
    "y_pred = searcher.predict(x_test)\n",
    "\n",
    "# printing the test accuracy\n",
    "print(\"MSE: \", mean_squared_error(y_test, y_pred))\n"
   ]
  },
  {
   "cell_type": "code",
   "execution_count": null,
   "id": "27f68380",
   "metadata": {},
   "outputs": [],
   "source": [
    "from sklearn.inspection import permutation_importance\n",
    "\n",
    "# Pegando o melhor modelo do Searcher\n",
    "model = searcher.best_estimator_\n",
    "result = permutation_importance(model, x_train, y_train, n_repeats=10, n_jobs=-1)\n",
    "sorted = result.importances_std.argsort()\n",
    "fig, ax = plt.subplots()\n",
    "ax.pie(result.importances_std[sorted], labels=x_train.columns[sorted], autopct='%1.1f%%')\n",
    "plt.show()"
   ]
  },
  {
   "cell_type": "markdown",
   "id": "bfb9879a",
   "metadata": {},
   "source": [
    "## Random Forest"
   ]
  },
  {
   "cell_type": "code",
   "execution_count": null,
   "id": "5a358fb9",
   "metadata": {},
   "outputs": [],
   "source": [
    "df = obitos_raca_cor.copy()\n",
    "df.drop(columns=['cs_sexo', 'nome_munic'], inplace=True)\n",
    "list_categorical_columns = list(df.select_dtypes(include='object').columns)\n",
    "list_numerical_columns = list(df.select_dtypes(include='number').columns)\n",
    "df = dataset_scaler(df, clean_nan=True)\n",
    "y = df['idade']\n",
    "X = df.drop(columns=['idade'])\n",
    "x_train, x_test, y_train, y_test = train_test_split(X, y, test_size = 1/3, random_state=42)\n",
    "rus = RandomUnderSampler(random_state=42, sampling_strategy = 0.5)\n",
    "x_train, y_train = rus.fit_resample(x_train, y_train)"
   ]
  },
  {
   "cell_type": "code",
   "execution_count": null,
   "id": "a2b5110e",
   "metadata": {},
   "outputs": [],
   "source": [
    "# Modelo\n",
    "from sklearn.ensemble import RandomForestRegressor\n",
    "\n",
    "mdl = RandomForestRegressor()\n",
    "\n",
    "# Parametros\n",
    "parameters = {\n",
    "    'n_estimators' :  np.arange(50, 200, 50),\n",
    "    'random_state' : [42]\n",
    "}\n",
    "\n",
    "# Buscando melhor hyperparametro\n",
    "searcher = GridSearchCV(mdl, parameters)\n",
    "searcher.fit(x_train, y_train)\n",
    "\n",
    "# Scores\n",
    "print(\"Melhores parametros :\", searcher.best_params_)\n",
    "print(\"Melhor Score        :\", searcher.best_score_)"
   ]
  },
  {
   "cell_type": "code",
   "execution_count": null,
   "id": "e51e7e34",
   "metadata": {},
   "outputs": [],
   "source": [
    "best_model = searcher.best_estimator_\n",
    "pipe_rfr = make_pipeline(StandardScaler(), best_model)\n",
    "pipe_rfr.fit(x_train, y_train)\n",
    "pipe_rfr.score(x_test, y_test)"
   ]
  },
  {
   "cell_type": "markdown",
   "id": "cc68802c",
   "metadata": {},
   "source": [
    "## SVM"
   ]
  },
  {
   "cell_type": "code",
   "execution_count": null,
   "id": "bb2911c3",
   "metadata": {},
   "outputs": [],
   "source": [
    "df = obitos_raca_cor.copy()\n",
    "df.drop(columns=['cs_sexo', 'nome_munic'], inplace=True)\n",
    "list_categorical_columns = list(df.select_dtypes(include='object').columns)\n",
    "list_numerical_columns = list(df.select_dtypes(include='number').columns)\n",
    "df = dataset_scaler(df, clean_nan=True)\n",
    "y = df['idade']\n",
    "X = df.drop(columns=['idade'])\n",
    "x_train, x_test, y_train, y_test = train_test_split(X, y, test_size = 1/3, random_state=42)\n",
    "rus = RandomUnderSampler(random_state=42, sampling_strategy = 0.5)\n",
    "x_train, y_train = rus.fit_resample(x_train, y_train)"
   ]
  },
  {
   "cell_type": "code",
   "execution_count": null,
   "id": "e3d4b131",
   "metadata": {},
   "outputs": [],
   "source": [
    "# Modelo\n",
    "from sklearn.svm import SVR\n",
    "mdl = SVR()\n",
    "\n",
    "# Parametros\n",
    "parameters = {\n",
    "    'kernel': ['poly'],\n",
    "    'C': [0.1,1,10]\n",
    "}\n",
    "\n",
    "# Buscando melhor hyperparametro\n",
    "searcher = GridSearchCV(mdl, parameters)\n",
    "searcher.fit(x_train, y_train)\n",
    "\n",
    "# Scores\n",
    "print(\"Melhores parametros :\", searcher.best_params_)\n",
    "print(\"Melhor Score        :\", searcher.best_score_)"
   ]
  },
  {
   "cell_type": "code",
   "execution_count": null,
   "id": "ec3af6ca",
   "metadata": {},
   "outputs": [],
   "source": [
    "best_model = searcher.best_estimator_\n",
    "pipe_svm = make_pipeline(StandardScaler(), best_model)\n",
    "pipe_svm.fit(x_train, y_train)\n",
    "pipe_svm.score(x_test, y_test)"
   ]
  },
  {
   "cell_type": "markdown",
   "id": "7aae9f72",
   "metadata": {},
   "source": [
    "## KNN Regressor"
   ]
  },
  {
   "cell_type": "code",
   "execution_count": null,
   "id": "883ec190",
   "metadata": {},
   "outputs": [],
   "source": [
    "df = obitos_raca_cor.copy()\n",
    "df.drop(columns=['cs_sexo', 'nome_munic'], inplace=True)\n",
    "list_categorical_columns = list(df.select_dtypes(include='object').columns)\n",
    "list_numerical_columns = list(df.select_dtypes(include='number').columns)\n",
    "df = dataset_scaler(df, clean_nan=True)\n",
    "y = df['idade']\n",
    "X = df.drop(columns=['idade'])\n",
    "x_train, x_test, y_train, y_test = train_test_split(X, y, test_size = 1/3, random_state=42)\n",
    "rus = RandomUnderSampler(random_state=42, sampling_strategy = 0.5)\n",
    "x_train, y_train = rus.fit_resample(x_train, y_train)"
   ]
  },
  {
   "cell_type": "code",
   "execution_count": null,
   "id": "444d01f1",
   "metadata": {},
   "outputs": [],
   "source": [
    "from sklearn.neighbors import KNeighborsRegressor\n",
    "\n",
    "# Modelo\n",
    "mdl = KNeighborsRegressor()\n",
    "\n",
    "# Parametros\n",
    "parameters = {\n",
    "    'n_neighbors' :  [3,7,11,15,21]\n",
    "}\n",
    "\n",
    "# Buscando melhor hyperparametro\n",
    "searcher = GridSearchCV(mdl, parameters)\n",
    "searcher.fit(x_train, y_train)\n",
    "\n",
    "# Scores\n",
    "print(\"Melhores parametros :\", searcher.best_params_)\n",
    "print(\"Melhor Score        :\", searcher.best_score_)"
   ]
  },
  {
   "cell_type": "code",
   "execution_count": null,
   "id": "668c3343",
   "metadata": {},
   "outputs": [],
   "source": [
    "best_model = searcher.best_estimator_\n",
    "pipe_knn = make_pipeline(StandardScaler(), best_model)\n",
    "pipe_knn.fit(x_train, y_train)\n",
    "pipe_knn.score(x_test, y_test)"
   ]
  },
  {
   "cell_type": "markdown",
   "id": "63a387ea",
   "metadata": {},
   "source": [
    "- notebook com comoribdades e sem\n",
    "- notebook com e sem imputacao\n",
    "- influencia das features\n"
   ]
  },
  {
   "cell_type": "code",
   "execution_count": null,
   "id": "a85c58da",
   "metadata": {},
   "outputs": [],
   "source": []
  }
 ],
 "metadata": {
  "kernelspec": {
   "display_name": "Python 3 (ipykernel)",
   "language": "python",
   "name": "python3"
  },
  "language_info": {
   "codemirror_mode": {
    "name": "ipython",
    "version": 3
   },
   "file_extension": ".py",
   "mimetype": "text/x-python",
   "name": "python",
   "nbconvert_exporter": "python",
   "pygments_lexer": "ipython3",
   "version": "3.10.11"
  }
 },
 "nbformat": 4,
 "nbformat_minor": 5
}
